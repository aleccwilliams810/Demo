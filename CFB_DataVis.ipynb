{
 "cells": [
  {
   "cell_type": "code",
   "execution_count": 22,
   "id": "66c01fa0-692f-4303-b4c4-c3653b9e3193",
   "metadata": {
    "tags": []
   },
   "outputs": [],
   "source": [
    "import cfbd\n",
    "import pandas as pd\n",
    "import plotly"
   ]
  },
  {
   "cell_type": "code",
   "execution_count": 23,
   "id": "959516fd-a8e2-409c-bb44-30b8e846a758",
   "metadata": {
    "tags": []
   },
   "outputs": [],
   "source": [
    "from plotly import graph_objects as go"
   ]
  },
  {
   "cell_type": "code",
   "execution_count": 49,
   "id": "0e2a8e41-2767-4f86-ba71-e9391f694408",
   "metadata": {
    "tags": []
   },
   "outputs": [],
   "source": [
    "configuration = cfbd.Configuration()\n",
    "configuration.api_key['Authorization'] = 'JOo7NPQiRwoWx1kDmv1VDiujh+ra/nfYLRGy0TVt2KhLM+Yiu6BpXOC7W4YtjBdq'\n",
    "configuration.api_key_prefix['Authorization'] = 'Bearer'"
   ]
  },
  {
   "cell_type": "code",
   "execution_count": 50,
   "id": "f04c9644-1327-4fe0-8fa9-941a5b9f8428",
   "metadata": {
    "tags": []
   },
   "outputs": [
    {
     "data": {
      "text/html": [
       "<div>\n",
       "<style scoped>\n",
       "    .dataframe tbody tr th:only-of-type {\n",
       "        vertical-align: middle;\n",
       "    }\n",
       "\n",
       "    .dataframe tbody tr th {\n",
       "        vertical-align: top;\n",
       "    }\n",
       "\n",
       "    .dataframe thead th {\n",
       "        text-align: right;\n",
       "    }\n",
       "</style>\n",
       "<table border=\"1\" class=\"dataframe\">\n",
       "  <thead>\n",
       "    <tr style=\"text-align: right;\">\n",
       "      <th></th>\n",
       "      <th>team</th>\n",
       "      <th>color</th>\n",
       "      <th>alt_color</th>\n",
       "    </tr>\n",
       "  </thead>\n",
       "  <tbody>\n",
       "    <tr>\n",
       "      <th>0</th>\n",
       "      <td>Air Force</td>\n",
       "      <td>#004a7b</td>\n",
       "      <td>#ffffff</td>\n",
       "    </tr>\n",
       "    <tr>\n",
       "      <th>1</th>\n",
       "      <td>Akron</td>\n",
       "      <td>#00285e</td>\n",
       "      <td>#84754e</td>\n",
       "    </tr>\n",
       "    <tr>\n",
       "      <th>2</th>\n",
       "      <td>Alabama</td>\n",
       "      <td>#690014</td>\n",
       "      <td>#f1f2f3</td>\n",
       "    </tr>\n",
       "    <tr>\n",
       "      <th>3</th>\n",
       "      <td>Appalachian State</td>\n",
       "      <td>#000000</td>\n",
       "      <td>#ffcd00</td>\n",
       "    </tr>\n",
       "    <tr>\n",
       "      <th>4</th>\n",
       "      <td>Arizona</td>\n",
       "      <td>#002449</td>\n",
       "      <td>#00205b</td>\n",
       "    </tr>\n",
       "  </tbody>\n",
       "</table>\n",
       "</div>"
      ],
      "text/plain": [
       "                team    color alt_color\n",
       "0          Air Force  #004a7b   #ffffff\n",
       "1              Akron  #00285e   #84754e\n",
       "2            Alabama  #690014   #f1f2f3\n",
       "3  Appalachian State  #000000   #ffcd00\n",
       "4            Arizona  #002449   #00205b"
      ]
     },
     "execution_count": 50,
     "metadata": {},
     "output_type": "execute_result"
    }
   ],
   "source": [
    "api_instance = cfbd.TeamsApi(cfbd.ApiClient(configuration))\n",
    "teams = api_instance.get_fbs_teams(year=2022)\n",
    "\n",
    "teams_df = pd.DataFrame.from_records([dict(team=t.school, color=t.color, alt_color=t.alt_color) for t in teams])\n",
    "teams_df.head()"
   ]
  },
  {
   "cell_type": "code",
   "execution_count": 51,
   "id": "048323d5-f5cb-448a-84ab-129c4518342d",
   "metadata": {
    "tags": []
   },
   "outputs": [
    {
     "data": {
      "text/html": [
       "<div>\n",
       "<style scoped>\n",
       "    .dataframe tbody tr th:only-of-type {\n",
       "        vertical-align: middle;\n",
       "    }\n",
       "\n",
       "    .dataframe tbody tr th {\n",
       "        vertical-align: top;\n",
       "    }\n",
       "\n",
       "    .dataframe thead th {\n",
       "        text-align: right;\n",
       "    }\n",
       "</style>\n",
       "<table border=\"1\" class=\"dataframe\">\n",
       "  <thead>\n",
       "    <tr style=\"text-align: right;\">\n",
       "      <th></th>\n",
       "      <th>season</th>\n",
       "      <th>team</th>\n",
       "      <th>conference</th>\n",
       "      <th>total_ppa</th>\n",
       "      <th>total_passing_ppa</th>\n",
       "      <th>total_receiving_ppa</th>\n",
       "      <th>total_rushing_ppa</th>\n",
       "      <th>percent_ppa</th>\n",
       "      <th>percent_passing_ppa</th>\n",
       "      <th>percent_receiving_ppa</th>\n",
       "      <th>percent_rushing_ppa</th>\n",
       "      <th>usage</th>\n",
       "      <th>passing_usage</th>\n",
       "      <th>receiving_usage</th>\n",
       "      <th>rushing_usage</th>\n",
       "    </tr>\n",
       "  </thead>\n",
       "  <tbody>\n",
       "    <tr>\n",
       "      <th>0</th>\n",
       "      <td>2021</td>\n",
       "      <td>Air Force</td>\n",
       "      <td>Mountain West</td>\n",
       "      <td>126.8</td>\n",
       "      <td>35.0</td>\n",
       "      <td>20.8</td>\n",
       "      <td>71.0</td>\n",
       "      <td>0.742</td>\n",
       "      <td>1.000</td>\n",
       "      <td>0.540</td>\n",
       "      <td>0.724</td>\n",
       "      <td>0.724</td>\n",
       "      <td>1.000</td>\n",
       "      <td>0.745</td>\n",
       "      <td>0.662</td>\n",
       "    </tr>\n",
       "    <tr>\n",
       "      <th>1</th>\n",
       "      <td>2021</td>\n",
       "      <td>Akron</td>\n",
       "      <td>Mid-American</td>\n",
       "      <td>27.5</td>\n",
       "      <td>-19.8</td>\n",
       "      <td>23.1</td>\n",
       "      <td>24.2</td>\n",
       "      <td>0.611</td>\n",
       "      <td>0.756</td>\n",
       "      <td>0.545</td>\n",
       "      <td>0.826</td>\n",
       "      <td>0.805</td>\n",
       "      <td>0.902</td>\n",
       "      <td>0.694</td>\n",
       "      <td>0.788</td>\n",
       "    </tr>\n",
       "    <tr>\n",
       "      <th>2</th>\n",
       "      <td>2021</td>\n",
       "      <td>Alabama</td>\n",
       "      <td>SEC</td>\n",
       "      <td>148.6</td>\n",
       "      <td>16.7</td>\n",
       "      <td>90.1</td>\n",
       "      <td>41.7</td>\n",
       "      <td>0.198</td>\n",
       "      <td>0.058</td>\n",
       "      <td>0.268</td>\n",
       "      <td>0.336</td>\n",
       "      <td>0.260</td>\n",
       "      <td>0.072</td>\n",
       "      <td>0.349</td>\n",
       "      <td>0.368</td>\n",
       "    </tr>\n",
       "    <tr>\n",
       "      <th>3</th>\n",
       "      <td>2021</td>\n",
       "      <td>Appalachian State</td>\n",
       "      <td>Sun Belt</td>\n",
       "      <td>279.8</td>\n",
       "      <td>12.1</td>\n",
       "      <td>165.3</td>\n",
       "      <td>102.4</td>\n",
       "      <td>0.649</td>\n",
       "      <td>0.125</td>\n",
       "      <td>0.943</td>\n",
       "      <td>0.644</td>\n",
       "      <td>0.584</td>\n",
       "      <td>0.030</td>\n",
       "      <td>0.953</td>\n",
       "      <td>0.734</td>\n",
       "    </tr>\n",
       "    <tr>\n",
       "      <th>4</th>\n",
       "      <td>2021</td>\n",
       "      <td>Arizona</td>\n",
       "      <td>Pac-12</td>\n",
       "      <td>40.2</td>\n",
       "      <td>-15.2</td>\n",
       "      <td>41.4</td>\n",
       "      <td>14.0</td>\n",
       "      <td>0.442</td>\n",
       "      <td>-2.980</td>\n",
       "      <td>0.704</td>\n",
       "      <td>0.515</td>\n",
       "      <td>0.478</td>\n",
       "      <td>0.427</td>\n",
       "      <td>0.648</td>\n",
       "      <td>0.371</td>\n",
       "    </tr>\n",
       "  </tbody>\n",
       "</table>\n",
       "</div>"
      ],
      "text/plain": [
       "   season               team     conference  total_ppa  total_passing_ppa  \\\n",
       "0    2021          Air Force  Mountain West      126.8               35.0   \n",
       "1    2021              Akron   Mid-American       27.5              -19.8   \n",
       "2    2021            Alabama            SEC      148.6               16.7   \n",
       "3    2021  Appalachian State       Sun Belt      279.8               12.1   \n",
       "4    2021            Arizona         Pac-12       40.2              -15.2   \n",
       "\n",
       "   total_receiving_ppa  total_rushing_ppa  percent_ppa  percent_passing_ppa  \\\n",
       "0                 20.8               71.0        0.742                1.000   \n",
       "1                 23.1               24.2        0.611                0.756   \n",
       "2                 90.1               41.7        0.198                0.058   \n",
       "3                165.3              102.4        0.649                0.125   \n",
       "4                 41.4               14.0        0.442               -2.980   \n",
       "\n",
       "   percent_receiving_ppa  percent_rushing_ppa  usage  passing_usage  \\\n",
       "0                  0.540                0.724  0.724          1.000   \n",
       "1                  0.545                0.826  0.805          0.902   \n",
       "2                  0.268                0.336  0.260          0.072   \n",
       "3                  0.943                0.644  0.584          0.030   \n",
       "4                  0.704                0.515  0.478          0.427   \n",
       "\n",
       "   receiving_usage  rushing_usage  \n",
       "0            0.745          0.662  \n",
       "1            0.694          0.788  \n",
       "2            0.349          0.368  \n",
       "3            0.953          0.734  \n",
       "4            0.648          0.371  "
      ]
     },
     "execution_count": 51,
     "metadata": {},
     "output_type": "execute_result"
    }
   ],
   "source": [
    "api_instance = cfbd.PlayersApi(cfbd.ApiClient(configuration))\n",
    "production = api_instance.get_returning_production(year=2021)\n",
    "\n",
    "production_df = pd.DataFrame.from_records([p.to_dict() for p in production])\n",
    "production_df.head()"
   ]
  },
  {
   "cell_type": "code",
   "execution_count": 52,
   "id": "77665fca-c356-4ac0-a17c-fe8950b86c7e",
   "metadata": {
    "tags": []
   },
   "outputs": [
    {
     "data": {
      "text/html": [
       "<div>\n",
       "<style scoped>\n",
       "    .dataframe tbody tr th:only-of-type {\n",
       "        vertical-align: middle;\n",
       "    }\n",
       "\n",
       "    .dataframe tbody tr th {\n",
       "        vertical-align: top;\n",
       "    }\n",
       "\n",
       "    .dataframe thead th {\n",
       "        text-align: right;\n",
       "    }\n",
       "</style>\n",
       "<table border=\"1\" class=\"dataframe\">\n",
       "  <thead>\n",
       "    <tr style=\"text-align: right;\">\n",
       "      <th></th>\n",
       "      <th>team</th>\n",
       "      <th>color</th>\n",
       "      <th>alt_color</th>\n",
       "      <th>season</th>\n",
       "      <th>conference</th>\n",
       "      <th>total_ppa</th>\n",
       "      <th>total_passing_ppa</th>\n",
       "      <th>total_receiving_ppa</th>\n",
       "      <th>total_rushing_ppa</th>\n",
       "      <th>percent_ppa</th>\n",
       "      <th>percent_passing_ppa</th>\n",
       "      <th>percent_receiving_ppa</th>\n",
       "      <th>percent_rushing_ppa</th>\n",
       "      <th>usage</th>\n",
       "      <th>passing_usage</th>\n",
       "      <th>receiving_usage</th>\n",
       "      <th>rushing_usage</th>\n",
       "    </tr>\n",
       "  </thead>\n",
       "  <tbody>\n",
       "    <tr>\n",
       "      <th>0</th>\n",
       "      <td>Air Force</td>\n",
       "      <td>#004a7b</td>\n",
       "      <td>#ffffff</td>\n",
       "      <td>2021</td>\n",
       "      <td>Mountain West</td>\n",
       "      <td>126.8</td>\n",
       "      <td>35.0</td>\n",
       "      <td>20.8</td>\n",
       "      <td>71.0</td>\n",
       "      <td>0.742</td>\n",
       "      <td>1.000</td>\n",
       "      <td>0.540</td>\n",
       "      <td>0.724</td>\n",
       "      <td>0.724</td>\n",
       "      <td>1.000</td>\n",
       "      <td>0.745</td>\n",
       "      <td>0.662</td>\n",
       "    </tr>\n",
       "    <tr>\n",
       "      <th>1</th>\n",
       "      <td>Akron</td>\n",
       "      <td>#00285e</td>\n",
       "      <td>#84754e</td>\n",
       "      <td>2021</td>\n",
       "      <td>Mid-American</td>\n",
       "      <td>27.5</td>\n",
       "      <td>-19.8</td>\n",
       "      <td>23.1</td>\n",
       "      <td>24.2</td>\n",
       "      <td>0.611</td>\n",
       "      <td>0.756</td>\n",
       "      <td>0.545</td>\n",
       "      <td>0.826</td>\n",
       "      <td>0.805</td>\n",
       "      <td>0.902</td>\n",
       "      <td>0.694</td>\n",
       "      <td>0.788</td>\n",
       "    </tr>\n",
       "    <tr>\n",
       "      <th>2</th>\n",
       "      <td>Alabama</td>\n",
       "      <td>#690014</td>\n",
       "      <td>#f1f2f3</td>\n",
       "      <td>2021</td>\n",
       "      <td>SEC</td>\n",
       "      <td>148.6</td>\n",
       "      <td>16.7</td>\n",
       "      <td>90.1</td>\n",
       "      <td>41.7</td>\n",
       "      <td>0.198</td>\n",
       "      <td>0.058</td>\n",
       "      <td>0.268</td>\n",
       "      <td>0.336</td>\n",
       "      <td>0.260</td>\n",
       "      <td>0.072</td>\n",
       "      <td>0.349</td>\n",
       "      <td>0.368</td>\n",
       "    </tr>\n",
       "    <tr>\n",
       "      <th>3</th>\n",
       "      <td>Appalachian State</td>\n",
       "      <td>#000000</td>\n",
       "      <td>#ffcd00</td>\n",
       "      <td>2021</td>\n",
       "      <td>Sun Belt</td>\n",
       "      <td>279.8</td>\n",
       "      <td>12.1</td>\n",
       "      <td>165.3</td>\n",
       "      <td>102.4</td>\n",
       "      <td>0.649</td>\n",
       "      <td>0.125</td>\n",
       "      <td>0.943</td>\n",
       "      <td>0.644</td>\n",
       "      <td>0.584</td>\n",
       "      <td>0.030</td>\n",
       "      <td>0.953</td>\n",
       "      <td>0.734</td>\n",
       "    </tr>\n",
       "    <tr>\n",
       "      <th>4</th>\n",
       "      <td>Arizona</td>\n",
       "      <td>#002449</td>\n",
       "      <td>#00205b</td>\n",
       "      <td>2021</td>\n",
       "      <td>Pac-12</td>\n",
       "      <td>40.2</td>\n",
       "      <td>-15.2</td>\n",
       "      <td>41.4</td>\n",
       "      <td>14.0</td>\n",
       "      <td>0.442</td>\n",
       "      <td>-2.980</td>\n",
       "      <td>0.704</td>\n",
       "      <td>0.515</td>\n",
       "      <td>0.478</td>\n",
       "      <td>0.427</td>\n",
       "      <td>0.648</td>\n",
       "      <td>0.371</td>\n",
       "    </tr>\n",
       "  </tbody>\n",
       "</table>\n",
       "</div>"
      ],
      "text/plain": [
       "                team    color alt_color  season     conference  total_ppa  \\\n",
       "0          Air Force  #004a7b   #ffffff    2021  Mountain West      126.8   \n",
       "1              Akron  #00285e   #84754e    2021   Mid-American       27.5   \n",
       "2            Alabama  #690014   #f1f2f3    2021            SEC      148.6   \n",
       "3  Appalachian State  #000000   #ffcd00    2021       Sun Belt      279.8   \n",
       "4            Arizona  #002449   #00205b    2021         Pac-12       40.2   \n",
       "\n",
       "   total_passing_ppa  total_receiving_ppa  total_rushing_ppa  percent_ppa  \\\n",
       "0               35.0                 20.8               71.0        0.742   \n",
       "1              -19.8                 23.1               24.2        0.611   \n",
       "2               16.7                 90.1               41.7        0.198   \n",
       "3               12.1                165.3              102.4        0.649   \n",
       "4              -15.2                 41.4               14.0        0.442   \n",
       "\n",
       "   percent_passing_ppa  percent_receiving_ppa  percent_rushing_ppa  usage  \\\n",
       "0                1.000                  0.540                0.724  0.724   \n",
       "1                0.756                  0.545                0.826  0.805   \n",
       "2                0.058                  0.268                0.336  0.260   \n",
       "3                0.125                  0.943                0.644  0.584   \n",
       "4               -2.980                  0.704                0.515  0.478   \n",
       "\n",
       "   passing_usage  receiving_usage  rushing_usage  \n",
       "0          1.000            0.745          0.662  \n",
       "1          0.902            0.694          0.788  \n",
       "2          0.072            0.349          0.368  \n",
       "3          0.030            0.953          0.734  \n",
       "4          0.427            0.648          0.371  "
      ]
     },
     "execution_count": 52,
     "metadata": {},
     "output_type": "execute_result"
    }
   ],
   "source": [
    "df = teams_df.merge(production_df, left_on=['team'], right_on=['team'], suffixes=['', '_'])\n",
    "df.head()"
   ]
  },
  {
   "cell_type": "code",
   "execution_count": 53,
   "id": "30b58e9e-a38a-4f86-9045-171055de9312",
   "metadata": {
    "tags": []
   },
   "outputs": [
    {
     "data": {
      "text/html": [
       "<div>\n",
       "<style scoped>\n",
       "    .dataframe tbody tr th:only-of-type {\n",
       "        vertical-align: middle;\n",
       "    }\n",
       "\n",
       "    .dataframe tbody tr th {\n",
       "        vertical-align: top;\n",
       "    }\n",
       "\n",
       "    .dataframe thead th {\n",
       "        text-align: right;\n",
       "    }\n",
       "</style>\n",
       "<table border=\"1\" class=\"dataframe\">\n",
       "  <thead>\n",
       "    <tr style=\"text-align: right;\">\n",
       "      <th></th>\n",
       "      <th>year</th>\n",
       "      <th>team</th>\n",
       "      <th>conference</th>\n",
       "      <th>rating</th>\n",
       "      <th>ranking</th>\n",
       "      <th>second_order_wins</th>\n",
       "      <th>sos</th>\n",
       "      <th>offense</th>\n",
       "      <th>defense</th>\n",
       "      <th>special_teams</th>\n",
       "      <th>offense_rating</th>\n",
       "    </tr>\n",
       "  </thead>\n",
       "  <tbody>\n",
       "    <tr>\n",
       "      <th>0</th>\n",
       "      <td>2021</td>\n",
       "      <td>Georgia</td>\n",
       "      <td>SEC</td>\n",
       "      <td>32.0</td>\n",
       "      <td>1.0</td>\n",
       "      <td>None</td>\n",
       "      <td>None</td>\n",
       "      <td>{'ranking': 2.0, 'rating': 41.4, 'success': No...</td>\n",
       "      <td>{'ranking': 1.0, 'rating': 10.3, 'success': No...</td>\n",
       "      <td>{'rating': None}</td>\n",
       "      <td>41.4</td>\n",
       "    </tr>\n",
       "    <tr>\n",
       "      <th>1</th>\n",
       "      <td>2021</td>\n",
       "      <td>Ohio State</td>\n",
       "      <td>Big Ten</td>\n",
       "      <td>29.3</td>\n",
       "      <td>2.0</td>\n",
       "      <td>None</td>\n",
       "      <td>None</td>\n",
       "      <td>{'ranking': 1.0, 'rating': 47.2, 'success': No...</td>\n",
       "      <td>{'ranking': 20.0, 'rating': 20.6, 'success': N...</td>\n",
       "      <td>{'rating': None}</td>\n",
       "      <td>47.2</td>\n",
       "    </tr>\n",
       "    <tr>\n",
       "      <th>2</th>\n",
       "      <td>2021</td>\n",
       "      <td>Alabama</td>\n",
       "      <td>SEC</td>\n",
       "      <td>26.0</td>\n",
       "      <td>3.0</td>\n",
       "      <td>None</td>\n",
       "      <td>None</td>\n",
       "      <td>{'ranking': 4.0, 'rating': 40.9, 'success': No...</td>\n",
       "      <td>{'ranking': 9.0, 'rating': 15.6, 'success': No...</td>\n",
       "      <td>{'rating': None}</td>\n",
       "      <td>40.9</td>\n",
       "    </tr>\n",
       "    <tr>\n",
       "      <th>3</th>\n",
       "      <td>2021</td>\n",
       "      <td>Michigan</td>\n",
       "      <td>Big Ten</td>\n",
       "      <td>23.4</td>\n",
       "      <td>4.0</td>\n",
       "      <td>None</td>\n",
       "      <td>None</td>\n",
       "      <td>{'ranking': 19.0, 'rating': 36.5, 'success': N...</td>\n",
       "      <td>{'ranking': 10.0, 'rating': 15.8, 'success': N...</td>\n",
       "      <td>{'rating': None}</td>\n",
       "      <td>36.5</td>\n",
       "    </tr>\n",
       "    <tr>\n",
       "      <th>4</th>\n",
       "      <td>2021</td>\n",
       "      <td>Cincinnati</td>\n",
       "      <td>American Athletic</td>\n",
       "      <td>21.2</td>\n",
       "      <td>5.0</td>\n",
       "      <td>None</td>\n",
       "      <td>None</td>\n",
       "      <td>{'ranking': 13.0, 'rating': 37.5, 'success': N...</td>\n",
       "      <td>{'ranking': 11.0, 'rating': 15.9, 'success': N...</td>\n",
       "      <td>{'rating': None}</td>\n",
       "      <td>37.5</td>\n",
       "    </tr>\n",
       "  </tbody>\n",
       "</table>\n",
       "</div>"
      ],
      "text/plain": [
       "   year        team         conference  rating  ranking second_order_wins  \\\n",
       "0  2021     Georgia                SEC    32.0      1.0              None   \n",
       "1  2021  Ohio State            Big Ten    29.3      2.0              None   \n",
       "2  2021     Alabama                SEC    26.0      3.0              None   \n",
       "3  2021    Michigan            Big Ten    23.4      4.0              None   \n",
       "4  2021  Cincinnati  American Athletic    21.2      5.0              None   \n",
       "\n",
       "    sos                                            offense  \\\n",
       "0  None  {'ranking': 2.0, 'rating': 41.4, 'success': No...   \n",
       "1  None  {'ranking': 1.0, 'rating': 47.2, 'success': No...   \n",
       "2  None  {'ranking': 4.0, 'rating': 40.9, 'success': No...   \n",
       "3  None  {'ranking': 19.0, 'rating': 36.5, 'success': N...   \n",
       "4  None  {'ranking': 13.0, 'rating': 37.5, 'success': N...   \n",
       "\n",
       "                                             defense     special_teams  \\\n",
       "0  {'ranking': 1.0, 'rating': 10.3, 'success': No...  {'rating': None}   \n",
       "1  {'ranking': 20.0, 'rating': 20.6, 'success': N...  {'rating': None}   \n",
       "2  {'ranking': 9.0, 'rating': 15.6, 'success': No...  {'rating': None}   \n",
       "3  {'ranking': 10.0, 'rating': 15.8, 'success': N...  {'rating': None}   \n",
       "4  {'ranking': 11.0, 'rating': 15.9, 'success': N...  {'rating': None}   \n",
       "\n",
       "   offense_rating  \n",
       "0            41.4  \n",
       "1            47.2  \n",
       "2            40.9  \n",
       "3            36.5  \n",
       "4            37.5  "
      ]
     },
     "execution_count": 53,
     "metadata": {},
     "output_type": "execute_result"
    }
   ],
   "source": [
    "api_instance = cfbd.RatingsApi(cfbd.ApiClient(configuration))\n",
    "ratings = api_instance.get_sp_ratings(year=2021)\n",
    "\n",
    "ratings_df = pd.DataFrame.from_records([r.to_dict() for r in ratings])\n",
    "ratings_df['offense_rating'] = ratings_df[['offense']].apply(lambda x: x.offense['rating'], axis=1)\n",
    "ratings_df.head()"
   ]
  },
  {
   "cell_type": "code",
   "execution_count": 54,
   "id": "c4be4304-0b98-42b5-846e-62dd4a85d200",
   "metadata": {
    "tags": []
   },
   "outputs": [
    {
     "data": {
      "text/html": [
       "<div>\n",
       "<style scoped>\n",
       "    .dataframe tbody tr th:only-of-type {\n",
       "        vertical-align: middle;\n",
       "    }\n",
       "\n",
       "    .dataframe tbody tr th {\n",
       "        vertical-align: top;\n",
       "    }\n",
       "\n",
       "    .dataframe thead th {\n",
       "        text-align: right;\n",
       "    }\n",
       "</style>\n",
       "<table border=\"1\" class=\"dataframe\">\n",
       "  <thead>\n",
       "    <tr style=\"text-align: right;\">\n",
       "      <th></th>\n",
       "      <th>team</th>\n",
       "      <th>color</th>\n",
       "      <th>alt_color</th>\n",
       "      <th>season</th>\n",
       "      <th>conference</th>\n",
       "      <th>total_ppa</th>\n",
       "      <th>total_passing_ppa</th>\n",
       "      <th>total_receiving_ppa</th>\n",
       "      <th>total_rushing_ppa</th>\n",
       "      <th>percent_ppa</th>\n",
       "      <th>percent_passing_ppa</th>\n",
       "      <th>percent_receiving_ppa</th>\n",
       "      <th>percent_rushing_ppa</th>\n",
       "      <th>usage</th>\n",
       "      <th>passing_usage</th>\n",
       "      <th>receiving_usage</th>\n",
       "      <th>rushing_usage</th>\n",
       "      <th>rating</th>\n",
       "      <th>offense_rating</th>\n",
       "    </tr>\n",
       "  </thead>\n",
       "  <tbody>\n",
       "    <tr>\n",
       "      <th>0</th>\n",
       "      <td>Air Force</td>\n",
       "      <td>#004a7b</td>\n",
       "      <td>#ffffff</td>\n",
       "      <td>2021</td>\n",
       "      <td>Mountain West</td>\n",
       "      <td>126.8</td>\n",
       "      <td>35.0</td>\n",
       "      <td>20.8</td>\n",
       "      <td>71.0</td>\n",
       "      <td>0.742</td>\n",
       "      <td>1.000</td>\n",
       "      <td>0.540</td>\n",
       "      <td>0.724</td>\n",
       "      <td>0.724</td>\n",
       "      <td>1.000</td>\n",
       "      <td>0.745</td>\n",
       "      <td>0.662</td>\n",
       "      <td>7.4</td>\n",
       "      <td>30.0</td>\n",
       "    </tr>\n",
       "    <tr>\n",
       "      <th>1</th>\n",
       "      <td>Akron</td>\n",
       "      <td>#00285e</td>\n",
       "      <td>#84754e</td>\n",
       "      <td>2021</td>\n",
       "      <td>Mid-American</td>\n",
       "      <td>27.5</td>\n",
       "      <td>-19.8</td>\n",
       "      <td>23.1</td>\n",
       "      <td>24.2</td>\n",
       "      <td>0.611</td>\n",
       "      <td>0.756</td>\n",
       "      <td>0.545</td>\n",
       "      <td>0.826</td>\n",
       "      <td>0.805</td>\n",
       "      <td>0.902</td>\n",
       "      <td>0.694</td>\n",
       "      <td>0.788</td>\n",
       "      <td>-23.1</td>\n",
       "      <td>20.3</td>\n",
       "    </tr>\n",
       "    <tr>\n",
       "      <th>2</th>\n",
       "      <td>Alabama</td>\n",
       "      <td>#690014</td>\n",
       "      <td>#f1f2f3</td>\n",
       "      <td>2021</td>\n",
       "      <td>SEC</td>\n",
       "      <td>148.6</td>\n",
       "      <td>16.7</td>\n",
       "      <td>90.1</td>\n",
       "      <td>41.7</td>\n",
       "      <td>0.198</td>\n",
       "      <td>0.058</td>\n",
       "      <td>0.268</td>\n",
       "      <td>0.336</td>\n",
       "      <td>0.260</td>\n",
       "      <td>0.072</td>\n",
       "      <td>0.349</td>\n",
       "      <td>0.368</td>\n",
       "      <td>26.0</td>\n",
       "      <td>40.9</td>\n",
       "    </tr>\n",
       "    <tr>\n",
       "      <th>3</th>\n",
       "      <td>Appalachian State</td>\n",
       "      <td>#000000</td>\n",
       "      <td>#ffcd00</td>\n",
       "      <td>2021</td>\n",
       "      <td>Sun Belt</td>\n",
       "      <td>279.8</td>\n",
       "      <td>12.1</td>\n",
       "      <td>165.3</td>\n",
       "      <td>102.4</td>\n",
       "      <td>0.649</td>\n",
       "      <td>0.125</td>\n",
       "      <td>0.943</td>\n",
       "      <td>0.644</td>\n",
       "      <td>0.584</td>\n",
       "      <td>0.030</td>\n",
       "      <td>0.953</td>\n",
       "      <td>0.734</td>\n",
       "      <td>10.3</td>\n",
       "      <td>32.0</td>\n",
       "    </tr>\n",
       "    <tr>\n",
       "      <th>4</th>\n",
       "      <td>Arizona</td>\n",
       "      <td>#002449</td>\n",
       "      <td>#00205b</td>\n",
       "      <td>2021</td>\n",
       "      <td>Pac-12</td>\n",
       "      <td>40.2</td>\n",
       "      <td>-15.2</td>\n",
       "      <td>41.4</td>\n",
       "      <td>14.0</td>\n",
       "      <td>0.442</td>\n",
       "      <td>-2.980</td>\n",
       "      <td>0.704</td>\n",
       "      <td>0.515</td>\n",
       "      <td>0.478</td>\n",
       "      <td>0.427</td>\n",
       "      <td>0.648</td>\n",
       "      <td>0.371</td>\n",
       "      <td>-12.6</td>\n",
       "      <td>19.2</td>\n",
       "    </tr>\n",
       "  </tbody>\n",
       "</table>\n",
       "</div>"
      ],
      "text/plain": [
       "                team    color alt_color  season     conference  total_ppa  \\\n",
       "0          Air Force  #004a7b   #ffffff    2021  Mountain West      126.8   \n",
       "1              Akron  #00285e   #84754e    2021   Mid-American       27.5   \n",
       "2            Alabama  #690014   #f1f2f3    2021            SEC      148.6   \n",
       "3  Appalachian State  #000000   #ffcd00    2021       Sun Belt      279.8   \n",
       "4            Arizona  #002449   #00205b    2021         Pac-12       40.2   \n",
       "\n",
       "   total_passing_ppa  total_receiving_ppa  total_rushing_ppa  percent_ppa  \\\n",
       "0               35.0                 20.8               71.0        0.742   \n",
       "1              -19.8                 23.1               24.2        0.611   \n",
       "2               16.7                 90.1               41.7        0.198   \n",
       "3               12.1                165.3              102.4        0.649   \n",
       "4              -15.2                 41.4               14.0        0.442   \n",
       "\n",
       "   percent_passing_ppa  percent_receiving_ppa  percent_rushing_ppa  usage  \\\n",
       "0                1.000                  0.540                0.724  0.724   \n",
       "1                0.756                  0.545                0.826  0.805   \n",
       "2                0.058                  0.268                0.336  0.260   \n",
       "3                0.125                  0.943                0.644  0.584   \n",
       "4               -2.980                  0.704                0.515  0.478   \n",
       "\n",
       "   passing_usage  receiving_usage  rushing_usage  rating  offense_rating  \n",
       "0          1.000            0.745          0.662     7.4            30.0  \n",
       "1          0.902            0.694          0.788   -23.1            20.3  \n",
       "2          0.072            0.349          0.368    26.0            40.9  \n",
       "3          0.030            0.953          0.734    10.3            32.0  \n",
       "4          0.427            0.648          0.371   -12.6            19.2  "
      ]
     },
     "execution_count": 54,
     "metadata": {},
     "output_type": "execute_result"
    }
   ],
   "source": [
    "df = df.merge(ratings_df[['team', 'rating', 'offense_rating']], left_on=['team'], right_on=['team'], suffixes=['', '_'])\n",
    "df.head()"
   ]
  },
  {
   "cell_type": "code",
   "execution_count": 55,
   "id": "4613a75e-69c4-48c3-a48f-e930738ce76b",
   "metadata": {
    "tags": []
   },
   "outputs": [],
   "source": [
    "conf_filter = df['conference'].isin(['SEC', 'Big Ten', 'Big 12', 'Pac-12', 'ACC'])\n",
    "filtered_df = df[conf_filter]\n",
    "df = filtered_df"
   ]
  },
  {
   "cell_type": "code",
   "execution_count": 56,
   "id": "00044961-fc0c-42e7-817a-0e27f66e8522",
   "metadata": {
    "tags": []
   },
   "outputs": [],
   "source": [
    "df['alt_color'].fillna('#ffffff', inplace=True)"
   ]
  },
  {
   "cell_type": "code",
   "execution_count": 57,
   "id": "ded1a747-4af2-47e2-a04b-f4224bfb24d3",
   "metadata": {
    "tags": []
   },
   "outputs": [
    {
     "data": {
      "application/vnd.plotly.v1+json": {
       "config": {
        "plotlyServerURL": "https://plot.ly"
       },
       "data": [
        {
         "marker": {
          "color": [
           "#f1f2f3",
           "#00205b",
           "#f1f2f3",
           "#000000",
           "#f1f2f3",
           "#ffb81c",
           "#a39161",
           "#ffc423",
           "#522d80",
           "#ffd200",
           "#f1f2f3",
           "#0021a5",
           "#ceb888",
           "#000000",
           "#002c56",
           "#fa6300",
           "#eeedeb",
           "#ffe100",
           "#FDCA2F",
           "#e8000d",
           "#e7d2ad",
           "#ffffff",
           "#cccccc",
           "#2b0d57",
           "#ffcd00",
           "#f0f0f0",
           "#FFCB05",
           "#ffffff",
           "#981a31",
           "#c8c8c8",
           "#000000",
           "#231f20",
           "#f5f1e7",
           "#13294b",
           "#d6cac1",
           "#666666",
           "#cccccc",
           "#ff9900",
           "#00205b",
           "#fee123",
           "#dea076",
           "#002e5c",
           "#231f20",
           "#a4a9ad",
           "#ffffff",
           "#000000",
           "#ffffff",
           "#0d1d37",
           "#f1f2f3",
           "#ffffff",
           "#f0f0f0",
           "#ffffff",
           "#231f20",
           "#ffc72c",
           "#ae2531",
           "#7e8083",
           "#231f20",
           "#ffffff",
           "#c2c1ba",
           "#000000",
           "#e8e3d3",
           "#6a747c",
           "#eaaa00",
           "#f7f7f7"
          ],
          "line": {
           "color": [
            "#690014",
            "#002449",
            "#942139",
            "#9c1831",
            "#03244d",
            "#004834",
            "#88001a",
            "#031522",
            "#F66733",
            "#d1c57e",
            "#001A57",
            "#0021A5",
            "#782F40",
            "#CC0000",
            "#00223e",
            "#f77329",
            "#7D110C",
            "#000000",
            "#660015",
            "#0022B4",
            "#633194",
            "#005DAA",
            "#ad000a",
            "#fdd023",
            "#D5002B",
            "#004325",
            "#00274c",
            "#18453B",
            "#981a31",
            "#762123",
            "#000000",
            "#EF1216",
            "#F20017",
            "#99bfe5",
            "#372286",
            "#DE3121",
            "#7b0000",
            "#FF6500",
            "#001148",
            "#044520",
            "#c34500",
            "#00265D",
            "#003263",
            "#B89D29",
            "#d21034",
            "#670010",
            "#A80532",
            "#F37321",
            "#3C377D",
            "#EE9627",
            "#EE7524",
            "#5C0025",
            "#C80025",
            "#005C8E",
            "#ffc72c",
            "#890012",
            "#000000",
            "#f84c1e",
            "#74232D",
            "#9E7E38",
            "#2B2F64",
            "#94022a",
            "#FFC600",
            "#A00001"
           ],
           "width": 3
          },
          "size": 7
         },
         "mode": "markers",
         "text": [
          "Alabama",
          "Arizona",
          "Arizona State",
          "Arkansas",
          "Auburn",
          "Baylor",
          "Boston College",
          "California",
          "Clemson",
          "Colorado",
          "Duke",
          "Florida",
          "Florida State",
          "Georgia",
          "Georgia Tech",
          "Illinois",
          "Indiana",
          "Iowa",
          "Iowa State",
          "Kansas",
          "Kansas State",
          "Kentucky",
          "Louisville",
          "LSU",
          "Maryland",
          "Miami",
          "Michigan",
          "Michigan State",
          "Minnesota",
          "Mississippi State",
          "Missouri",
          "NC State",
          "Nebraska",
          "North Carolina",
          "Northwestern",
          "Ohio State",
          "Oklahoma",
          "Oklahoma State",
          "Ole Miss",
          "Oregon",
          "Oregon State",
          "Penn State",
          "Pittsburgh",
          "Purdue",
          "Rutgers",
          "South Carolina",
          "Stanford",
          "Syracuse",
          "TCU",
          "Tennessee",
          "Texas",
          "Texas A&M",
          "Texas Tech",
          "UCLA",
          "USC",
          "Utah",
          "Vanderbilt",
          "Virginia",
          "Virginia Tech",
          "Wake Forest",
          "Washington",
          "Washington State",
          "West Virginia",
          "Wisconsin"
         ],
         "type": "scatter",
         "x": [
          148.6,
          40.2,
          127.8,
          160.8,
          169.9,
          92.8,
          290.7,
          55.4,
          145.8,
          108.6,
          155.1,
          171,
          167.5,
          312.6,
          205.7,
          118.9,
          161.7,
          123.9,
          385.1,
          45.1,
          178.4,
          47.7,
          253.4,
          200.4,
          120.3,
          333.5,
          95.6,
          69.9,
          183.9,
          152.9,
          243.4,
          264.7,
          122.1,
          307.5,
          32.2,
          174.5,
          347.8,
          149.7,
          331.6,
          144.5,
          166.6,
          252,
          244.8,
          181,
          142.7,
          159,
          100.5,
          74.7,
          204.4,
          76,
          160,
          241.7,
          197.5,
          229.4,
          183.1,
          40.5,
          122.1,
          267.8,
          199.4,
          314.5,
          114.6,
          33.7,
          236.3,
          105.8
         ],
         "y": [
          40.9,
          19.2,
          33.5,
          34.3,
          30.2,
          33.1,
          27,
          27.5,
          28.3,
          18.8,
          23.4,
          35,
          29.8,
          41.4,
          27,
          23.2,
          20.4,
          23.6,
          33.8,
          22.3,
          33.5,
          35.1,
          34.9,
          28,
          34.8,
          34.8,
          36.5,
          34.3,
          29.3,
          34.6,
          31.1,
          33.1,
          34.1,
          37.8,
          19.4,
          47.2,
          41.1,
          30.6,
          36.8,
          35,
          36.9,
          28,
          38.2,
          32.6,
          20.8,
          26,
          22.2,
          27.1,
          33.2,
          39.4,
          34.6,
          33.6,
          34.6,
          37.7,
          32.3,
          37.2,
          17.4,
          39.3,
          26.7,
          38,
          22.8,
          32,
          27.7,
          29.8
         ]
        }
       ],
       "layout": {
        "autosize": true,
        "template": {
         "data": {
          "bar": [
           {
            "error_x": {
             "color": "#2a3f5f"
            },
            "error_y": {
             "color": "#2a3f5f"
            },
            "marker": {
             "line": {
              "color": "#E5ECF6",
              "width": 0.5
             },
             "pattern": {
              "fillmode": "overlay",
              "size": 10,
              "solidity": 0.2
             }
            },
            "type": "bar"
           }
          ],
          "barpolar": [
           {
            "marker": {
             "line": {
              "color": "#E5ECF6",
              "width": 0.5
             },
             "pattern": {
              "fillmode": "overlay",
              "size": 10,
              "solidity": 0.2
             }
            },
            "type": "barpolar"
           }
          ],
          "carpet": [
           {
            "aaxis": {
             "endlinecolor": "#2a3f5f",
             "gridcolor": "white",
             "linecolor": "white",
             "minorgridcolor": "white",
             "startlinecolor": "#2a3f5f"
            },
            "baxis": {
             "endlinecolor": "#2a3f5f",
             "gridcolor": "white",
             "linecolor": "white",
             "minorgridcolor": "white",
             "startlinecolor": "#2a3f5f"
            },
            "type": "carpet"
           }
          ],
          "choropleth": [
           {
            "colorbar": {
             "outlinewidth": 0,
             "ticks": ""
            },
            "type": "choropleth"
           }
          ],
          "contour": [
           {
            "colorbar": {
             "outlinewidth": 0,
             "ticks": ""
            },
            "colorscale": [
             [
              0,
              "#0d0887"
             ],
             [
              0.1111111111111111,
              "#46039f"
             ],
             [
              0.2222222222222222,
              "#7201a8"
             ],
             [
              0.3333333333333333,
              "#9c179e"
             ],
             [
              0.4444444444444444,
              "#bd3786"
             ],
             [
              0.5555555555555556,
              "#d8576b"
             ],
             [
              0.6666666666666666,
              "#ed7953"
             ],
             [
              0.7777777777777778,
              "#fb9f3a"
             ],
             [
              0.8888888888888888,
              "#fdca26"
             ],
             [
              1,
              "#f0f921"
             ]
            ],
            "type": "contour"
           }
          ],
          "contourcarpet": [
           {
            "colorbar": {
             "outlinewidth": 0,
             "ticks": ""
            },
            "type": "contourcarpet"
           }
          ],
          "heatmap": [
           {
            "colorbar": {
             "outlinewidth": 0,
             "ticks": ""
            },
            "colorscale": [
             [
              0,
              "#0d0887"
             ],
             [
              0.1111111111111111,
              "#46039f"
             ],
             [
              0.2222222222222222,
              "#7201a8"
             ],
             [
              0.3333333333333333,
              "#9c179e"
             ],
             [
              0.4444444444444444,
              "#bd3786"
             ],
             [
              0.5555555555555556,
              "#d8576b"
             ],
             [
              0.6666666666666666,
              "#ed7953"
             ],
             [
              0.7777777777777778,
              "#fb9f3a"
             ],
             [
              0.8888888888888888,
              "#fdca26"
             ],
             [
              1,
              "#f0f921"
             ]
            ],
            "type": "heatmap"
           }
          ],
          "heatmapgl": [
           {
            "colorbar": {
             "outlinewidth": 0,
             "ticks": ""
            },
            "colorscale": [
             [
              0,
              "#0d0887"
             ],
             [
              0.1111111111111111,
              "#46039f"
             ],
             [
              0.2222222222222222,
              "#7201a8"
             ],
             [
              0.3333333333333333,
              "#9c179e"
             ],
             [
              0.4444444444444444,
              "#bd3786"
             ],
             [
              0.5555555555555556,
              "#d8576b"
             ],
             [
              0.6666666666666666,
              "#ed7953"
             ],
             [
              0.7777777777777778,
              "#fb9f3a"
             ],
             [
              0.8888888888888888,
              "#fdca26"
             ],
             [
              1,
              "#f0f921"
             ]
            ],
            "type": "heatmapgl"
           }
          ],
          "histogram": [
           {
            "marker": {
             "pattern": {
              "fillmode": "overlay",
              "size": 10,
              "solidity": 0.2
             }
            },
            "type": "histogram"
           }
          ],
          "histogram2d": [
           {
            "colorbar": {
             "outlinewidth": 0,
             "ticks": ""
            },
            "colorscale": [
             [
              0,
              "#0d0887"
             ],
             [
              0.1111111111111111,
              "#46039f"
             ],
             [
              0.2222222222222222,
              "#7201a8"
             ],
             [
              0.3333333333333333,
              "#9c179e"
             ],
             [
              0.4444444444444444,
              "#bd3786"
             ],
             [
              0.5555555555555556,
              "#d8576b"
             ],
             [
              0.6666666666666666,
              "#ed7953"
             ],
             [
              0.7777777777777778,
              "#fb9f3a"
             ],
             [
              0.8888888888888888,
              "#fdca26"
             ],
             [
              1,
              "#f0f921"
             ]
            ],
            "type": "histogram2d"
           }
          ],
          "histogram2dcontour": [
           {
            "colorbar": {
             "outlinewidth": 0,
             "ticks": ""
            },
            "colorscale": [
             [
              0,
              "#0d0887"
             ],
             [
              0.1111111111111111,
              "#46039f"
             ],
             [
              0.2222222222222222,
              "#7201a8"
             ],
             [
              0.3333333333333333,
              "#9c179e"
             ],
             [
              0.4444444444444444,
              "#bd3786"
             ],
             [
              0.5555555555555556,
              "#d8576b"
             ],
             [
              0.6666666666666666,
              "#ed7953"
             ],
             [
              0.7777777777777778,
              "#fb9f3a"
             ],
             [
              0.8888888888888888,
              "#fdca26"
             ],
             [
              1,
              "#f0f921"
             ]
            ],
            "type": "histogram2dcontour"
           }
          ],
          "mesh3d": [
           {
            "colorbar": {
             "outlinewidth": 0,
             "ticks": ""
            },
            "type": "mesh3d"
           }
          ],
          "parcoords": [
           {
            "line": {
             "colorbar": {
              "outlinewidth": 0,
              "ticks": ""
             }
            },
            "type": "parcoords"
           }
          ],
          "pie": [
           {
            "automargin": true,
            "type": "pie"
           }
          ],
          "scatter": [
           {
            "fillpattern": {
             "fillmode": "overlay",
             "size": 10,
             "solidity": 0.2
            },
            "type": "scatter"
           }
          ],
          "scatter3d": [
           {
            "line": {
             "colorbar": {
              "outlinewidth": 0,
              "ticks": ""
             }
            },
            "marker": {
             "colorbar": {
              "outlinewidth": 0,
              "ticks": ""
             }
            },
            "type": "scatter3d"
           }
          ],
          "scattercarpet": [
           {
            "marker": {
             "colorbar": {
              "outlinewidth": 0,
              "ticks": ""
             }
            },
            "type": "scattercarpet"
           }
          ],
          "scattergeo": [
           {
            "marker": {
             "colorbar": {
              "outlinewidth": 0,
              "ticks": ""
             }
            },
            "type": "scattergeo"
           }
          ],
          "scattergl": [
           {
            "marker": {
             "colorbar": {
              "outlinewidth": 0,
              "ticks": ""
             }
            },
            "type": "scattergl"
           }
          ],
          "scattermapbox": [
           {
            "marker": {
             "colorbar": {
              "outlinewidth": 0,
              "ticks": ""
             }
            },
            "type": "scattermapbox"
           }
          ],
          "scatterpolar": [
           {
            "marker": {
             "colorbar": {
              "outlinewidth": 0,
              "ticks": ""
             }
            },
            "type": "scatterpolar"
           }
          ],
          "scatterpolargl": [
           {
            "marker": {
             "colorbar": {
              "outlinewidth": 0,
              "ticks": ""
             }
            },
            "type": "scatterpolargl"
           }
          ],
          "scatterternary": [
           {
            "marker": {
             "colorbar": {
              "outlinewidth": 0,
              "ticks": ""
             }
            },
            "type": "scatterternary"
           }
          ],
          "surface": [
           {
            "colorbar": {
             "outlinewidth": 0,
             "ticks": ""
            },
            "colorscale": [
             [
              0,
              "#0d0887"
             ],
             [
              0.1111111111111111,
              "#46039f"
             ],
             [
              0.2222222222222222,
              "#7201a8"
             ],
             [
              0.3333333333333333,
              "#9c179e"
             ],
             [
              0.4444444444444444,
              "#bd3786"
             ],
             [
              0.5555555555555556,
              "#d8576b"
             ],
             [
              0.6666666666666666,
              "#ed7953"
             ],
             [
              0.7777777777777778,
              "#fb9f3a"
             ],
             [
              0.8888888888888888,
              "#fdca26"
             ],
             [
              1,
              "#f0f921"
             ]
            ],
            "type": "surface"
           }
          ],
          "table": [
           {
            "cells": {
             "fill": {
              "color": "#EBF0F8"
             },
             "line": {
              "color": "white"
             }
            },
            "header": {
             "fill": {
              "color": "#C8D4E3"
             },
             "line": {
              "color": "white"
             }
            },
            "type": "table"
           }
          ]
         },
         "layout": {
          "annotationdefaults": {
           "arrowcolor": "#2a3f5f",
           "arrowhead": 0,
           "arrowwidth": 1
          },
          "autotypenumbers": "strict",
          "coloraxis": {
           "colorbar": {
            "outlinewidth": 0,
            "ticks": ""
           }
          },
          "colorscale": {
           "diverging": [
            [
             0,
             "#8e0152"
            ],
            [
             0.1,
             "#c51b7d"
            ],
            [
             0.2,
             "#de77ae"
            ],
            [
             0.3,
             "#f1b6da"
            ],
            [
             0.4,
             "#fde0ef"
            ],
            [
             0.5,
             "#f7f7f7"
            ],
            [
             0.6,
             "#e6f5d0"
            ],
            [
             0.7,
             "#b8e186"
            ],
            [
             0.8,
             "#7fbc41"
            ],
            [
             0.9,
             "#4d9221"
            ],
            [
             1,
             "#276419"
            ]
           ],
           "sequential": [
            [
             0,
             "#0d0887"
            ],
            [
             0.1111111111111111,
             "#46039f"
            ],
            [
             0.2222222222222222,
             "#7201a8"
            ],
            [
             0.3333333333333333,
             "#9c179e"
            ],
            [
             0.4444444444444444,
             "#bd3786"
            ],
            [
             0.5555555555555556,
             "#d8576b"
            ],
            [
             0.6666666666666666,
             "#ed7953"
            ],
            [
             0.7777777777777778,
             "#fb9f3a"
            ],
            [
             0.8888888888888888,
             "#fdca26"
            ],
            [
             1,
             "#f0f921"
            ]
           ],
           "sequentialminus": [
            [
             0,
             "#0d0887"
            ],
            [
             0.1111111111111111,
             "#46039f"
            ],
            [
             0.2222222222222222,
             "#7201a8"
            ],
            [
             0.3333333333333333,
             "#9c179e"
            ],
            [
             0.4444444444444444,
             "#bd3786"
            ],
            [
             0.5555555555555556,
             "#d8576b"
            ],
            [
             0.6666666666666666,
             "#ed7953"
            ],
            [
             0.7777777777777778,
             "#fb9f3a"
            ],
            [
             0.8888888888888888,
             "#fdca26"
            ],
            [
             1,
             "#f0f921"
            ]
           ]
          },
          "colorway": [
           "#636efa",
           "#EF553B",
           "#00cc96",
           "#ab63fa",
           "#FFA15A",
           "#19d3f3",
           "#FF6692",
           "#B6E880",
           "#FF97FF",
           "#FECB52"
          ],
          "font": {
           "color": "#2a3f5f"
          },
          "geo": {
           "bgcolor": "white",
           "lakecolor": "white",
           "landcolor": "#E5ECF6",
           "showlakes": true,
           "showland": true,
           "subunitcolor": "white"
          },
          "hoverlabel": {
           "align": "left"
          },
          "hovermode": "closest",
          "mapbox": {
           "style": "light"
          },
          "paper_bgcolor": "white",
          "plot_bgcolor": "#E5ECF6",
          "polar": {
           "angularaxis": {
            "gridcolor": "white",
            "linecolor": "white",
            "ticks": ""
           },
           "bgcolor": "#E5ECF6",
           "radialaxis": {
            "gridcolor": "white",
            "linecolor": "white",
            "ticks": ""
           }
          },
          "scene": {
           "xaxis": {
            "backgroundcolor": "#E5ECF6",
            "gridcolor": "white",
            "gridwidth": 2,
            "linecolor": "white",
            "showbackground": true,
            "ticks": "",
            "zerolinecolor": "white"
           },
           "yaxis": {
            "backgroundcolor": "#E5ECF6",
            "gridcolor": "white",
            "gridwidth": 2,
            "linecolor": "white",
            "showbackground": true,
            "ticks": "",
            "zerolinecolor": "white"
           },
           "zaxis": {
            "backgroundcolor": "#E5ECF6",
            "gridcolor": "white",
            "gridwidth": 2,
            "linecolor": "white",
            "showbackground": true,
            "ticks": "",
            "zerolinecolor": "white"
           }
          },
          "shapedefaults": {
           "line": {
            "color": "#2a3f5f"
           }
          },
          "ternary": {
           "aaxis": {
            "gridcolor": "white",
            "linecolor": "white",
            "ticks": ""
           },
           "baxis": {
            "gridcolor": "white",
            "linecolor": "white",
            "ticks": ""
           },
           "bgcolor": "#E5ECF6",
           "caxis": {
            "gridcolor": "white",
            "linecolor": "white",
            "ticks": ""
           }
          },
          "title": {
           "x": 0.05
          },
          "xaxis": {
           "automargin": true,
           "gridcolor": "white",
           "linecolor": "white",
           "ticks": "",
           "title": {
            "standoff": 15
           },
           "zerolinecolor": "white",
           "zerolinewidth": 2
          },
          "yaxis": {
           "automargin": true,
           "gridcolor": "white",
           "linecolor": "white",
           "ticks": "",
           "title": {
            "standoff": 15
           },
           "zerolinecolor": "white",
           "zerolinewidth": 2
          }
         }
        },
        "title": {
         "text": "Final Offense SP+ Rating vs Returning Offense EPA"
        },
        "xaxis": {
         "autorange": true,
         "range": [
          9.70325693098508,
          407.59674306901496
         ],
         "title": {
          "text": "Returning EPA"
         },
         "type": "linear"
        },
        "yaxis": {
         "autorange": true,
         "range": [
          14.799184339314843,
          49.80081566068516
         ],
         "title": {
          "text": "Offensive SP+ Rating"
         },
         "type": "linear"
        }
       }
      },
      "image/png": "[encoded data removed]",
      "text/html": [
       "<div>                            <div id=\"36a01fe8-4d3f-4146-b94d-5636afff7063\" class=\"plotly-graph-div\" style=\"height:525px; width:100%;\"></div>            <script type=\"text/javascript\">                require([\"plotly\"], function(Plotly) {                    window.PLOTLYENV=window.PLOTLYENV || {};                                    if (document.getElementById(\"36a01fe8-4d3f-4146-b94d-5636afff7063\")) {                    Plotly.newPlot(                        \"36a01fe8-4d3f-4146-b94d-5636afff7063\",                        [{\"marker\":{\"color\":[\"#f1f2f3\",\"#00205b\",\"#f1f2f3\",\"#000000\",\"#f1f2f3\",\"#ffb81c\",\"#a39161\",\"#ffc423\",\"#522d80\",\"#ffd200\",\"#f1f2f3\",\"#0021a5\",\"#ceb888\",\"#000000\",\"#002c56\",\"#fa6300\",\"#eeedeb\",\"#ffe100\",\"#FDCA2F\",\"#e8000d\",\"#e7d2ad\",\"#ffffff\",\"#cccccc\",\"#2b0d57\",\"#ffcd00\",\"#f0f0f0\",\"#FFCB05\",\"#ffffff\",\"#981a31\",\"#c8c8c8\",\"#000000\",\"#231f20\",\"#f5f1e7\",\"#13294b\",\"#d6cac1\",\"#666666\",\"#cccccc\",\"#ff9900\",\"#00205b\",\"#fee123\",\"#dea076\",\"#002e5c\",\"#231f20\",\"#a4a9ad\",\"#ffffff\",\"#000000\",\"#ffffff\",\"#0d1d37\",\"#f1f2f3\",\"#ffffff\",\"#f0f0f0\",\"#ffffff\",\"#231f20\",\"#ffc72c\",\"#ae2531\",\"#7e8083\",\"#231f20\",\"#ffffff\",\"#c2c1ba\",\"#000000\",\"#e8e3d3\",\"#6a747c\",\"#eaaa00\",\"#f7f7f7\"],\"line\":{\"color\":[\"#690014\",\"#002449\",\"#942139\",\"#9c1831\",\"#03244d\",\"#004834\",\"#88001a\",\"#031522\",\"#F66733\",\"#d1c57e\",\"#001A57\",\"#0021A5\",\"#782F40\",\"#CC0000\",\"#00223e\",\"#f77329\",\"#7D110C\",\"#000000\",\"#660015\",\"#0022B4\",\"#633194\",\"#005DAA\",\"#ad000a\",\"#fdd023\",\"#D5002B\",\"#004325\",\"#00274c\",\"#18453B\",\"#981a31\",\"#762123\",\"#000000\",\"#EF1216\",\"#F20017\",\"#99bfe5\",\"#372286\",\"#DE3121\",\"#7b0000\",\"#FF6500\",\"#001148\",\"#044520\",\"#c34500\",\"#00265D\",\"#003263\",\"#B89D29\",\"#d21034\",\"#670010\",\"#A80532\",\"#F37321\",\"#3C377D\",\"#EE9627\",\"#EE7524\",\"#5C0025\",\"#C80025\",\"#005C8E\",\"#ffc72c\",\"#890012\",\"#000000\",\"#f84c1e\",\"#74232D\",\"#9E7E38\",\"#2B2F64\",\"#94022a\",\"#FFC600\",\"#A00001\"],\"width\":3},\"size\":7},\"mode\":\"markers\",\"text\":[\"Alabama\",\"Arizona\",\"Arizona State\",\"Arkansas\",\"Auburn\",\"Baylor\",\"Boston College\",\"California\",\"Clemson\",\"Colorado\",\"Duke\",\"Florida\",\"Florida State\",\"Georgia\",\"Georgia Tech\",\"Illinois\",\"Indiana\",\"Iowa\",\"Iowa State\",\"Kansas\",\"Kansas State\",\"Kentucky\",\"Louisville\",\"LSU\",\"Maryland\",\"Miami\",\"Michigan\",\"Michigan State\",\"Minnesota\",\"Mississippi State\",\"Missouri\",\"NC State\",\"Nebraska\",\"North Carolina\",\"Northwestern\",\"Ohio State\",\"Oklahoma\",\"Oklahoma State\",\"Ole Miss\",\"Oregon\",\"Oregon State\",\"Penn State\",\"Pittsburgh\",\"Purdue\",\"Rutgers\",\"South Carolina\",\"Stanford\",\"Syracuse\",\"TCU\",\"Tennessee\",\"Texas\",\"Texas A&M\",\"Texas Tech\",\"UCLA\",\"USC\",\"Utah\",\"Vanderbilt\",\"Virginia\",\"Virginia Tech\",\"Wake Forest\",\"Washington\",\"Washington State\",\"West Virginia\",\"Wisconsin\"],\"x\":[148.6,40.2,127.8,160.8,169.9,92.8,290.7,55.4,145.8,108.6,155.1,171.0,167.5,312.6,205.7,118.9,161.7,123.9,385.1,45.1,178.4,47.7,253.4,200.4,120.3,333.5,95.6,69.9,183.9,152.9,243.4,264.7,122.1,307.5,32.2,174.5,347.8,149.7,331.6,144.5,166.6,252.0,244.8,181.0,142.7,159.0,100.5,74.7,204.4,76.0,160.0,241.7,197.5,229.4,183.1,40.5,122.1,267.8,199.4,314.5,114.6,33.7,236.3,105.8],\"y\":[40.9,19.2,33.5,34.3,30.2,33.1,27.0,27.5,28.3,18.8,23.4,35.0,29.8,41.4,27.0,23.2,20.4,23.6,33.8,22.3,33.5,35.1,34.9,28.0,34.8,34.8,36.5,34.3,29.3,34.6,31.1,33.1,34.1,37.8,19.4,47.2,41.1,30.6,36.8,35.0,36.9,28.0,38.2,32.6,20.8,26.0,22.2,27.1,33.2,39.4,34.6,33.6,34.6,37.7,32.3,37.2,17.4,39.3,26.7,38.0,22.8,32.0,27.7,29.8],\"type\":\"scatter\"}],                        {\"template\":{\"data\":{\"histogram2dcontour\":[{\"type\":\"histogram2dcontour\",\"colorbar\":{\"outlinewidth\":0,\"ticks\":\"\"},\"colorscale\":[[0.0,\"#0d0887\"],[0.1111111111111111,\"#46039f\"],[0.2222222222222222,\"#7201a8\"],[0.3333333333333333,\"#9c179e\"],[0.4444444444444444,\"#bd3786\"],[0.5555555555555556,\"#d8576b\"],[0.6666666666666666,\"#ed7953\"],[0.7777777777777778,\"#fb9f3a\"],[0.8888888888888888,\"#fdca26\"],[1.0,\"#f0f921\"]]}],\"choropleth\":[{\"type\":\"choropleth\",\"colorbar\":{\"outlinewidth\":0,\"ticks\":\"\"}}],\"histogram2d\":[{\"type\":\"histogram2d\",\"colorbar\":{\"outlinewidth\":0,\"ticks\":\"\"},\"colorscale\":[[0.0,\"#0d0887\"],[0.1111111111111111,\"#46039f\"],[0.2222222222222222,\"#7201a8\"],[0.3333333333333333,\"#9c179e\"],[0.4444444444444444,\"#bd3786\"],[0.5555555555555556,\"#d8576b\"],[0.6666666666666666,\"#ed7953\"],[0.7777777777777778,\"#fb9f3a\"],[0.8888888888888888,\"#fdca26\"],[1.0,\"#f0f921\"]]}],\"heatmap\":[{\"type\":\"heatmap\",\"colorbar\":{\"outlinewidth\":0,\"ticks\":\"\"},\"colorscale\":[[0.0,\"#0d0887\"],[0.1111111111111111,\"#46039f\"],[0.2222222222222222,\"#7201a8\"],[0.3333333333333333,\"#9c179e\"],[0.4444444444444444,\"#bd3786\"],[0.5555555555555556,\"#d8576b\"],[0.6666666666666666,\"#ed7953\"],[0.7777777777777778,\"#fb9f3a\"],[0.8888888888888888,\"#fdca26\"],[1.0,\"#f0f921\"]]}],\"heatmapgl\":[{\"type\":\"heatmapgl\",\"colorbar\":{\"outlinewidth\":0,\"ticks\":\"\"},\"colorscale\":[[0.0,\"#0d0887\"],[0.1111111111111111,\"#46039f\"],[0.2222222222222222,\"#7201a8\"],[0.3333333333333333,\"#9c179e\"],[0.4444444444444444,\"#bd3786\"],[0.5555555555555556,\"#d8576b\"],[0.6666666666666666,\"#ed7953\"],[0.7777777777777778,\"#fb9f3a\"],[0.8888888888888888,\"#fdca26\"],[1.0,\"#f0f921\"]]}],\"contourcarpet\":[{\"type\":\"contourcarpet\",\"colorbar\":{\"outlinewidth\":0,\"ticks\":\"\"}}],\"contour\":[{\"type\":\"contour\",\"colorbar\":{\"outlinewidth\":0,\"ticks\":\"\"},\"colorscale\":[[0.0,\"#0d0887\"],[0.1111111111111111,\"#46039f\"],[0.2222222222222222,\"#7201a8\"],[0.3333333333333333,\"#9c179e\"],[0.4444444444444444,\"#bd3786\"],[0.5555555555555556,\"#d8576b\"],[0.6666666666666666,\"#ed7953\"],[0.7777777777777778,\"#fb9f3a\"],[0.8888888888888888,\"#fdca26\"],[1.0,\"#f0f921\"]]}],\"surface\":[{\"type\":\"surface\",\"colorbar\":{\"outlinewidth\":0,\"ticks\":\"\"},\"colorscale\":[[0.0,\"#0d0887\"],[0.1111111111111111,\"#46039f\"],[0.2222222222222222,\"#7201a8\"],[0.3333333333333333,\"#9c179e\"],[0.4444444444444444,\"#bd3786\"],[0.5555555555555556,\"#d8576b\"],[0.6666666666666666,\"#ed7953\"],[0.7777777777777778,\"#fb9f3a\"],[0.8888888888888888,\"#fdca26\"],[1.0,\"#f0f921\"]]}],\"mesh3d\":[{\"type\":\"mesh3d\",\"colorbar\":{\"outlinewidth\":0,\"ticks\":\"\"}}],\"scatter\":[{\"fillpattern\":{\"fillmode\":\"overlay\",\"size\":10,\"solidity\":0.2},\"type\":\"scatter\"}],\"parcoords\":[{\"type\":\"parcoords\",\"line\":{\"colorbar\":{\"outlinewidth\":0,\"ticks\":\"\"}}}],\"scatterpolargl\":[{\"type\":\"scatterpolargl\",\"marker\":{\"colorbar\":{\"outlinewidth\":0,\"ticks\":\"\"}}}],\"bar\":[{\"error_x\":{\"color\":\"#2a3f5f\"},\"error_y\":{\"color\":\"#2a3f5f\"},\"marker\":{\"line\":{\"color\":\"#E5ECF6\",\"width\":0.5},\"pattern\":{\"fillmode\":\"overlay\",\"size\":10,\"solidity\":0.2}},\"type\":\"bar\"}],\"scattergeo\":[{\"type\":\"scattergeo\",\"marker\":{\"colorbar\":{\"outlinewidth\":0,\"ticks\":\"\"}}}],\"scatterpolar\":[{\"type\":\"scatterpolar\",\"marker\":{\"colorbar\":{\"outlinewidth\":0,\"ticks\":\"\"}}}],\"histogram\":[{\"marker\":{\"pattern\":{\"fillmode\":\"overlay\",\"size\":10,\"solidity\":0.2}},\"type\":\"histogram\"}],\"scattergl\":[{\"type\":\"scattergl\",\"marker\":{\"colorbar\":{\"outlinewidth\":0,\"ticks\":\"\"}}}],\"scatter3d\":[{\"type\":\"scatter3d\",\"line\":{\"colorbar\":{\"outlinewidth\":0,\"ticks\":\"\"}},\"marker\":{\"colorbar\":{\"outlinewidth\":0,\"ticks\":\"\"}}}],\"scattermapbox\":[{\"type\":\"scattermapbox\",\"marker\":{\"colorbar\":{\"outlinewidth\":0,\"ticks\":\"\"}}}],\"scatterternary\":[{\"type\":\"scatterternary\",\"marker\":{\"colorbar\":{\"outlinewidth\":0,\"ticks\":\"\"}}}],\"scattercarpet\":[{\"type\":\"scattercarpet\",\"marker\":{\"colorbar\":{\"outlinewidth\":0,\"ticks\":\"\"}}}],\"carpet\":[{\"aaxis\":{\"endlinecolor\":\"#2a3f5f\",\"gridcolor\":\"white\",\"linecolor\":\"white\",\"minorgridcolor\":\"white\",\"startlinecolor\":\"#2a3f5f\"},\"baxis\":{\"endlinecolor\":\"#2a3f5f\",\"gridcolor\":\"white\",\"linecolor\":\"white\",\"minorgridcolor\":\"white\",\"startlinecolor\":\"#2a3f5f\"},\"type\":\"carpet\"}],\"table\":[{\"cells\":{\"fill\":{\"color\":\"#EBF0F8\"},\"line\":{\"color\":\"white\"}},\"header\":{\"fill\":{\"color\":\"#C8D4E3\"},\"line\":{\"color\":\"white\"}},\"type\":\"table\"}],\"barpolar\":[{\"marker\":{\"line\":{\"color\":\"#E5ECF6\",\"width\":0.5},\"pattern\":{\"fillmode\":\"overlay\",\"size\":10,\"solidity\":0.2}},\"type\":\"barpolar\"}],\"pie\":[{\"automargin\":true,\"type\":\"pie\"}]},\"layout\":{\"autotypenumbers\":\"strict\",\"colorway\":[\"#636efa\",\"#EF553B\",\"#00cc96\",\"#ab63fa\",\"#FFA15A\",\"#19d3f3\",\"#FF6692\",\"#B6E880\",\"#FF97FF\",\"#FECB52\"],\"font\":{\"color\":\"#2a3f5f\"},\"hovermode\":\"closest\",\"hoverlabel\":{\"align\":\"left\"},\"paper_bgcolor\":\"white\",\"plot_bgcolor\":\"#E5ECF6\",\"polar\":{\"bgcolor\":\"#E5ECF6\",\"angularaxis\":{\"gridcolor\":\"white\",\"linecolor\":\"white\",\"ticks\":\"\"},\"radialaxis\":{\"gridcolor\":\"white\",\"linecolor\":\"white\",\"ticks\":\"\"}},\"ternary\":{\"bgcolor\":\"#E5ECF6\",\"aaxis\":{\"gridcolor\":\"white\",\"linecolor\":\"white\",\"ticks\":\"\"},\"baxis\":{\"gridcolor\":\"white\",\"linecolor\":\"white\",\"ticks\":\"\"},\"caxis\":{\"gridcolor\":\"white\",\"linecolor\":\"white\",\"ticks\":\"\"}},\"coloraxis\":{\"colorbar\":{\"outlinewidth\":0,\"ticks\":\"\"}},\"colorscale\":{\"sequential\":[[0.0,\"#0d0887\"],[0.1111111111111111,\"#46039f\"],[0.2222222222222222,\"#7201a8\"],[0.3333333333333333,\"#9c179e\"],[0.4444444444444444,\"#bd3786\"],[0.5555555555555556,\"#d8576b\"],[0.6666666666666666,\"#ed7953\"],[0.7777777777777778,\"#fb9f3a\"],[0.8888888888888888,\"#fdca26\"],[1.0,\"#f0f921\"]],\"sequentialminus\":[[0.0,\"#0d0887\"],[0.1111111111111111,\"#46039f\"],[0.2222222222222222,\"#7201a8\"],[0.3333333333333333,\"#9c179e\"],[0.4444444444444444,\"#bd3786\"],[0.5555555555555556,\"#d8576b\"],[0.6666666666666666,\"#ed7953\"],[0.7777777777777778,\"#fb9f3a\"],[0.8888888888888888,\"#fdca26\"],[1.0,\"#f0f921\"]],\"diverging\":[[0,\"#8e0152\"],[0.1,\"#c51b7d\"],[0.2,\"#de77ae\"],[0.3,\"#f1b6da\"],[0.4,\"#fde0ef\"],[0.5,\"#f7f7f7\"],[0.6,\"#e6f5d0\"],[0.7,\"#b8e186\"],[0.8,\"#7fbc41\"],[0.9,\"#4d9221\"],[1,\"#276419\"]]},\"xaxis\":{\"gridcolor\":\"white\",\"linecolor\":\"white\",\"ticks\":\"\",\"title\":{\"standoff\":15},\"zerolinecolor\":\"white\",\"automargin\":true,\"zerolinewidth\":2},\"yaxis\":{\"gridcolor\":\"white\",\"linecolor\":\"white\",\"ticks\":\"\",\"title\":{\"standoff\":15},\"zerolinecolor\":\"white\",\"automargin\":true,\"zerolinewidth\":2},\"scene\":{\"xaxis\":{\"backgroundcolor\":\"#E5ECF6\",\"gridcolor\":\"white\",\"linecolor\":\"white\",\"showbackground\":true,\"ticks\":\"\",\"zerolinecolor\":\"white\",\"gridwidth\":2},\"yaxis\":{\"backgroundcolor\":\"#E5ECF6\",\"gridcolor\":\"white\",\"linecolor\":\"white\",\"showbackground\":true,\"ticks\":\"\",\"zerolinecolor\":\"white\",\"gridwidth\":2},\"zaxis\":{\"backgroundcolor\":\"#E5ECF6\",\"gridcolor\":\"white\",\"linecolor\":\"white\",\"showbackground\":true,\"ticks\":\"\",\"zerolinecolor\":\"white\",\"gridwidth\":2}},\"shapedefaults\":{\"line\":{\"color\":\"#2a3f5f\"}},\"annotationdefaults\":{\"arrowcolor\":\"#2a3f5f\",\"arrowhead\":0,\"arrowwidth\":1},\"geo\":{\"bgcolor\":\"white\",\"landcolor\":\"#E5ECF6\",\"subunitcolor\":\"white\",\"showland\":true,\"showlakes\":true,\"lakecolor\":\"white\"},\"title\":{\"x\":0.05},\"mapbox\":{\"style\":\"light\"}}},\"title\":{\"text\":\"Final Offense SP+ Rating vs Returning Offense EPA\"},\"xaxis\":{\"title\":{\"text\":\"Returning EPA\"}},\"yaxis\":{\"title\":{\"text\":\"Offensive SP+ Rating\"}}},                        {\"responsive\": true}                    ).then(function(){\n",
       "                            \n",
       "var gd = document.getElementById('36a01fe8-4d3f-4146-b94d-5636afff7063');\n",
       "var x = new MutationObserver(function (mutations, observer) {{\n",
       "        var display = window.getComputedStyle(gd).display;\n",
       "        if (!display || display === 'none') {{\n",
       "            console.log([gd, 'removed!']);\n",
       "            Plotly.purge(gd);\n",
       "            observer.disconnect();\n",
       "        }}\n",
       "}});\n",
       "\n",
       "// Listen for the removal of the full notebook cells\n",
       "var notebookContainer = gd.closest('#notebook-container');\n",
       "if (notebookContainer) {{\n",
       "    x.observe(notebookContainer, {childList: true});\n",
       "}}\n",
       "\n",
       "// Listen for the clearing of the current output cell\n",
       "var outputEl = gd.closest('.output');\n",
       "if (outputEl) {{\n",
       "    x.observe(outputEl, {childList: true});\n",
       "}}\n",
       "\n",
       "                        })                };                });            </script>        </div>"
      ]
     },
     "metadata": {},
     "output_type": "display_data"
    }
   ],
   "source": [
    "fig = go.Figure()\n",
    "\n",
    "fig.add_trace(go.Scatter(\n",
    "    x=df['total_ppa'],\n",
    "    y=df['offense_rating'],\n",
    "    text=df['team'],\n",
    "    mode='markers',\n",
    "    marker=dict(size=7, color=df['alt_color'], line=dict(width=3, color=df['color']))\n",
    "))\n",
    "\n",
    "fig.update_layout(title='Final Offense SP+ Rating vs Returning Offense EPA',\n",
    "                   xaxis_title='Returning EPA',\n",
    "                   yaxis_title='Offensive SP+ Rating',)\n",
    "\n",
    "# Show that chart!\n",
    "fig.show()"
   ]
  },
  {
   "cell_type": "code",
   "execution_count": 58,
   "id": "4e8c0f20-463e-4fdb-9911-2c235248c9fa",
   "metadata": {
    "tags": []
   },
   "outputs": [
    {
     "data": {
      "application/vnd.plotly.v1+json": {
       "config": {
        "plotlyServerURL": "https://plot.ly"
       },
       "data": [
        {
         "marker": {
          "color": [
           "#f1f2f3",
           "#00205b",
           "#f1f2f3",
           "#000000",
           "#f1f2f3",
           "#ffb81c",
           "#a39161",
           "#ffc423",
           "#522d80",
           "#ffd200",
           "#f1f2f3",
           "#0021a5",
           "#ceb888",
           "#000000",
           "#002c56",
           "#fa6300",
           "#eeedeb",
           "#ffe100",
           "#FDCA2F",
           "#e8000d",
           "#e7d2ad",
           "#ffffff",
           "#cccccc",
           "#2b0d57",
           "#ffcd00",
           "#f0f0f0",
           "#FFCB05",
           "#ffffff",
           "#981a31",
           "#c8c8c8",
           "#000000",
           "#231f20",
           "#f5f1e7",
           "#13294b",
           "#d6cac1",
           "#666666",
           "#cccccc",
           "#ff9900",
           "#00205b",
           "#fee123",
           "#dea076",
           "#002e5c",
           "#231f20",
           "#a4a9ad",
           "#ffffff",
           "#000000",
           "#ffffff",
           "#0d1d37",
           "#f1f2f3",
           "#ffffff",
           "#f0f0f0",
           "#ffffff",
           "#231f20",
           "#ffc72c",
           "#ae2531",
           "#7e8083",
           "#231f20",
           "#ffffff",
           "#c2c1ba",
           "#000000",
           "#e8e3d3",
           "#6a747c",
           "#eaaa00",
           "#f7f7f7"
          ],
          "line": {
           "color": [
            "#690014",
            "#002449",
            "#942139",
            "#9c1831",
            "#03244d",
            "#004834",
            "#88001a",
            "#031522",
            "#F66733",
            "#d1c57e",
            "#001A57",
            "#0021A5",
            "#782F40",
            "#CC0000",
            "#00223e",
            "#f77329",
            "#7D110C",
            "#000000",
            "#660015",
            "#0022B4",
            "#633194",
            "#005DAA",
            "#ad000a",
            "#fdd023",
            "#D5002B",
            "#004325",
            "#00274c",
            "#18453B",
            "#981a31",
            "#762123",
            "#000000",
            "#EF1216",
            "#F20017",
            "#99bfe5",
            "#372286",
            "#DE3121",
            "#7b0000",
            "#FF6500",
            "#001148",
            "#044520",
            "#c34500",
            "#00265D",
            "#003263",
            "#B89D29",
            "#d21034",
            "#670010",
            "#A80532",
            "#F37321",
            "#3C377D",
            "#EE9627",
            "#EE7524",
            "#5C0025",
            "#C80025",
            "#005C8E",
            "#ffc72c",
            "#890012",
            "#000000",
            "#f84c1e",
            "#74232D",
            "#9E7E38",
            "#2B2F64",
            "#94022a",
            "#FFC600",
            "#A00001"
           ],
           "width": 3
          },
          "size": 7
         },
         "mode": "markers",
         "text": [
          "Alabama",
          "Arizona",
          "Arizona State",
          "Arkansas",
          "Auburn",
          "Baylor",
          "Boston College",
          "California",
          "Clemson",
          "Colorado",
          "Duke",
          "Florida",
          "Florida State",
          "Georgia",
          "Georgia Tech",
          "Illinois",
          "Indiana",
          "Iowa",
          "Iowa State",
          "Kansas",
          "Kansas State",
          "Kentucky",
          "Louisville",
          "LSU",
          "Maryland",
          "Miami",
          "Michigan",
          "Michigan State",
          "Minnesota",
          "Mississippi State",
          "Missouri",
          "NC State",
          "Nebraska",
          "North Carolina",
          "Northwestern",
          "Ohio State",
          "Oklahoma",
          "Oklahoma State",
          "Ole Miss",
          "Oregon",
          "Oregon State",
          "Penn State",
          "Pittsburgh",
          "Purdue",
          "Rutgers",
          "South Carolina",
          "Stanford",
          "Syracuse",
          "TCU",
          "Tennessee",
          "Texas",
          "Texas A&M",
          "Texas Tech",
          "UCLA",
          "USC",
          "Utah",
          "Vanderbilt",
          "Virginia",
          "Virginia Tech",
          "Wake Forest",
          "Washington",
          "Washington State",
          "West Virginia",
          "Wisconsin"
         ],
         "type": "scatter",
         "x": [
          16.7,
          -15.2,
          29.8,
          -7.7,
          71.6,
          -3.2,
          129.4,
          7.2,
          42.5,
          5.6,
          3.2,
          11,
          -3.5,
          99,
          29.7,
          24.5,
          63,
          47.2,
          129,
          -14.7,
          63.8,
          -13,
          106,
          72.8,
          36.3,
          126.7,
          19.3,
          18,
          57.6,
          38.4,
          126.1,
          47.3,
          32,
          180,
          null,
          10.2,
          167.1,
          64.6,
          123.4,
          15.6,
          39.8,
          89.8,
          76.6,
          80.4,
          20.8,
          13.4,
          11.7,
          -0.7,
          33.4,
          16.7,
          15.7,
          6.2,
          35.3,
          80.7,
          92.8,
          -1.4,
          25.1,
          73.7,
          32.3,
          118.6,
          45.9,
          5,
          88.9,
          20.5
         ],
         "y": [
          40.9,
          19.2,
          33.5,
          34.3,
          30.2,
          33.1,
          27,
          27.5,
          28.3,
          18.8,
          23.4,
          35,
          29.8,
          41.4,
          27,
          23.2,
          20.4,
          23.6,
          33.8,
          22.3,
          33.5,
          35.1,
          34.9,
          28,
          34.8,
          34.8,
          36.5,
          34.3,
          29.3,
          34.6,
          31.1,
          33.1,
          34.1,
          37.8,
          19.4,
          47.2,
          41.1,
          30.6,
          36.8,
          35,
          36.9,
          28,
          38.2,
          32.6,
          20.8,
          26,
          22.2,
          27.1,
          33.2,
          39.4,
          34.6,
          33.6,
          34.6,
          37.7,
          32.3,
          37.2,
          17.4,
          39.3,
          26.7,
          38,
          22.8,
          32,
          27.7,
          29.8
         ]
        }
       ],
       "layout": {
        "autosize": true,
        "template": {
         "data": {
          "bar": [
           {
            "error_x": {
             "color": "#2a3f5f"
            },
            "error_y": {
             "color": "#2a3f5f"
            },
            "marker": {
             "line": {
              "color": "#E5ECF6",
              "width": 0.5
             },
             "pattern": {
              "fillmode": "overlay",
              "size": 10,
              "solidity": 0.2
             }
            },
            "type": "bar"
           }
          ],
          "barpolar": [
           {
            "marker": {
             "line": {
              "color": "#E5ECF6",
              "width": 0.5
             },
             "pattern": {
              "fillmode": "overlay",
              "size": 10,
              "solidity": 0.2
             }
            },
            "type": "barpolar"
           }
          ],
          "carpet": [
           {
            "aaxis": {
             "endlinecolor": "#2a3f5f",
             "gridcolor": "white",
             "linecolor": "white",
             "minorgridcolor": "white",
             "startlinecolor": "#2a3f5f"
            },
            "baxis": {
             "endlinecolor": "#2a3f5f",
             "gridcolor": "white",
             "linecolor": "white",
             "minorgridcolor": "white",
             "startlinecolor": "#2a3f5f"
            },
            "type": "carpet"
           }
          ],
          "choropleth": [
           {
            "colorbar": {
             "outlinewidth": 0,
             "ticks": ""
            },
            "type": "choropleth"
           }
          ],
          "contour": [
           {
            "colorbar": {
             "outlinewidth": 0,
             "ticks": ""
            },
            "colorscale": [
             [
              0,
              "#0d0887"
             ],
             [
              0.1111111111111111,
              "#46039f"
             ],
             [
              0.2222222222222222,
              "#7201a8"
             ],
             [
              0.3333333333333333,
              "#9c179e"
             ],
             [
              0.4444444444444444,
              "#bd3786"
             ],
             [
              0.5555555555555556,
              "#d8576b"
             ],
             [
              0.6666666666666666,
              "#ed7953"
             ],
             [
              0.7777777777777778,
              "#fb9f3a"
             ],
             [
              0.8888888888888888,
              "#fdca26"
             ],
             [
              1,
              "#f0f921"
             ]
            ],
            "type": "contour"
           }
          ],
          "contourcarpet": [
           {
            "colorbar": {
             "outlinewidth": 0,
             "ticks": ""
            },
            "type": "contourcarpet"
           }
          ],
          "heatmap": [
           {
            "colorbar": {
             "outlinewidth": 0,
             "ticks": ""
            },
            "colorscale": [
             [
              0,
              "#0d0887"
             ],
             [
              0.1111111111111111,
              "#46039f"
             ],
             [
              0.2222222222222222,
              "#7201a8"
             ],
             [
              0.3333333333333333,
              "#9c179e"
             ],
             [
              0.4444444444444444,
              "#bd3786"
             ],
             [
              0.5555555555555556,
              "#d8576b"
             ],
             [
              0.6666666666666666,
              "#ed7953"
             ],
             [
              0.7777777777777778,
              "#fb9f3a"
             ],
             [
              0.8888888888888888,
              "#fdca26"
             ],
             [
              1,
              "#f0f921"
             ]
            ],
            "type": "heatmap"
           }
          ],
          "heatmapgl": [
           {
            "colorbar": {
             "outlinewidth": 0,
             "ticks": ""
            },
            "colorscale": [
             [
              0,
              "#0d0887"
             ],
             [
              0.1111111111111111,
              "#46039f"
             ],
             [
              0.2222222222222222,
              "#7201a8"
             ],
             [
              0.3333333333333333,
              "#9c179e"
             ],
             [
              0.4444444444444444,
              "#bd3786"
             ],
             [
              0.5555555555555556,
              "#d8576b"
             ],
             [
              0.6666666666666666,
              "#ed7953"
             ],
             [
              0.7777777777777778,
              "#fb9f3a"
             ],
             [
              0.8888888888888888,
              "#fdca26"
             ],
             [
              1,
              "#f0f921"
             ]
            ],
            "type": "heatmapgl"
           }
          ],
          "histogram": [
           {
            "marker": {
             "pattern": {
              "fillmode": "overlay",
              "size": 10,
              "solidity": 0.2
             }
            },
            "type": "histogram"
           }
          ],
          "histogram2d": [
           {
            "colorbar": {
             "outlinewidth": 0,
             "ticks": ""
            },
            "colorscale": [
             [
              0,
              "#0d0887"
             ],
             [
              0.1111111111111111,
              "#46039f"
             ],
             [
              0.2222222222222222,
              "#7201a8"
             ],
             [
              0.3333333333333333,
              "#9c179e"
             ],
             [
              0.4444444444444444,
              "#bd3786"
             ],
             [
              0.5555555555555556,
              "#d8576b"
             ],
             [
              0.6666666666666666,
              "#ed7953"
             ],
             [
              0.7777777777777778,
              "#fb9f3a"
             ],
             [
              0.8888888888888888,
              "#fdca26"
             ],
             [
              1,
              "#f0f921"
             ]
            ],
            "type": "histogram2d"
           }
          ],
          "histogram2dcontour": [
           {
            "colorbar": {
             "outlinewidth": 0,
             "ticks": ""
            },
            "colorscale": [
             [
              0,
              "#0d0887"
             ],
             [
              0.1111111111111111,
              "#46039f"
             ],
             [
              0.2222222222222222,
              "#7201a8"
             ],
             [
              0.3333333333333333,
              "#9c179e"
             ],
             [
              0.4444444444444444,
              "#bd3786"
             ],
             [
              0.5555555555555556,
              "#d8576b"
             ],
             [
              0.6666666666666666,
              "#ed7953"
             ],
             [
              0.7777777777777778,
              "#fb9f3a"
             ],
             [
              0.8888888888888888,
              "#fdca26"
             ],
             [
              1,
              "#f0f921"
             ]
            ],
            "type": "histogram2dcontour"
           }
          ],
          "mesh3d": [
           {
            "colorbar": {
             "outlinewidth": 0,
             "ticks": ""
            },
            "type": "mesh3d"
           }
          ],
          "parcoords": [
           {
            "line": {
             "colorbar": {
              "outlinewidth": 0,
              "ticks": ""
             }
            },
            "type": "parcoords"
           }
          ],
          "pie": [
           {
            "automargin": true,
            "type": "pie"
           }
          ],
          "scatter": [
           {
            "fillpattern": {
             "fillmode": "overlay",
             "size": 10,
             "solidity": 0.2
            },
            "type": "scatter"
           }
          ],
          "scatter3d": [
           {
            "line": {
             "colorbar": {
              "outlinewidth": 0,
              "ticks": ""
             }
            },
            "marker": {
             "colorbar": {
              "outlinewidth": 0,
              "ticks": ""
             }
            },
            "type": "scatter3d"
           }
          ],
          "scattercarpet": [
           {
            "marker": {
             "colorbar": {
              "outlinewidth": 0,
              "ticks": ""
             }
            },
            "type": "scattercarpet"
           }
          ],
          "scattergeo": [
           {
            "marker": {
             "colorbar": {
              "outlinewidth": 0,
              "ticks": ""
             }
            },
            "type": "scattergeo"
           }
          ],
          "scattergl": [
           {
            "marker": {
             "colorbar": {
              "outlinewidth": 0,
              "ticks": ""
             }
            },
            "type": "scattergl"
           }
          ],
          "scattermapbox": [
           {
            "marker": {
             "colorbar": {
              "outlinewidth": 0,
              "ticks": ""
             }
            },
            "type": "scattermapbox"
           }
          ],
          "scatterpolar": [
           {
            "marker": {
             "colorbar": {
              "outlinewidth": 0,
              "ticks": ""
             }
            },
            "type": "scatterpolar"
           }
          ],
          "scatterpolargl": [
           {
            "marker": {
             "colorbar": {
              "outlinewidth": 0,
              "ticks": ""
             }
            },
            "type": "scatterpolargl"
           }
          ],
          "scatterternary": [
           {
            "marker": {
             "colorbar": {
              "outlinewidth": 0,
              "ticks": ""
             }
            },
            "type": "scatterternary"
           }
          ],
          "surface": [
           {
            "colorbar": {
             "outlinewidth": 0,
             "ticks": ""
            },
            "colorscale": [
             [
              0,
              "#0d0887"
             ],
             [
              0.1111111111111111,
              "#46039f"
             ],
             [
              0.2222222222222222,
              "#7201a8"
             ],
             [
              0.3333333333333333,
              "#9c179e"
             ],
             [
              0.4444444444444444,
              "#bd3786"
             ],
             [
              0.5555555555555556,
              "#d8576b"
             ],
             [
              0.6666666666666666,
              "#ed7953"
             ],
             [
              0.7777777777777778,
              "#fb9f3a"
             ],
             [
              0.8888888888888888,
              "#fdca26"
             ],
             [
              1,
              "#f0f921"
             ]
            ],
            "type": "surface"
           }
          ],
          "table": [
           {
            "cells": {
             "fill": {
              "color": "#EBF0F8"
             },
             "line": {
              "color": "white"
             }
            },
            "header": {
             "fill": {
              "color": "#C8D4E3"
             },
             "line": {
              "color": "white"
             }
            },
            "type": "table"
           }
          ]
         },
         "layout": {
          "annotationdefaults": {
           "arrowcolor": "#2a3f5f",
           "arrowhead": 0,
           "arrowwidth": 1
          },
          "autotypenumbers": "strict",
          "coloraxis": {
           "colorbar": {
            "outlinewidth": 0,
            "ticks": ""
           }
          },
          "colorscale": {
           "diverging": [
            [
             0,
             "#8e0152"
            ],
            [
             0.1,
             "#c51b7d"
            ],
            [
             0.2,
             "#de77ae"
            ],
            [
             0.3,
             "#f1b6da"
            ],
            [
             0.4,
             "#fde0ef"
            ],
            [
             0.5,
             "#f7f7f7"
            ],
            [
             0.6,
             "#e6f5d0"
            ],
            [
             0.7,
             "#b8e186"
            ],
            [
             0.8,
             "#7fbc41"
            ],
            [
             0.9,
             "#4d9221"
            ],
            [
             1,
             "#276419"
            ]
           ],
           "sequential": [
            [
             0,
             "#0d0887"
            ],
            [
             0.1111111111111111,
             "#46039f"
            ],
            [
             0.2222222222222222,
             "#7201a8"
            ],
            [
             0.3333333333333333,
             "#9c179e"
            ],
            [
             0.4444444444444444,
             "#bd3786"
            ],
            [
             0.5555555555555556,
             "#d8576b"
            ],
            [
             0.6666666666666666,
             "#ed7953"
            ],
            [
             0.7777777777777778,
             "#fb9f3a"
            ],
            [
             0.8888888888888888,
             "#fdca26"
            ],
            [
             1,
             "#f0f921"
            ]
           ],
           "sequentialminus": [
            [
             0,
             "#0d0887"
            ],
            [
             0.1111111111111111,
             "#46039f"
            ],
            [
             0.2222222222222222,
             "#7201a8"
            ],
            [
             0.3333333333333333,
             "#9c179e"
            ],
            [
             0.4444444444444444,
             "#bd3786"
            ],
            [
             0.5555555555555556,
             "#d8576b"
            ],
            [
             0.6666666666666666,
             "#ed7953"
            ],
            [
             0.7777777777777778,
             "#fb9f3a"
            ],
            [
             0.8888888888888888,
             "#fdca26"
            ],
            [
             1,
             "#f0f921"
            ]
           ]
          },
          "colorway": [
           "#636efa",
           "#EF553B",
           "#00cc96",
           "#ab63fa",
           "#FFA15A",
           "#19d3f3",
           "#FF6692",
           "#B6E880",
           "#FF97FF",
           "#FECB52"
          ],
          "font": {
           "color": "#2a3f5f"
          },
          "geo": {
           "bgcolor": "white",
           "lakecolor": "white",
           "landcolor": "#E5ECF6",
           "showlakes": true,
           "showland": true,
           "subunitcolor": "white"
          },
          "hoverlabel": {
           "align": "left"
          },
          "hovermode": "closest",
          "mapbox": {
           "style": "light"
          },
          "paper_bgcolor": "white",
          "plot_bgcolor": "#E5ECF6",
          "polar": {
           "angularaxis": {
            "gridcolor": "white",
            "linecolor": "white",
            "ticks": ""
           },
           "bgcolor": "#E5ECF6",
           "radialaxis": {
            "gridcolor": "white",
            "linecolor": "white",
            "ticks": ""
           }
          },
          "scene": {
           "xaxis": {
            "backgroundcolor": "#E5ECF6",
            "gridcolor": "white",
            "gridwidth": 2,
            "linecolor": "white",
            "showbackground": true,
            "ticks": "",
            "zerolinecolor": "white"
           },
           "yaxis": {
            "backgroundcolor": "#E5ECF6",
            "gridcolor": "white",
            "gridwidth": 2,
            "linecolor": "white",
            "showbackground": true,
            "ticks": "",
            "zerolinecolor": "white"
           },
           "zaxis": {
            "backgroundcolor": "#E5ECF6",
            "gridcolor": "white",
            "gridwidth": 2,
            "linecolor": "white",
            "showbackground": true,
            "ticks": "",
            "zerolinecolor": "white"
           }
          },
          "shapedefaults": {
           "line": {
            "color": "#2a3f5f"
           }
          },
          "ternary": {
           "aaxis": {
            "gridcolor": "white",
            "linecolor": "white",
            "ticks": ""
           },
           "baxis": {
            "gridcolor": "white",
            "linecolor": "white",
            "ticks": ""
           },
           "bgcolor": "#E5ECF6",
           "caxis": {
            "gridcolor": "white",
            "linecolor": "white",
            "ticks": ""
           }
          },
          "title": {
           "x": 0.05
          },
          "xaxis": {
           "automargin": true,
           "gridcolor": "white",
           "linecolor": "white",
           "ticks": "",
           "title": {
            "standoff": 15
           },
           "zerolinecolor": "white",
           "zerolinewidth": 2
          },
          "yaxis": {
           "automargin": true,
           "gridcolor": "white",
           "linecolor": "white",
           "ticks": "",
           "title": {
            "standoff": 15
           },
           "zerolinecolor": "white",
           "zerolinewidth": 2
          }
         }
        },
        "title": {
         "text": "Final Offense SP+ Rating vs Returning Passing Offense EPA"
        },
        "xaxis": {
         "autorange": true,
         "range": [
          -27.64365045925676,
          192.44365045925676
         ],
         "title": {
          "text": "Returning Passing EPA"
         },
         "type": "linear"
        },
        "yaxis": {
         "autorange": true,
         "range": [
          14.799184339314843,
          49.80081566068516
         ],
         "title": {
          "text": "Offensive SP+ Rating"
         },
         "type": "linear"
        }
       }
      },
      "image/png": "[encoded data removed]",
      "text/html": [
       "<div>                            <div id=\"c4dafb78-a85c-47ac-a6a8-a49553b4e20e\" class=\"plotly-graph-div\" style=\"height:525px; width:100%;\"></div>            <script type=\"text/javascript\">                require([\"plotly\"], function(Plotly) {                    window.PLOTLYENV=window.PLOTLYENV || {};                                    if (document.getElementById(\"c4dafb78-a85c-47ac-a6a8-a49553b4e20e\")) {                    Plotly.newPlot(                        \"c4dafb78-a85c-47ac-a6a8-a49553b4e20e\",                        [{\"marker\":{\"color\":[\"#f1f2f3\",\"#00205b\",\"#f1f2f3\",\"#000000\",\"#f1f2f3\",\"#ffb81c\",\"#a39161\",\"#ffc423\",\"#522d80\",\"#ffd200\",\"#f1f2f3\",\"#0021a5\",\"#ceb888\",\"#000000\",\"#002c56\",\"#fa6300\",\"#eeedeb\",\"#ffe100\",\"#FDCA2F\",\"#e8000d\",\"#e7d2ad\",\"#ffffff\",\"#cccccc\",\"#2b0d57\",\"#ffcd00\",\"#f0f0f0\",\"#FFCB05\",\"#ffffff\",\"#981a31\",\"#c8c8c8\",\"#000000\",\"#231f20\",\"#f5f1e7\",\"#13294b\",\"#d6cac1\",\"#666666\",\"#cccccc\",\"#ff9900\",\"#00205b\",\"#fee123\",\"#dea076\",\"#002e5c\",\"#231f20\",\"#a4a9ad\",\"#ffffff\",\"#000000\",\"#ffffff\",\"#0d1d37\",\"#f1f2f3\",\"#ffffff\",\"#f0f0f0\",\"#ffffff\",\"#231f20\",\"#ffc72c\",\"#ae2531\",\"#7e8083\",\"#231f20\",\"#ffffff\",\"#c2c1ba\",\"#000000\",\"#e8e3d3\",\"#6a747c\",\"#eaaa00\",\"#f7f7f7\"],\"line\":{\"color\":[\"#690014\",\"#002449\",\"#942139\",\"#9c1831\",\"#03244d\",\"#004834\",\"#88001a\",\"#031522\",\"#F66733\",\"#d1c57e\",\"#001A57\",\"#0021A5\",\"#782F40\",\"#CC0000\",\"#00223e\",\"#f77329\",\"#7D110C\",\"#000000\",\"#660015\",\"#0022B4\",\"#633194\",\"#005DAA\",\"#ad000a\",\"#fdd023\",\"#D5002B\",\"#004325\",\"#00274c\",\"#18453B\",\"#981a31\",\"#762123\",\"#000000\",\"#EF1216\",\"#F20017\",\"#99bfe5\",\"#372286\",\"#DE3121\",\"#7b0000\",\"#FF6500\",\"#001148\",\"#044520\",\"#c34500\",\"#00265D\",\"#003263\",\"#B89D29\",\"#d21034\",\"#670010\",\"#A80532\",\"#F37321\",\"#3C377D\",\"#EE9627\",\"#EE7524\",\"#5C0025\",\"#C80025\",\"#005C8E\",\"#ffc72c\",\"#890012\",\"#000000\",\"#f84c1e\",\"#74232D\",\"#9E7E38\",\"#2B2F64\",\"#94022a\",\"#FFC600\",\"#A00001\"],\"width\":3},\"size\":7},\"mode\":\"markers\",\"text\":[\"Alabama\",\"Arizona\",\"Arizona State\",\"Arkansas\",\"Auburn\",\"Baylor\",\"Boston College\",\"California\",\"Clemson\",\"Colorado\",\"Duke\",\"Florida\",\"Florida State\",\"Georgia\",\"Georgia Tech\",\"Illinois\",\"Indiana\",\"Iowa\",\"Iowa State\",\"Kansas\",\"Kansas State\",\"Kentucky\",\"Louisville\",\"LSU\",\"Maryland\",\"Miami\",\"Michigan\",\"Michigan State\",\"Minnesota\",\"Mississippi State\",\"Missouri\",\"NC State\",\"Nebraska\",\"North Carolina\",\"Northwestern\",\"Ohio State\",\"Oklahoma\",\"Oklahoma State\",\"Ole Miss\",\"Oregon\",\"Oregon State\",\"Penn State\",\"Pittsburgh\",\"Purdue\",\"Rutgers\",\"South Carolina\",\"Stanford\",\"Syracuse\",\"TCU\",\"Tennessee\",\"Texas\",\"Texas A&M\",\"Texas Tech\",\"UCLA\",\"USC\",\"Utah\",\"Vanderbilt\",\"Virginia\",\"Virginia Tech\",\"Wake Forest\",\"Washington\",\"Washington State\",\"West Virginia\",\"Wisconsin\"],\"x\":[16.7,-15.2,29.8,-7.7,71.6,-3.2,129.4,7.2,42.5,5.6,3.2,11.0,-3.5,99.0,29.7,24.5,63.0,47.2,129.0,-14.7,63.8,-13.0,106.0,72.8,36.3,126.7,19.3,18.0,57.6,38.4,126.1,47.3,32.0,180.0,null,10.2,167.1,64.6,123.4,15.6,39.8,89.8,76.6,80.4,20.8,13.4,11.7,-0.7,33.4,16.7,15.7,6.2,35.3,80.7,92.8,-1.4,25.1,73.7,32.3,118.6,45.9,5.0,88.9,20.5],\"y\":[40.9,19.2,33.5,34.3,30.2,33.1,27.0,27.5,28.3,18.8,23.4,35.0,29.8,41.4,27.0,23.2,20.4,23.6,33.8,22.3,33.5,35.1,34.9,28.0,34.8,34.8,36.5,34.3,29.3,34.6,31.1,33.1,34.1,37.8,19.4,47.2,41.1,30.6,36.8,35.0,36.9,28.0,38.2,32.6,20.8,26.0,22.2,27.1,33.2,39.4,34.6,33.6,34.6,37.7,32.3,37.2,17.4,39.3,26.7,38.0,22.8,32.0,27.7,29.8],\"type\":\"scatter\"}],                        {\"template\":{\"data\":{\"histogram2dcontour\":[{\"type\":\"histogram2dcontour\",\"colorbar\":{\"outlinewidth\":0,\"ticks\":\"\"},\"colorscale\":[[0.0,\"#0d0887\"],[0.1111111111111111,\"#46039f\"],[0.2222222222222222,\"#7201a8\"],[0.3333333333333333,\"#9c179e\"],[0.4444444444444444,\"#bd3786\"],[0.5555555555555556,\"#d8576b\"],[0.6666666666666666,\"#ed7953\"],[0.7777777777777778,\"#fb9f3a\"],[0.8888888888888888,\"#fdca26\"],[1.0,\"#f0f921\"]]}],\"choropleth\":[{\"type\":\"choropleth\",\"colorbar\":{\"outlinewidth\":0,\"ticks\":\"\"}}],\"histogram2d\":[{\"type\":\"histogram2d\",\"colorbar\":{\"outlinewidth\":0,\"ticks\":\"\"},\"colorscale\":[[0.0,\"#0d0887\"],[0.1111111111111111,\"#46039f\"],[0.2222222222222222,\"#7201a8\"],[0.3333333333333333,\"#9c179e\"],[0.4444444444444444,\"#bd3786\"],[0.5555555555555556,\"#d8576b\"],[0.6666666666666666,\"#ed7953\"],[0.7777777777777778,\"#fb9f3a\"],[0.8888888888888888,\"#fdca26\"],[1.0,\"#f0f921\"]]}],\"heatmap\":[{\"type\":\"heatmap\",\"colorbar\":{\"outlinewidth\":0,\"ticks\":\"\"},\"colorscale\":[[0.0,\"#0d0887\"],[0.1111111111111111,\"#46039f\"],[0.2222222222222222,\"#7201a8\"],[0.3333333333333333,\"#9c179e\"],[0.4444444444444444,\"#bd3786\"],[0.5555555555555556,\"#d8576b\"],[0.6666666666666666,\"#ed7953\"],[0.7777777777777778,\"#fb9f3a\"],[0.8888888888888888,\"#fdca26\"],[1.0,\"#f0f921\"]]}],\"heatmapgl\":[{\"type\":\"heatmapgl\",\"colorbar\":{\"outlinewidth\":0,\"ticks\":\"\"},\"colorscale\":[[0.0,\"#0d0887\"],[0.1111111111111111,\"#46039f\"],[0.2222222222222222,\"#7201a8\"],[0.3333333333333333,\"#9c179e\"],[0.4444444444444444,\"#bd3786\"],[0.5555555555555556,\"#d8576b\"],[0.6666666666666666,\"#ed7953\"],[0.7777777777777778,\"#fb9f3a\"],[0.8888888888888888,\"#fdca26\"],[1.0,\"#f0f921\"]]}],\"contourcarpet\":[{\"type\":\"contourcarpet\",\"colorbar\":{\"outlinewidth\":0,\"ticks\":\"\"}}],\"contour\":[{\"type\":\"contour\",\"colorbar\":{\"outlinewidth\":0,\"ticks\":\"\"},\"colorscale\":[[0.0,\"#0d0887\"],[0.1111111111111111,\"#46039f\"],[0.2222222222222222,\"#7201a8\"],[0.3333333333333333,\"#9c179e\"],[0.4444444444444444,\"#bd3786\"],[0.5555555555555556,\"#d8576b\"],[0.6666666666666666,\"#ed7953\"],[0.7777777777777778,\"#fb9f3a\"],[0.8888888888888888,\"#fdca26\"],[1.0,\"#f0f921\"]]}],\"surface\":[{\"type\":\"surface\",\"colorbar\":{\"outlinewidth\":0,\"ticks\":\"\"},\"colorscale\":[[0.0,\"#0d0887\"],[0.1111111111111111,\"#46039f\"],[0.2222222222222222,\"#7201a8\"],[0.3333333333333333,\"#9c179e\"],[0.4444444444444444,\"#bd3786\"],[0.5555555555555556,\"#d8576b\"],[0.6666666666666666,\"#ed7953\"],[0.7777777777777778,\"#fb9f3a\"],[0.8888888888888888,\"#fdca26\"],[1.0,\"#f0f921\"]]}],\"mesh3d\":[{\"type\":\"mesh3d\",\"colorbar\":{\"outlinewidth\":0,\"ticks\":\"\"}}],\"scatter\":[{\"fillpattern\":{\"fillmode\":\"overlay\",\"size\":10,\"solidity\":0.2},\"type\":\"scatter\"}],\"parcoords\":[{\"type\":\"parcoords\",\"line\":{\"colorbar\":{\"outlinewidth\":0,\"ticks\":\"\"}}}],\"scatterpolargl\":[{\"type\":\"scatterpolargl\",\"marker\":{\"colorbar\":{\"outlinewidth\":0,\"ticks\":\"\"}}}],\"bar\":[{\"error_x\":{\"color\":\"#2a3f5f\"},\"error_y\":{\"color\":\"#2a3f5f\"},\"marker\":{\"line\":{\"color\":\"#E5ECF6\",\"width\":0.5},\"pattern\":{\"fillmode\":\"overlay\",\"size\":10,\"solidity\":0.2}},\"type\":\"bar\"}],\"scattergeo\":[{\"type\":\"scattergeo\",\"marker\":{\"colorbar\":{\"outlinewidth\":0,\"ticks\":\"\"}}}],\"scatterpolar\":[{\"type\":\"scatterpolar\",\"marker\":{\"colorbar\":{\"outlinewidth\":0,\"ticks\":\"\"}}}],\"histogram\":[{\"marker\":{\"pattern\":{\"fillmode\":\"overlay\",\"size\":10,\"solidity\":0.2}},\"type\":\"histogram\"}],\"scattergl\":[{\"type\":\"scattergl\",\"marker\":{\"colorbar\":{\"outlinewidth\":0,\"ticks\":\"\"}}}],\"scatter3d\":[{\"type\":\"scatter3d\",\"line\":{\"colorbar\":{\"outlinewidth\":0,\"ticks\":\"\"}},\"marker\":{\"colorbar\":{\"outlinewidth\":0,\"ticks\":\"\"}}}],\"scattermapbox\":[{\"type\":\"scattermapbox\",\"marker\":{\"colorbar\":{\"outlinewidth\":0,\"ticks\":\"\"}}}],\"scatterternary\":[{\"type\":\"scatterternary\",\"marker\":{\"colorbar\":{\"outlinewidth\":0,\"ticks\":\"\"}}}],\"scattercarpet\":[{\"type\":\"scattercarpet\",\"marker\":{\"colorbar\":{\"outlinewidth\":0,\"ticks\":\"\"}}}],\"carpet\":[{\"aaxis\":{\"endlinecolor\":\"#2a3f5f\",\"gridcolor\":\"white\",\"linecolor\":\"white\",\"minorgridcolor\":\"white\",\"startlinecolor\":\"#2a3f5f\"},\"baxis\":{\"endlinecolor\":\"#2a3f5f\",\"gridcolor\":\"white\",\"linecolor\":\"white\",\"minorgridcolor\":\"white\",\"startlinecolor\":\"#2a3f5f\"},\"type\":\"carpet\"}],\"table\":[{\"cells\":{\"fill\":{\"color\":\"#EBF0F8\"},\"line\":{\"color\":\"white\"}},\"header\":{\"fill\":{\"color\":\"#C8D4E3\"},\"line\":{\"color\":\"white\"}},\"type\":\"table\"}],\"barpolar\":[{\"marker\":{\"line\":{\"color\":\"#E5ECF6\",\"width\":0.5},\"pattern\":{\"fillmode\":\"overlay\",\"size\":10,\"solidity\":0.2}},\"type\":\"barpolar\"}],\"pie\":[{\"automargin\":true,\"type\":\"pie\"}]},\"layout\":{\"autotypenumbers\":\"strict\",\"colorway\":[\"#636efa\",\"#EF553B\",\"#00cc96\",\"#ab63fa\",\"#FFA15A\",\"#19d3f3\",\"#FF6692\",\"#B6E880\",\"#FF97FF\",\"#FECB52\"],\"font\":{\"color\":\"#2a3f5f\"},\"hovermode\":\"closest\",\"hoverlabel\":{\"align\":\"left\"},\"paper_bgcolor\":\"white\",\"plot_bgcolor\":\"#E5ECF6\",\"polar\":{\"bgcolor\":\"#E5ECF6\",\"angularaxis\":{\"gridcolor\":\"white\",\"linecolor\":\"white\",\"ticks\":\"\"},\"radialaxis\":{\"gridcolor\":\"white\",\"linecolor\":\"white\",\"ticks\":\"\"}},\"ternary\":{\"bgcolor\":\"#E5ECF6\",\"aaxis\":{\"gridcolor\":\"white\",\"linecolor\":\"white\",\"ticks\":\"\"},\"baxis\":{\"gridcolor\":\"white\",\"linecolor\":\"white\",\"ticks\":\"\"},\"caxis\":{\"gridcolor\":\"white\",\"linecolor\":\"white\",\"ticks\":\"\"}},\"coloraxis\":{\"colorbar\":{\"outlinewidth\":0,\"ticks\":\"\"}},\"colorscale\":{\"sequential\":[[0.0,\"#0d0887\"],[0.1111111111111111,\"#46039f\"],[0.2222222222222222,\"#7201a8\"],[0.3333333333333333,\"#9c179e\"],[0.4444444444444444,\"#bd3786\"],[0.5555555555555556,\"#d8576b\"],[0.6666666666666666,\"#ed7953\"],[0.7777777777777778,\"#fb9f3a\"],[0.8888888888888888,\"#fdca26\"],[1.0,\"#f0f921\"]],\"sequentialminus\":[[0.0,\"#0d0887\"],[0.1111111111111111,\"#46039f\"],[0.2222222222222222,\"#7201a8\"],[0.3333333333333333,\"#9c179e\"],[0.4444444444444444,\"#bd3786\"],[0.5555555555555556,\"#d8576b\"],[0.6666666666666666,\"#ed7953\"],[0.7777777777777778,\"#fb9f3a\"],[0.8888888888888888,\"#fdca26\"],[1.0,\"#f0f921\"]],\"diverging\":[[0,\"#8e0152\"],[0.1,\"#c51b7d\"],[0.2,\"#de77ae\"],[0.3,\"#f1b6da\"],[0.4,\"#fde0ef\"],[0.5,\"#f7f7f7\"],[0.6,\"#e6f5d0\"],[0.7,\"#b8e186\"],[0.8,\"#7fbc41\"],[0.9,\"#4d9221\"],[1,\"#276419\"]]},\"xaxis\":{\"gridcolor\":\"white\",\"linecolor\":\"white\",\"ticks\":\"\",\"title\":{\"standoff\":15},\"zerolinecolor\":\"white\",\"automargin\":true,\"zerolinewidth\":2},\"yaxis\":{\"gridcolor\":\"white\",\"linecolor\":\"white\",\"ticks\":\"\",\"title\":{\"standoff\":15},\"zerolinecolor\":\"white\",\"automargin\":true,\"zerolinewidth\":2},\"scene\":{\"xaxis\":{\"backgroundcolor\":\"#E5ECF6\",\"gridcolor\":\"white\",\"linecolor\":\"white\",\"showbackground\":true,\"ticks\":\"\",\"zerolinecolor\":\"white\",\"gridwidth\":2},\"yaxis\":{\"backgroundcolor\":\"#E5ECF6\",\"gridcolor\":\"white\",\"linecolor\":\"white\",\"showbackground\":true,\"ticks\":\"\",\"zerolinecolor\":\"white\",\"gridwidth\":2},\"zaxis\":{\"backgroundcolor\":\"#E5ECF6\",\"gridcolor\":\"white\",\"linecolor\":\"white\",\"showbackground\":true,\"ticks\":\"\",\"zerolinecolor\":\"white\",\"gridwidth\":2}},\"shapedefaults\":{\"line\":{\"color\":\"#2a3f5f\"}},\"annotationdefaults\":{\"arrowcolor\":\"#2a3f5f\",\"arrowhead\":0,\"arrowwidth\":1},\"geo\":{\"bgcolor\":\"white\",\"landcolor\":\"#E5ECF6\",\"subunitcolor\":\"white\",\"showland\":true,\"showlakes\":true,\"lakecolor\":\"white\"},\"title\":{\"x\":0.05},\"mapbox\":{\"style\":\"light\"}}},\"title\":{\"text\":\"Final Offense SP+ Rating vs Returning Passing Offense EPA\"},\"xaxis\":{\"title\":{\"text\":\"Returning Passing EPA\"}},\"yaxis\":{\"title\":{\"text\":\"Offensive SP+ Rating\"}}},                        {\"responsive\": true}                    ).then(function(){\n",
       "                            \n",
       "var gd = document.getElementById('c4dafb78-a85c-47ac-a6a8-a49553b4e20e');\n",
       "var x = new MutationObserver(function (mutations, observer) {{\n",
       "        var display = window.getComputedStyle(gd).display;\n",
       "        if (!display || display === 'none') {{\n",
       "            console.log([gd, 'removed!']);\n",
       "            Plotly.purge(gd);\n",
       "            observer.disconnect();\n",
       "        }}\n",
       "}});\n",
       "\n",
       "// Listen for the removal of the full notebook cells\n",
       "var notebookContainer = gd.closest('#notebook-container');\n",
       "if (notebookContainer) {{\n",
       "    x.observe(notebookContainer, {childList: true});\n",
       "}}\n",
       "\n",
       "// Listen for the clearing of the current output cell\n",
       "var outputEl = gd.closest('.output');\n",
       "if (outputEl) {{\n",
       "    x.observe(outputEl, {childList: true});\n",
       "}}\n",
       "\n",
       "                        })                };                });            </script>        </div>"
      ]
     },
     "metadata": {},
     "output_type": "display_data"
    }
   ],
   "source": [
    "fig = go.Figure()\n",
    "\n",
    "fig.add_trace(go.Scatter(\n",
    "    x=df['total_passing_ppa'],\n",
    "    y=df['offense_rating'],\n",
    "    text=df['team'],\n",
    "    mode='markers',\n",
    "    marker=dict(size=7, color=df['alt_color'], line=dict(width=3, color=df['color']))\n",
    "))\n",
    "\n",
    "fig.update_layout(title='Final Offense SP+ Rating vs Returning Passing Offense EPA',\n",
    "                   xaxis_title='Returning Passing EPA',\n",
    "                   yaxis_title='Offensive SP+ Rating',)\n",
    "\n",
    "# Show that chart!\n",
    "fig.show()"
   ]
  },
  {
   "cell_type": "code",
   "execution_count": null,
   "id": "964a8243-de81-468a-98c1-a020d79cfa50",
   "metadata": {},
   "outputs": [],
   "source": []
  }
 ],
 "metadata": {
  "kernelspec": {
   "display_name": "Python 3 (ipykernel)",
   "language": "python",
   "name": "python3"
  },
  "language_info": {
   "codemirror_mode": {
    "name": "ipython",
    "version": 3
   },
   "file_extension": ".py",
   "mimetype": "text/x-python",
   "name": "python",
   "nbconvert_exporter": "python",
   "pygments_lexer": "ipython3",
   "version": "3.10.9"
  }
 },
 "nbformat": 4,
 "nbformat_minor": 5
}
