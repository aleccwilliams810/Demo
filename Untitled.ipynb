{
 "cells": [
  {
   "cell_type": "code",
   "execution_count": 1,
   "id": "86c126c9-8cb3-4fdc-8b07-b4e0a9331c75",
   "metadata": {
    "tags": []
   },
   "outputs": [
    {
     "name": "stdout",
     "output_type": "stream",
     "text": [
      "Green Bay Packers* is not in the dictionary.\n"
     ]
    },
    {
     "name": "stdin",
     "output_type": "stream",
     "text": [
      "What is the value for Green Bay Packers*?  GNB\n"
     ]
    },
    {
     "name": "stdout",
     "output_type": "stream",
     "text": [
      "Cincinnati Bengals is not in the dictionary.\n"
     ]
    },
    {
     "name": "stdin",
     "output_type": "stream",
     "text": [
      "What is the value for Cincinnati Bengals?  CIN\n"
     ]
    },
    {
     "name": "stdout",
     "output_type": "stream",
     "text": [
      "Cleveland Browns is not in the dictionary.\n"
     ]
    },
    {
     "name": "stdin",
     "output_type": "stream",
     "text": [
      "What is the value for Cleveland Browns?  CLE\n"
     ]
    },
    {
     "name": "stdout",
     "output_type": "stream",
     "text": [
      "Chicago Bears is not in the dictionary.\n"
     ]
    },
    {
     "name": "stdin",
     "output_type": "stream",
     "text": [
      "What is the value for Chicago Bears?  CHI\n"
     ]
    },
    {
     "name": "stdout",
     "output_type": "stream",
     "text": [
      "San Francisco 49ers is not in the dictionary.\n"
     ]
    },
    {
     "name": "stdin",
     "output_type": "stream",
     "text": [
      "What is the value for San Francisco 49ers?  SFO\n"
     ]
    },
    {
     "name": "stdout",
     "output_type": "stream",
     "text": [
      "Seattle Seahawks+ is not in the dictionary.\n"
     ]
    },
    {
     "name": "stdin",
     "output_type": "stream",
     "text": [
      "What is the value for Seattle Seahawks+?  SEA\n"
     ]
    },
    {
     "name": "stdout",
     "output_type": "stream",
     "text": [
      "Los Angeles Rams* is not in the dictionary.\n"
     ]
    },
    {
     "name": "stdin",
     "output_type": "stream",
     "text": [
      "What is the value for Los Angeles Rams*?  LAR\n"
     ]
    },
    {
     "name": "stdout",
     "output_type": "stream",
     "text": [
      "Buffalo Bills* is not in the dictionary.\n"
     ]
    },
    {
     "name": "stdin",
     "output_type": "stream",
     "text": [
      "What is the value for Buffalo Bills*?  BUF\n"
     ]
    },
    {
     "name": "stdout",
     "output_type": "stream",
     "text": [
      "Tampa Bay Buccaneers is not in the dictionary.\n"
     ]
    },
    {
     "name": "stdin",
     "output_type": "stream",
     "text": [
      "What is the value for Tampa Bay Buccaneers?  TAM\n"
     ]
    },
    {
     "name": "stdout",
     "output_type": "stream",
     "text": [
      "Tennessee Titans* is not in the dictionary.\n"
     ]
    },
    {
     "name": "stdin",
     "output_type": "stream",
     "text": [
      "What is the value for Tennessee Titans*?  TEN\n"
     ]
    },
    {
     "name": "stdout",
     "output_type": "stream",
     "text": [
      "New England Patriots* is not in the dictionary.\n"
     ]
    },
    {
     "name": "stdin",
     "output_type": "stream",
     "text": [
      "What is the value for New England Patriots*?  NWE\n"
     ]
    },
    {
     "name": "stdout",
     "output_type": "stream",
     "text": [
      "Washington Redskins is not in the dictionary.\n"
     ]
    },
    {
     "name": "stdin",
     "output_type": "stream",
     "text": [
      "What is the value for Washington Redskins?  WAS\n"
     ]
    },
    {
     "name": "stdout",
     "output_type": "stream",
     "text": [
      "Philadelphia Eagles+ is not in the dictionary.\n"
     ]
    },
    {
     "name": "stdin",
     "output_type": "stream",
     "text": [
      "What is the value for Philadelphia Eagles+?  PHI\n"
     ]
    },
    {
     "name": "stdout",
     "output_type": "stream",
     "text": [
      "Dallas Cowboys* is not in the dictionary.\n"
     ]
    },
    {
     "name": "stdin",
     "output_type": "stream",
     "text": [
      "What is the value for Dallas Cowboys*?  DAL\n"
     ]
    },
    {
     "name": "stdout",
     "output_type": "stream",
     "text": [
      "Baltimore Ravens* is not in the dictionary.\n"
     ]
    },
    {
     "name": "stdin",
     "output_type": "stream",
     "text": [
      "What is the value for Baltimore Ravens*?  BAL\n"
     ]
    },
    {
     "name": "stdout",
     "output_type": "stream",
     "text": [
      "Indianapolis Colts+ is not in the dictionary.\n"
     ]
    },
    {
     "name": "stdin",
     "output_type": "stream",
     "text": [
      "What is the value for Indianapolis Colts+?  IND\n"
     ]
    },
    {
     "name": "stdout",
     "output_type": "stream",
     "text": [
      "Houston Texans* is not in the dictionary.\n"
     ]
    },
    {
     "name": "stdin",
     "output_type": "stream",
     "text": [
      "What is the value for Houston Texans*?  HOU\n"
     ]
    },
    {
     "name": "stdout",
     "output_type": "stream",
     "text": [
      "Pittsburgh Steelers is not in the dictionary.\n"
     ]
    },
    {
     "name": "stdin",
     "output_type": "stream",
     "text": [
      "What is the value for Pittsburgh Steelers?  PIT\n"
     ]
    },
    {
     "name": "stdout",
     "output_type": "stream",
     "text": [
      "Green Bay Packers is not in the dictionary.\n"
     ]
    },
    {
     "name": "stdin",
     "output_type": "stream",
     "text": [
      "What is the value for Green Bay Packers?  GNB\n"
     ]
    },
    {
     "name": "stdout",
     "output_type": "stream",
     "text": [
      "Pittsburgh Steelers+ is not in the dictionary.\n"
     ]
    },
    {
     "name": "stdin",
     "output_type": "stream",
     "text": [
      "What is the value for Pittsburgh Steelers+?  PIT\n"
     ]
    },
    {
     "name": "stdout",
     "output_type": "stream",
     "text": [
      "Tampa Bay Buccaneers+ is not in the dictionary.\n"
     ]
    },
    {
     "name": "stdin",
     "output_type": "stream",
     "text": [
      "What is the value for Tampa Bay Buccaneers+?  TAM\n"
     ]
    },
    {
     "name": "stdout",
     "output_type": "stream",
     "text": [
      "Seattle Seahawks* is not in the dictionary.\n"
     ]
    },
    {
     "name": "stdin",
     "output_type": "stream",
     "text": [
      "What is the value for Seattle Seahawks*?  SEA\n"
     ]
    },
    {
     "name": "stdout",
     "output_type": "stream",
     "text": [
      "Los Angeles Rams+ is not in the dictionary.\n"
     ]
    },
    {
     "name": "stdin",
     "output_type": "stream",
     "text": [
      "What is the value for Los Angeles Rams+?  LAR\n"
     ]
    },
    {
     "name": "stdout",
     "output_type": "stream",
     "text": [
      "New England Patriots+ is not in the dictionary.\n"
     ]
    },
    {
     "name": "stdin",
     "output_type": "stream",
     "text": [
      "What is the value for New England Patriots+?  NWE\n"
     ]
    },
    {
     "name": "stdout",
     "output_type": "stream",
     "text": [
      "Cincinnati Bengals* is not in the dictionary.\n"
     ]
    },
    {
     "name": "stdin",
     "output_type": "stream",
     "text": [
      "What is the value for Cincinnati Bengals*?  CIN\n"
     ]
    },
    {
     "name": "stdout",
     "output_type": "stream",
     "text": [
      "Las Vegas Raiders+ is not in the dictionary.\n"
     ]
    },
    {
     "name": "stdin",
     "output_type": "stream",
     "text": [
      "What is the value for Las Vegas Raiders+?  LVR\n"
     ]
    },
    {
     "name": "stdout",
     "output_type": "stream",
     "text": [
      "Tampa Bay Buccaneers* is not in the dictionary.\n"
     ]
    },
    {
     "name": "stdin",
     "output_type": "stream",
     "text": [
      "What is the value for Tampa Bay Buccaneers*?  TAM\n"
     ]
    },
    {
     "name": "stdout",
     "output_type": "stream",
     "text": [
      "New Orleans Saints is not in the dictionary.\n"
     ]
    },
    {
     "name": "stdin",
     "output_type": "stream",
     "text": [
      "What is the value for New Orleans Saints?  NOR\n"
     ]
    },
    {
     "name": "stdout",
     "output_type": "stream",
     "text": [
      "Arizona Cardinals+ is not in the dictionary.\n"
     ]
    },
    {
     "name": "stdin",
     "output_type": "stream",
     "text": [
      "What is the value for Arizona Cardinals+?  ARI\n"
     ]
    },
    {
     "name": "stdout",
     "output_type": "stream",
     "text": [
      "San Francisco 49ers+ is not in the dictionary.\n"
     ]
    },
    {
     "name": "stdin",
     "output_type": "stream",
     "text": [
      "What is the value for San Francisco 49ers+?  SFO\n"
     ]
    },
    {
     "name": "stdout",
     "output_type": "stream",
     "text": [
      "Chicago Bears+ is not in the dictionary.\n"
     ]
    },
    {
     "name": "stdin",
     "output_type": "stream",
     "text": [
      "What is the value for Chicago Bears+?  CHI\n"
     ]
    },
    {
     "name": "stdout",
     "output_type": "stream",
     "text": [
      "Cleveland Browns+ is not in the dictionary.\n"
     ]
    },
    {
     "name": "stdin",
     "output_type": "stream",
     "text": [
      "What is the value for Cleveland Browns+?  CLE\n"
     ]
    },
    {
     "name": "stdout",
     "output_type": "stream",
     "text": [
      "Washington Football Team* is not in the dictionary.\n"
     ]
    },
    {
     "name": "stdin",
     "output_type": "stream",
     "text": [
      "What is the value for Washington Football Team*?  WAS\n"
     ]
    },
    {
     "name": "stdout",
     "output_type": "stream",
     "text": [
      "Las Vegas Raiders is not in the dictionary.\n"
     ]
    },
    {
     "name": "stdin",
     "output_type": "stream",
     "text": [
      "What is the value for Las Vegas Raiders?  LVR\n"
     ]
    },
    {
     "name": "stdout",
     "output_type": "stream",
     "text": [
      "Buffalo Bills is not in the dictionary.\n"
     ]
    },
    {
     "name": "stdin",
     "output_type": "stream",
     "text": [
      "What is the value for Buffalo Bills?  BUF\n"
     ]
    },
    {
     "name": "stdout",
     "output_type": "stream",
     "text": [
      "Chicago Bears* is not in the dictionary.\n"
     ]
    },
    {
     "name": "stdin",
     "output_type": "stream",
     "text": [
      "What is the value for Chicago Bears*?  CHI\n"
     ]
    },
    {
     "name": "stdout",
     "output_type": "stream",
     "text": [
      "Baltimore Ravens+ is not in the dictionary.\n"
     ]
    },
    {
     "name": "stdin",
     "output_type": "stream",
     "text": [
      "What is the value for Baltimore Ravens+?  BAL\n"
     ]
    },
    {
     "name": "stdout",
     "output_type": "stream",
     "text": [
      "Pittsburgh Steelers* is not in the dictionary.\n"
     ]
    },
    {
     "name": "stdin",
     "output_type": "stream",
     "text": [
      "What is the value for Pittsburgh Steelers*?  PIT\n"
     ]
    },
    {
     "name": "stdout",
     "output_type": "stream",
     "text": [
      "Los Angeles Rams is not in the dictionary.\n"
     ]
    },
    {
     "name": "stdin",
     "output_type": "stream",
     "text": [
      "What is the value for Los Angeles Rams?  LAR\n"
     ]
    },
    {
     "name": "stdout",
     "output_type": "stream",
     "text": [
      "San Francisco 49ers* is not in the dictionary.\n"
     ]
    },
    {
     "name": "stdin",
     "output_type": "stream",
     "text": [
      "What is the value for San Francisco 49ers*?  SFO\n"
     ]
    },
    {
     "name": "stdout",
     "output_type": "stream",
     "text": [
      "Minnesota Vikings+ is not in the dictionary.\n"
     ]
    },
    {
     "name": "stdin",
     "output_type": "stream",
     "text": [
      "What is the value for Minnesota Vikings+?  MIN\n"
     ]
    },
    {
     "name": "stdout",
     "output_type": "stream",
     "text": [
      "Philadelphia Eagles* is not in the dictionary.\n"
     ]
    },
    {
     "name": "stdin",
     "output_type": "stream",
     "text": [
      "What is the value for Philadelphia Eagles*?  PHI\n"
     ]
    },
    {
     "name": "stdout",
     "output_type": "stream",
     "text": [
      "Los Angeles Chargers+ is not in the dictionary.\n"
     ]
    },
    {
     "name": "stdin",
     "output_type": "stream",
     "text": [
      "What is the value for Los Angeles Chargers+?  LAC\n"
     ]
    },
    {
     "name": "stdout",
     "output_type": "stream",
     "text": [
      "Tennessee Titans+ is not in the dictionary.\n"
     ]
    },
    {
     "name": "stdin",
     "output_type": "stream",
     "text": [
      "What is the value for Tennessee Titans+?  TEN\n"
     ]
    },
    {
     "name": "stdout",
     "output_type": "stream",
     "text": [
      "Buffalo Bills+ is not in the dictionary.\n"
     ]
    },
    {
     "name": "stdin",
     "output_type": "stream",
     "text": [
      "What is the value for Buffalo Bills+?  BUF\n"
     ]
    },
    {
     "name": "stdout",
     "output_type": "stream",
     "text": [
      "Seattle Seahawks is not in the dictionary.\n"
     ]
    },
    {
     "name": "stdin",
     "output_type": "stream",
     "text": [
      "What is the value for Seattle Seahawks?  SEA\n"
     ]
    }
   ],
   "source": [
    "nfl_teams = ['Atlanta Falcons', 'Kansas City Chiefs*', 'New York Jets', 'Detroit Lions', 'New York Giants', 'Miami Dolphins', 'Denver Broncos', 'Carolina Panthers', 'Jacksonville Jaguars', 'New Orleans Saints*', 'Minnesota Vikings', 'Arizona Cardinals', 'Los Angeles Chargers', 'Green Bay Packers*', 'Cincinnati Bengals', 'Cleveland Browns', 'Dallas Cowboys', 'Chicago Bears', 'San Francisco 49ers', 'Seattle Seahawks+', 'Los Angeles Rams*', 'Buffalo Bills*', 'Tampa Bay Buccaneers', 'Tennessee Titans*', 'Houston Texans', 'New England Patriots*', 'Indianapolis Colts', 'Washington Redskins', 'Philadelphia Eagles+', 'Dallas Cowboys*', 'Baltimore Ravens*', 'Oakland Raiders', 'Indianapolis Colts+', 'Houston Texans*', 'Pittsburgh Steelers', 'Green Bay Packers', 'Pittsburgh Steelers+', 'Tampa Bay Buccaneers+', 'Seattle Seahawks*', 'Los Angeles Rams+', 'New England Patriots+', 'Cincinnati Bengals*', 'Las Vegas Raiders+', 'Baltimore Ravens', 'Philadelphia Eagles', 'Washington Football Team', 'Tampa Bay Buccaneers*', 'New Orleans Saints', 'Arizona Cardinals+', 'San Francisco 49ers+', 'Chicago Bears+', 'Cleveland Browns+', 'Washington Football Team*', 'Las Vegas Raiders', 'Buffalo Bills', 'Chicago Bears*', 'Baltimore Ravens+', 'Pittsburgh Steelers*', 'New England Patriots', 'Los Angeles Rams', 'San Francisco 49ers*', 'Minnesota Vikings+', 'Tennessee Titans', 'Philadelphia Eagles*', 'Los Angeles Chargers+', 'Tennessee Titans+', 'Buffalo Bills+', 'Seattle Seahawks']\n",
    "\n",
    "nfl_dict = {'Atlanta Falcons': 'ATL', 'Kansas City Chiefs*': 'KAN', 'New York Jets': 'NYJ', 'Detroit Lions': 'DET', 'New York Giants': 'NYG', 'Miami Dolphins': 'MIA', 'Denver Broncos': 'DEN', 'Carolina Panthers': 'CAR', 'Jacksonville Jaguars': 'JAX', 'New Orleans Saints*': 'NOR', 'Minnesota Vikings': 'MIN', 'Arizona Cardinals': 'ARI', 'Los Angeles Chargers': 'LAC', 'Tennessee Titans': 'TEN', 'Houston Texans': 'HOU', 'New England Patriots': 'NWE', 'Indianapolis Colts': 'IND', 'Washington Football Team': 'WAS', 'Philadelphia Eagles': 'PHI', 'Dallas Cowboys': 'DAL', 'Baltimore Ravens': 'BAL', 'Oakland Raiders': 'OAK'}\n",
    "\n",
    "for team in nfl_teams:\n",
    "    if team not in nfl_dict.keys():\n",
    "        print(f\"{team} is not in the dictionary.\")\n",
    "        value = input(f\"What is the value for {team}? \")\n",
    "        nfl_dict[team] = value"
   ]
  },
  {
   "cell_type": "code",
   "execution_count": 2,
   "id": "8bf9ec7c-20b6-43b3-9ebd-012ca1244901",
   "metadata": {
    "tags": []
   },
   "outputs": [
    {
     "data": {
      "text/plain": [
       "{'Atlanta Falcons': 'ATL',\n",
       " 'Kansas City Chiefs*': 'KAN',\n",
       " 'New York Jets': 'NYJ',\n",
       " 'Detroit Lions': 'DET',\n",
       " 'New York Giants': 'NYG',\n",
       " 'Miami Dolphins': 'MIA',\n",
       " 'Denver Broncos': 'DEN',\n",
       " 'Carolina Panthers': 'CAR',\n",
       " 'Jacksonville Jaguars': 'JAX',\n",
       " 'New Orleans Saints*': 'NOR',\n",
       " 'Minnesota Vikings': 'MIN',\n",
       " 'Arizona Cardinals': 'ARI',\n",
       " 'Los Angeles Chargers': 'LAC',\n",
       " 'Tennessee Titans': 'TEN',\n",
       " 'Houston Texans': 'HOU',\n",
       " 'New England Patriots': 'NWE',\n",
       " 'Indianapolis Colts': 'IND',\n",
       " 'Washington Football Team': 'WAS',\n",
       " 'Philadelphia Eagles': 'PHI',\n",
       " 'Dallas Cowboys': 'DAL',\n",
       " 'Baltimore Ravens': 'BAL',\n",
       " 'Oakland Raiders': 'OAK',\n",
       " 'Green Bay Packers*': 'GNB',\n",
       " 'Cincinnati Bengals': 'CIN',\n",
       " 'Cleveland Browns': 'CLE',\n",
       " 'Chicago Bears': 'CHI',\n",
       " 'San Francisco 49ers': 'SFO',\n",
       " 'Seattle Seahawks+': 'SEA',\n",
       " 'Los Angeles Rams*': 'LAR',\n",
       " 'Buffalo Bills*': 'BUF',\n",
       " 'Tampa Bay Buccaneers': 'TAM',\n",
       " 'Tennessee Titans*': 'TEN',\n",
       " 'New England Patriots*': 'NWE',\n",
       " 'Washington Redskins': 'WAS',\n",
       " 'Philadelphia Eagles+': 'PHI',\n",
       " 'Dallas Cowboys*': 'DAL',\n",
       " 'Baltimore Ravens*': 'BAL',\n",
       " 'Indianapolis Colts+': 'IND',\n",
       " 'Houston Texans*': 'HOU',\n",
       " 'Pittsburgh Steelers': 'PIT',\n",
       " 'Green Bay Packers': 'GNB',\n",
       " 'Pittsburgh Steelers+': 'PIT',\n",
       " 'Tampa Bay Buccaneers+': 'TAM',\n",
       " 'Seattle Seahawks*': 'SEA',\n",
       " 'Los Angeles Rams+': 'LAR',\n",
       " 'New England Patriots+': 'NWE',\n",
       " 'Cincinnati Bengals*': 'CIN',\n",
       " 'Las Vegas Raiders+': 'LVR',\n",
       " 'Tampa Bay Buccaneers*': 'TAM',\n",
       " 'New Orleans Saints': 'NOR',\n",
       " 'Arizona Cardinals+': 'ARI',\n",
       " 'San Francisco 49ers+': 'SFO',\n",
       " 'Chicago Bears+': 'CHI',\n",
       " 'Cleveland Browns+': 'CLE',\n",
       " 'Washington Football Team*': 'WAS',\n",
       " 'Las Vegas Raiders': 'LVR',\n",
       " 'Buffalo Bills': 'BUF',\n",
       " 'Chicago Bears*': 'CHI',\n",
       " 'Baltimore Ravens+': 'BAL',\n",
       " 'Pittsburgh Steelers*': 'PIT',\n",
       " 'Los Angeles Rams': 'LAR',\n",
       " 'San Francisco 49ers*': 'SFO',\n",
       " 'Minnesota Vikings+': 'MIN',\n",
       " 'Philadelphia Eagles*': 'PHI',\n",
       " 'Los Angeles Chargers+': 'LAC',\n",
       " 'Tennessee Titans+': 'TEN',\n",
       " 'Buffalo Bills+': 'BUF',\n",
       " 'Seattle Seahawks': 'SEA'}"
      ]
     },
     "execution_count": 2,
     "metadata": {},
     "output_type": "execute_result"
    }
   ],
   "source": [
    "nfl_dict"
   ]
  },
  {
   "cell_type": "code",
   "execution_count": 3,
   "id": "9be9601f-d9e5-4134-9ec8-8b1518fb881f",
   "metadata": {
    "tags": []
   },
   "outputs": [],
   "source": [
    "# Get a list of unique keys in the dictionary\n",
    "unique_keys = list(set(nfl_dict.keys()))\n",
    "\n",
    "# Create a new dictionary with only the keys that don't contain a special character\n",
    "updated_dict = {}\n",
    "for key in unique_keys:\n",
    "    if not any(c in key for c in ['*', '+']):\n",
    "        updated_dict[key] = nfl_dict[key]"
   ]
  },
  {
   "cell_type": "code",
   "execution_count": 4,
   "id": "df461a34-8d78-4e9a-9c62-8ee4b1775c4b",
   "metadata": {
    "tags": []
   },
   "outputs": [
    {
     "data": {
      "text/plain": [
       "{'New York Giants': 'NYG',\n",
       " 'Las Vegas Raiders': 'LVR',\n",
       " 'Los Angeles Chargers': 'LAC',\n",
       " 'Denver Broncos': 'DEN',\n",
       " 'Green Bay Packers': 'GNB',\n",
       " 'Jacksonville Jaguars': 'JAX',\n",
       " 'Washington Redskins': 'WAS',\n",
       " 'Los Angeles Rams': 'LAR',\n",
       " 'Arizona Cardinals': 'ARI',\n",
       " 'Carolina Panthers': 'CAR',\n",
       " 'Baltimore Ravens': 'BAL',\n",
       " 'New York Jets': 'NYJ',\n",
       " 'Miami Dolphins': 'MIA',\n",
       " 'Minnesota Vikings': 'MIN',\n",
       " 'Oakland Raiders': 'OAK',\n",
       " 'Chicago Bears': 'CHI',\n",
       " 'New England Patriots': 'NWE',\n",
       " 'Tennessee Titans': 'TEN',\n",
       " 'New Orleans Saints': 'NOR',\n",
       " 'Cleveland Browns': 'CLE',\n",
       " 'Tampa Bay Buccaneers': 'TAM',\n",
       " 'Buffalo Bills': 'BUF',\n",
       " 'Cincinnati Bengals': 'CIN',\n",
       " 'Houston Texans': 'HOU',\n",
       " 'San Francisco 49ers': 'SFO',\n",
       " 'Atlanta Falcons': 'ATL',\n",
       " 'Washington Football Team': 'WAS',\n",
       " 'Indianapolis Colts': 'IND',\n",
       " 'Seattle Seahawks': 'SEA',\n",
       " 'Pittsburgh Steelers': 'PIT',\n",
       " 'Dallas Cowboys': 'DAL',\n",
       " 'Detroit Lions': 'DET',\n",
       " 'Philadelphia Eagles': 'PHI'}"
      ]
     },
     "execution_count": 4,
     "metadata": {},
     "output_type": "execute_result"
    }
   ],
   "source": [
    "updated_dict"
   ]
  },
  {
   "cell_type": "code",
   "execution_count": null,
   "id": "28fe1646-304a-43a2-a01f-7a08e63f5dc1",
   "metadata": {},
   "outputs": [],
   "source": []
  }
 ],
 "metadata": {
  "kernelspec": {
   "display_name": "Python 3 (ipykernel)",
   "language": "python",
   "name": "python3"
  },
  "language_info": {
   "codemirror_mode": {
    "name": "ipython",
    "version": 3
   },
   "file_extension": ".py",
   "mimetype": "text/x-python",
   "name": "python",
   "nbconvert_exporter": "python",
   "pygments_lexer": "ipython3",
   "version": "3.10.9"
  }
 },
 "nbformat": 4,
 "nbformat_minor": 5
}
