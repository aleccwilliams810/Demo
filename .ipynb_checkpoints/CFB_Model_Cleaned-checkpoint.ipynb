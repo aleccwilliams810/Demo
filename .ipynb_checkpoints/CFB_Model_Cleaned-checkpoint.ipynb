{
 "cells": [
  {
   "cell_type": "code",
   "execution_count": null,
   "id": "6375849b-5b56-419c-9161-32c2e059940a",
   "metadata": {
    "tags": []
   },
   "outputs": [],
   "source": [
    "import cfbd\n",
    "import pandas as pd\n",
    "import concurrent.futures\n",
    "from sklearn.linear_model import LinearRegression\n",
    "from sklearn.model_selection import train_test_split\n",
    "from sklearn.metrics import mean_squared_error, r2_score\n",
    "# Configuration\n",
    "configuration = cfbd.Configuration()\n",
    "configuration.api_key['Authorization'] = 'JOo7NPQiRwoWx1kDmv1VDiujh+ra/nfYLRGy0TVt2KhLM+Yiu6BpXOC7W4YtjBdq'\n",
    "configuration.api_key_prefix['Authorization'] = 'Bearer'\n",
    "# Initialize API instances\n",
    "games_api_instance = cfbd.GamesApi(cfbd.ApiClient(configuration))\n",
    "stats_api_instance = cfbd.StatsApi(cfbd.ApiClient(configuration))"
   ]
  },
  {
   "cell_type": "code",
   "execution_count": null,
   "id": "900b6234-f0b2-403f-95df-3b9b86bd1f80",
   "metadata": {
    "tags": []
   },
   "outputs": [],
   "source": [
    "def fetch_big_12_teams():\n",
    "    teams_api = cfbd.TeamsApi(cfbd.ApiClient(configuration))\n",
    "    all_teams = teams_api.get_teams()\n",
    "    return {team.school for team in all_teams if team.conference == 'Big 12'}\n",
    "\n",
    "# Fetch Big 12 teams\n",
    "big_12_teams = fetch_big_12_teams()\n",
    "print(big_12_teams)"
   ]
  },
  {
   "cell_type": "code",
   "execution_count": null,
   "id": "370c2845-8cd8-43ed-a348-a3a7ffaa4a16",
   "metadata": {
    "tags": []
   },
   "outputs": [],
   "source": [
    "def fetch_games_data_for_years(start_year, end_year, big_12_teams):\n",
    "    dataframes = {}\n",
    "    for year in range(start_year, end_year + 1):\n",
    "        all_games = []\n",
    "        for team in big_12_teams:\n",
    "            games = games_api_instance.get_games(year=year, team=team)\n",
    "            all_games.extend(games)\n",
    "        \n",
    "        big_12_games = [game for game in all_games if game.home_team in big_12_teams and game.away_team in big_12_teams]\n",
    "\n",
    "        game_data = pd.DataFrame.from_records(\n",
    "            [dict(game_id=game.id,\n",
    "                  year=game.season,\n",
    "                  home_team=game.home_team,\n",
    "                  away_team=game.away_team,\n",
    "                  home_points=game.home_points,\n",
    "                  away_points=game.away_points) for game in big_12_games]\n",
    "        )\n",
    "        dataframes[year] = game_data\n",
    "    return dataframes"
   ]
  },
  {
   "cell_type": "code",
   "execution_count": null,
   "id": "794b1960-e174-4b6a-a703-905500060696",
   "metadata": {
    "tags": []
   },
   "outputs": [],
   "source": [
    "def fetch_advanced_stats_for_year(year, big_12_teams):\n",
    "    all_advanced_stats = []\n",
    "    for team in big_12_teams:\n",
    "        advanced_stats = stats_api_instance.get_advanced_team_game_stats(year=year, team=team)\n",
    "        all_advanced_stats.extend(advanced_stats)\n",
    "    \n",
    "    big_12_advanced_stats = [stat for stat in all_advanced_stats if stat.team in big_12_teams and stat.opponent in big_12_teams]\n",
    "\n",
    "    return year, pd.DataFrame.from_records(\n",
    "        [dict(game_id=stat.game_id,\n",
    "              team=stat.team,\n",
    "              opponent=stat.opponent,\n",
    "              line_yards_total=stat.offense.line_yards_total,\n",
    "              second_level_yards_total=stat.offense.second_level_yards_total,\n",
    "              open_field_yards_total=stat.offense.open_field_yards_total,\n",
    "              total_points=stat.offense.total_ppa,\n",
    "              total_plays=stat.offense.plays) for stat in big_12_advanced_stats]\n",
    "    )\n",
    "\n",
    "def fetch_advanced_team_stats_for_years(start_year, end_year, big_12_teams):\n",
    "    advanced_stats_data = {}\n",
    "    years = list(range(start_year, end_year + 1))\n",
    "\n",
    "    with concurrent.futures.ThreadPoolExecutor() as executor:\n",
    "        futures = {executor.submit(fetch_advanced_stats_for_year, year, big_12_teams): year for year in years}\n",
    "        for future in concurrent.futures.as_completed(futures):\n",
    "            year = futures[future]\n",
    "            try:\n",
    "                data = future.result()\n",
    "                advanced_stats_data[year] = data[1]\n",
    "            except Exception as exc:\n",
    "                print(f\"Year {year} generated an exception: {exc}\")\n",
    "\n",
    "    return advanced_stats_data"
   ]
  },
  {
   "cell_type": "code",
   "execution_count": null,
   "id": "cc6c40de-cb1e-479c-bf27-b2dfb3cffe59",
   "metadata": {
    "tags": []
   },
   "outputs": [],
   "source": [
    "def calculate_point_differential(df):\n",
    "    df['point_differential'] = df['home_points'] - df['away_points']"
   ]
  },
  {
   "cell_type": "code",
   "execution_count": null,
   "id": "011225f9-0115-4b27-81dd-aba479833bfd",
   "metadata": {
    "tags": []
   },
   "outputs": [],
   "source": [
    "# Fetch data\n",
    "years_data = fetch_games_data_for_years(2016, 2020, big_12_teams)"
   ]
  },
  {
   "cell_type": "code",
   "execution_count": null,
   "id": "b414f002-f486-4cdd-8440-141103eed89e",
   "metadata": {
    "tags": []
   },
   "outputs": [],
   "source": [
    "advanced_stats_data = fetch_advanced_team_stats_for_years(2016, 2020, big_12_teams)"
   ]
  },
  {
   "cell_type": "code",
   "execution_count": null,
   "id": "707e405e-5466-454a-bd87-ea62a08c9a73",
   "metadata": {
    "tags": []
   },
   "outputs": [],
   "source": [
    "# Combine data\n",
    "combined_data = pd.concat(years_data.values(), ignore_index=True)\n",
    "advanced_stats_combined = pd.concat(advanced_stats_data.values(), ignore_index=True)\n",
    "\n",
    "# Calculate point differential and merge datasets\n",
    "calculate_point_differential(combined_data)\n",
    "combined_data_with_advanced_stats = combined_data.merge(advanced_stats_combined, left_on=['game_id', 'home_team'], right_on=['game_id', 'team'], how='inner')\n",
    "combined_data_with_advanced_stats.drop('team', axis=1, inplace=True)\n",
    "\n",
    "# Prepare dataset for model training\n",
    "df = combined_data_with_advanced_stats.dropna()\n",
    "df = df.drop_duplicates()\n",
    "X = df[['line_yards_total', 'second_level_yards_total', 'open_field_yards_total', 'total_points', 'total_plays']]\n",
    "y = df['point_differential']\n",
    "X_train, X_test, y_train, y_test = train_test_split(X, y, test_size=0.2, random_state=0)\n",
    "\n",
    "# Train model\n",
    "model = LinearRegression()\n",
    "model.fit(X_train, y_train)"
   ]
  },
  {
   "cell_type": "code",
   "execution_count": null,
   "id": "d212cf7f-4ac2-4f3c-84ff-f54716ff4003",
   "metadata": {
    "tags": []
   },
   "outputs": [],
   "source": [
    "# Predict point differentials for the test dataset\n",
    "y_pred = model.predict(X_test)\n",
    "\n",
    "# Calculate mean squared error and R^2 score\n",
    "mse = mean_squared_error(y_test, y_pred)\n",
    "r2 = r2_score(y_test, y_pred)\n",
    "\n",
    "# Print results\n",
    "print(\"Mean Squared Error: {:.2f}\".format(mse))\n",
    "print(\"R^2 Score: {:.2f}\".format(r2))\n"
   ]
  },
  {
   "cell_type": "code",
   "execution_count": null,
   "id": "b534968b-8308-491b-af3f-3f6de6bdb1ac",
   "metadata": {
    "tags": []
   },
   "outputs": [],
   "source": [
    "# 1. Fetch game data and advanced team stats for the 2021 season\n",
    "games_2021 = fetch_games_data_for_years(2021, 2021, big_12_teams)\n",
    "advanced_stats_2021 = fetch_advanced_team_stats_for_years(2021, 2021, big_12_teams)\n",
    "\n",
    "# 2. Preprocess the data\n",
    "combined_data_2021 = pd.concat(games_2021.values(), ignore_index=True)\n",
    "calculate_point_differential(combined_data_2021)\n",
    "advanced_stats_combined_2021 = pd.concat(advanced_stats_2021.values(), ignore_index=True)\n",
    "combined_data_with_advanced_stats_2021 = combined_data_2021.merge(\n",
    "    advanced_stats_combined_2021,\n",
    "    left_on=['game_id', 'home_team'],\n",
    "    right_on=['game_id', 'team'],\n",
    "    how='inner'\n",
    ")\n",
    "combined_data_with_advanced_stats_2021.drop('team', axis=1, inplace=True)\n",
    "df_2021 = combined_data_with_advanced_stats_2021.dropna()\n",
    "df_2021 = df_2021.drop_duplicates()\n",
    "X_2021 = df_2021[['line_yards_total', 'second_level_yards_total', 'open_field_yards_total', 'total_points', 'total_plays']]\n",
    "y_actual_2021 = df_2021['point_differential']\n",
    "\n",
    "# 3. Use your trained model to predict point differentials for the 2021 games\n",
    "y_pred_2021 = model.predict(X_2021)\n",
    "\n",
    "# 4. Compare the predicted point differentials with the actual point differentials\n",
    "mse_2021 = mean_squared_error(y_actual_2021, y_pred_2021)\n",
    "r2_2021 = r2_score(y_actual_2021, y_pred_2021)\n",
    "\n",
    "print(\"Mean Squared Error for 2021: {:.2f}\".format(mse_2021))\n",
    "print(\"R^2 Score for 2021: {:.2f}\".format(r2_2021))\n"
   ]
  },
  {
   "cell_type": "code",
   "execution_count": null,
   "id": "d58b25d7-0eef-49c5-8197-47152eec35a4",
   "metadata": {
    "tags": []
   },
   "outputs": [],
   "source": [
    "# Add the predicted point differentials as a new column in the DataFrame\n",
    "df_2021['predicted_point_differential'] = y_pred_2021\n",
    "\n",
    "df_2021[['home_team','away_team','point_differential','predicted_point_differential']]"
   ]
  },
  {
   "cell_type": "code",
   "execution_count": null,
   "id": "32aeef50-c8df-447b-9826-52d5d6fe2288",
   "metadata": {
    "tags": []
   },
   "outputs": [],
   "source": [
    "import numpy as np\n",
    "import tensorflow as tf\n",
    "from sklearn.preprocessing import MinMaxScaler"
   ]
  },
  {
   "cell_type": "code",
   "execution_count": null,
   "id": "711c3b4c-dff6-45a4-be50-ab257fdb0358",
   "metadata": {
    "tags": []
   },
   "outputs": [],
   "source": [
    "# 2. Normalize the input features\n",
    "scaler = MinMaxScaler()\n",
    "X_train_normalized = scaler.fit_transform(X_train)\n",
    "X_test_normalized = scaler.transform(X_test)\n",
    "X_2021_normalized = scaler.transform(X_2021)"
   ]
  },
  {
   "cell_type": "code",
   "execution_count": null,
   "id": "38df7f8f-38d8-4b4d-a80a-946c143b5101",
   "metadata": {
    "tags": []
   },
   "outputs": [],
   "source": [
    "# 3. Create a neural network model\n",
    "model_nn = tf.keras.Sequential([\n",
    "    tf.keras.layers.Dense(32, activation='relu', input_shape=(X_train_normalized.shape[1],)),\n",
    "    tf.keras.layers.Dense(16, activation='relu'),\n",
    "    tf.keras.layers.Dense(1)\n",
    "])"
   ]
  },
  {
   "cell_type": "code",
   "execution_count": null,
   "id": "5f97ac49-2e10-44d6-a1b5-bf28a4d0ea52",
   "metadata": {
    "tags": []
   },
   "outputs": [],
   "source": [
    "# Compile the model\n",
    "model_nn.compile(optimizer='adam', loss='mean_squared_error')"
   ]
  },
  {
   "cell_type": "code",
   "execution_count": null,
   "id": "5a6b19f0-d84e-4f66-b4e6-11a4fc5166af",
   "metadata": {
    "tags": []
   },
   "outputs": [],
   "source": [
    "# 4. Train the model on your dataset\n",
    "model_nn.fit(X_train_normalized, y_train, epochs=100, batch_size=32, verbose=0)"
   ]
  },
  {
   "cell_type": "code",
   "execution_count": null,
   "id": "6f1b1ba1-d724-43ef-93cf-470212847a6d",
   "metadata": {
    "tags": []
   },
   "outputs": [],
   "source": [
    "# 5. Evaluate the model's performance and make predictions\n",
    "y_pred_nn = model_nn.predict(X_test_normalized).flatten()\n",
    "mse_nn = mean_squared_error(y_test, y_pred_nn)\n",
    "r2_nn = r2_score(y_test, y_pred_nn)\n",
    "print(\"Mean Squared Error for Neural Network: {:.2f}\".format(mse_nn))\n",
    "print(\"R^2 Score for Neural Network: {:.2f}\".format(r2_nn))"
   ]
  },
  {
   "cell_type": "code",
   "execution_count": null,
   "id": "67904bb2-57e4-4752-ad70-16f80e93f285",
   "metadata": {
    "tags": []
   },
   "outputs": [],
   "source": [
    "# Make predictions for the 2021 season\n",
    "y_pred_2021_nn = model_nn.predict(X_2021_normalized).flatten()"
   ]
  },
  {
   "cell_type": "code",
   "execution_count": null,
   "id": "19020a33-48d9-4a74-9278-6dd25b46bc72",
   "metadata": {
    "tags": []
   },
   "outputs": [],
   "source": [
    "# Add the neural network predictions to the DataFrame\n",
    "df_2021['predicted_point_differential_nn'] = y_pred_2021_nn"
   ]
  },
  {
   "cell_type": "code",
   "execution_count": null,
   "id": "f29d07fe-1b0e-4fc7-9e55-6d4445252e2e",
   "metadata": {
    "tags": []
   },
   "outputs": [],
   "source": [
    "# Filter the DataFrame to only include games where both teams are from the Big 12 conference\n",
    "big_12_games_2021 = df_2021[df_2021['home_team'].isin(big_12_teams) & df_2021['away_team'].isin(big_12_teams)]\n",
    "\n",
    "# Display the filtered DataFrame with the actual and predicted point differentials\n",
    "print(big_12_games_2021[['home_team', 'away_team', 'point_differential', 'predicted_point_differential', 'predicted_point_differential_nn']])\n"
   ]
  },
  {
   "cell_type": "code",
   "execution_count": null,
   "id": "6c04cf13-f2c9-488b-ae2e-c8843925b183",
   "metadata": {
    "tags": []
   },
   "outputs": [],
   "source": [
    "import matplotlib.pyplot as plt\n",
    "import numpy as np\n",
    "\n",
    "# Set the index for the DataFrame to be a combination of home_team and away_team\n",
    "big_12_games_2021.index = big_12_games_2021['home_team'] + \" vs \" + big_12_games_2021['away_team']\n",
    "\n",
    "# Create a bar chart comparing actual, predicted, and nn_predicted point differentials\n",
    "ax = big_12_games_2021[['point_differential', 'predicted_point_differential', 'predicted_point_differential_nn']].plot(kind='bar', figsize=(15, 7))\n",
    "\n",
    "# Set labels and title\n",
    "ax.set_ylabel(\"Point Differentials\")\n",
    "ax.set_xlabel(\"Games\")\n",
    "ax.set_title(\"2021 Big 12 Actual vs. Predicted vs. NN Predicted Point Differentials\")\n",
    "\n",
    "# Show the plot\n",
    "plt.show()"
   ]
  },
  {
   "cell_type": "code",
   "execution_count": null,
   "id": "a865e709-9ecb-4dea-b959-6e6ebbbf7181",
   "metadata": {},
   "outputs": [],
   "source": []
  }
 ],
 "metadata": {
  "kernelspec": {
   "display_name": "Python 3 (ipykernel)",
   "language": "python",
   "name": "python3"
  },
  "language_info": {
   "codemirror_mode": {
    "name": "ipython",
    "version": 3
   },
   "file_extension": ".py",
   "mimetype": "text/x-python",
   "name": "python",
   "nbconvert_exporter": "python",
   "pygments_lexer": "ipython3",
   "version": "3.10.9"
  }
 },
 "nbformat": 4,
 "nbformat_minor": 5
}
