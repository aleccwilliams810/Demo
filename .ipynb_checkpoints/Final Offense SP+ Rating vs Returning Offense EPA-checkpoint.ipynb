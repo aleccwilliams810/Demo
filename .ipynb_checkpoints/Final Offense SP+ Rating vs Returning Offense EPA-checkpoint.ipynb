{
 "cells": [
  {
   "cell_type": "code",
   "execution_count": null,
   "id": "66c01fa0-692f-4303-b4c4-c3653b9e3193",
   "metadata": {
    "tags": []
   },
   "outputs": [],
   "source": [
    "import cfbd\n",
    "import pandas as pd\n",
    "import plotly"
   ]
  },
  {
   "cell_type": "code",
   "execution_count": null,
   "id": "959516fd-a8e2-409c-bb44-30b8e846a758",
   "metadata": {
    "tags": []
   },
   "outputs": [],
   "source": [
    "from plotly import graph_objects as go"
   ]
  },
  {
   "cell_type": "code",
   "execution_count": null,
   "id": "0e2a8e41-2767-4f86-ba71-e9391f694408",
   "metadata": {
    "tags": []
   },
   "outputs": [],
   "source": [
    "configuration = cfbd.Configuration()\n",
    "configuration.api_key['Authorization'] = 'JOo7NPQiRwoWx1kDmv1VDiujh+ra/nfYLRGy0TVt2KhLM+Yiu6BpXOC7W4YtjBdq'\n",
    "configuration.api_key_prefix['Authorization'] = 'Bearer'"
   ]
  },
  {
   "cell_type": "code",
   "execution_count": null,
   "id": "f04c9644-1327-4fe0-8fa9-941a5b9f8428",
   "metadata": {
    "tags": []
   },
   "outputs": [],
   "source": [
    "api_instance = cfbd.TeamsApi(cfbd.ApiClient(configuration))\n",
    "teams = api_instance.get_fbs_teams(year=2022)\n",
    "\n",
    "teams_df = pd.DataFrame.from_records([dict(team=t.school, color=t.color, alt_color=t.alt_color) for t in teams])\n",
    "teams_df.head()"
   ]
  },
  {
   "cell_type": "code",
   "execution_count": null,
   "id": "048323d5-f5cb-448a-84ab-129c4518342d",
   "metadata": {
    "tags": []
   },
   "outputs": [],
   "source": [
    "api_instance = cfbd.PlayersApi(cfbd.ApiClient(configuration))\n",
    "production = api_instance.get_returning_production(year=2021)\n",
    "\n",
    "production_df = pd.DataFrame.from_records([p.to_dict() for p in production])\n",
    "production_df.head()"
   ]
  },
  {
   "cell_type": "code",
   "execution_count": null,
   "id": "77665fca-c356-4ac0-a17c-fe8950b86c7e",
   "metadata": {
    "tags": []
   },
   "outputs": [],
   "source": [
    "df = teams_df.merge(production_df, left_on=['team'], right_on=['team'], suffixes=['', '_'])\n",
    "df.head()"
   ]
  },
  {
   "cell_type": "code",
   "execution_count": null,
   "id": "30b58e9e-a38a-4f86-9045-171055de9312",
   "metadata": {
    "tags": []
   },
   "outputs": [],
   "source": [
    "api_instance = cfbd.RatingsApi(cfbd.ApiClient(configuration))\n",
    "ratings = api_instance.get_sp_ratings(year=2021)\n",
    "\n",
    "ratings_df = pd.DataFrame.from_records([r.to_dict() for r in ratings])\n",
    "ratings_df['offense_rating'] = ratings_df[['offense']].apply(lambda x: x.offense['rating'], axis=1)\n",
    "ratings_df.head()"
   ]
  },
  {
   "cell_type": "code",
   "execution_count": null,
   "id": "c4be4304-0b98-42b5-846e-62dd4a85d200",
   "metadata": {
    "tags": []
   },
   "outputs": [],
   "source": [
    "df = df.merge(ratings_df[['team', 'rating', 'offense_rating']], left_on=['team'], right_on=['team'], suffixes=['', '_'])\n",
    "df.head()"
   ]
  },
  {
   "cell_type": "code",
   "execution_count": null,
   "id": "4613a75e-69c4-48c3-a48f-e930738ce76b",
   "metadata": {
    "tags": []
   },
   "outputs": [],
   "source": [
    "conf_filter = df['conference'].isin(['SEC', 'Big Ten', 'Big 12', 'Pac-12', 'ACC'])\n",
    "filtered_df = df[conf_filter]\n",
    "df = filtered_df"
   ]
  },
  {
   "cell_type": "code",
   "execution_count": null,
   "id": "00044961-fc0c-42e7-817a-0e27f66e8522",
   "metadata": {
    "tags": []
   },
   "outputs": [],
   "source": [
    "df['alt_color'].fillna('#ffffff', inplace=True)"
   ]
  },
  {
   "cell_type": "code",
   "execution_count": null,
   "id": "ded1a747-4af2-47e2-a04b-f4224bfb24d3",
   "metadata": {
    "tags": []
   },
   "outputs": [],
   "source": [
    "fig = go.Figure()\n",
    "\n",
    "fig.add_trace(go.Scatter(\n",
    "    x=df['total_ppa'],\n",
    "    y=df['offense_rating'],\n",
    "    text=df['team'],\n",
    "    mode='markers',\n",
    "    marker=dict(size=7, color=df['alt_color'], line=dict(width=3, color=df['color']))\n",
    "))\n",
    "\n",
    "fig.update_layout(title='Final Offense SP+ Rating vs Returning Offense EPA',\n",
    "                   xaxis_title='Returning EPA',\n",
    "                   yaxis_title='Offensive SP+ Rating',)\n",
    "\n",
    "# Show that chart!\n",
    "fig.show()"
   ]
  },
  {
   "cell_type": "code",
   "execution_count": null,
   "id": "4e8c0f20-463e-4fdb-9911-2c235248c9fa",
   "metadata": {
    "tags": []
   },
   "outputs": [],
   "source": [
    "fig = go.Figure()\n",
    "\n",
    "fig.add_trace(go.Scatter(\n",
    "    x=df['total_passing_ppa'],\n",
    "    y=df['offense_rating'],\n",
    "    text=df['team'],\n",
    "    mode='markers',\n",
    "    marker=dict(size=7, color=df['alt_color'], line=dict(width=3, color=df['color']))\n",
    "))\n",
    "\n",
    "fig.update_layout(title='Final Offense SP+ Rating vs Returning Passing Offense EPA',\n",
    "                   xaxis_title='Returning Passing EPA',\n",
    "                   yaxis_title='Offensive SP+ Rating',)\n",
    "\n",
    "# Show that chart!\n",
    "fig.show()"
   ]
  },
  {
   "cell_type": "code",
   "execution_count": null,
   "id": "964a8243-de81-468a-98c1-a020d79cfa50",
   "metadata": {},
   "outputs": [],
   "source": []
  }
 ],
 "metadata": {
  "kernelspec": {
   "display_name": "Python 3 (ipykernel)",
   "language": "python",
   "name": "python3"
  },
  "language_info": {
   "codemirror_mode": {
    "name": "ipython",
    "version": 3
   },
   "file_extension": ".py",
   "mimetype": "text/x-python",
   "name": "python",
   "nbconvert_exporter": "python",
   "pygments_lexer": "ipython3",
   "version": "3.10.9"
  }
 },
 "nbformat": 4,
 "nbformat_minor": 5
}
