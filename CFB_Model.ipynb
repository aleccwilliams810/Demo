{
 "cells": [
  {
   "cell_type": "code",
   "execution_count": null,
   "id": "f043e579-eb13-4471-bd1e-a41fc59f076f",
   "metadata": {
    "tags": []
   },
   "outputs": [],
   "source": [
    "import cfbd\n",
    "import pandas as pd\n",
    "from sklearn.linear_model import LinearRegression\n",
    "from sklearn.model_selection import train_test_split\n",
    "from sklearn.metrics import mean_squared_error, r2_score\n"
   ]
  },
  {
   "cell_type": "code",
   "execution_count": null,
   "id": "3235591d-69db-4f84-95e3-c9714ac38650",
   "metadata": {
    "tags": []
   },
   "outputs": [],
   "source": [
    "configuration = cfbd.Configuration()\n",
    "configuration.api_key['Authorization'] = 'JOo7NPQiRwoWx1kDmv1VDiujh+ra/nfYLRGy0TVt2KhLM+Yiu6BpXOC7W4YtjBdq'\n",
    "configuration.api_key_prefix['Authorization'] = 'Bearer'"
   ]
  },
  {
   "cell_type": "code",
   "execution_count": null,
   "id": "afe8e65c-6990-4b41-8448-b851a0a5fef9",
   "metadata": {
    "tags": []
   },
   "outputs": [],
   "source": [
    "api_instance = cfbd.GamesApi(cfbd.ApiClient(configuration))"
   ]
  },
  {
   "cell_type": "code",
   "execution_count": null,
   "id": "d6e94807-51ac-486c-a5e5-f309494f69fc",
   "metadata": {
    "tags": []
   },
   "outputs": [],
   "source": [
    "def fetch_games_data_for_years(start_year, end_year):\n",
    "    dataframes = {}\n",
    "    for year in range(start_year, end_year + 1):\n",
    "        games = api_instance.get_games(year=year)\n",
    "        big_12_games = [game for game in games if game.home_conference == 'Big 12' or game.away_conference == 'Big 12']\n",
    "        \n",
    "        game_data = pd.DataFrame.from_records(\n",
    "            [dict(game_id=game.id,\n",
    "                  year=game.season,\n",
    "                  home_team=game.home_team,\n",
    "                  away_team=game.away_team,\n",
    "                  home_points=game.home_points,\n",
    "                  away_points=game.away_points) for game in big_12_games]\n",
    "        )\n",
    "        dataframes[year] = game_data\n",
    "    return dataframes\n",
    "\n",
    "years_data = fetch_games_data_for_years(2016, 2020)\n"
   ]
  },
  {
   "cell_type": "code",
   "execution_count": null,
   "id": "47d0349c-0cd9-4887-a060-5f7fc47527a7",
   "metadata": {
    "tags": []
   },
   "outputs": [],
   "source": [
    "print(years_data)"
   ]
  },
  {
   "cell_type": "code",
   "execution_count": null,
   "id": "4d077831-21ee-4c81-a183-5960c0728ae5",
   "metadata": {
    "tags": []
   },
   "outputs": [],
   "source": [
    "combined_data = pd.concat(years_data.values(), ignore_index=True)\n"
   ]
  },
  {
   "cell_type": "code",
   "execution_count": null,
   "id": "23c8592d-4b0b-4d89-8fb6-522545d01cc2",
   "metadata": {
    "tags": []
   },
   "outputs": [],
   "source": [
    "def calculate_point_differential(df):\n",
    "    df['point_differential'] = df['home_points'] - df['away_points']\n",
    "\n",
    "calculate_point_differential(combined_data)\n"
   ]
  },
  {
   "cell_type": "code",
   "execution_count": null,
   "id": "b993c4b5-b690-4324-b86b-41d4c9d662c9",
   "metadata": {},
   "outputs": [],
   "source": []
  }
 ],
 "metadata": {
  "kernelspec": {
   "display_name": "Python 3 (ipykernel)",
   "language": "python",
   "name": "python3"
  },
  "language_info": {
   "codemirror_mode": {
    "name": "ipython",
    "version": 3
   },
   "file_extension": ".py",
   "mimetype": "text/x-python",
   "name": "python",
   "nbconvert_exporter": "python",
   "pygments_lexer": "ipython3",
   "version": "3.10.9"
  }
 },
 "nbformat": 4,
 "nbformat_minor": 5
}
