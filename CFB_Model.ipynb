{
 "cells": [
  {
   "cell_type": "code",
   "execution_count": null,
   "id": "f043e579-eb13-4471-bd1e-a41fc59f076f",
   "metadata": {
    "tags": []
   },
   "outputs": [],
   "source": [
    "import cfbd\n",
    "import pandas as pd\n",
    "from sklearn.linear_model import LinearRegression\n",
    "from sklearn.model_selection import train_test_split\n",
    "from sklearn.metrics import mean_squared_error, r2_score\n"
   ]
  },
  {
   "cell_type": "code",
   "execution_count": null,
   "id": "3235591d-69db-4f84-95e3-c9714ac38650",
   "metadata": {
    "tags": []
   },
   "outputs": [],
   "source": [
    "configuration = cfbd.Configuration()\n",
    "configuration.api_key['Authorization'] = 'JOo7NPQiRwoWx1kDmv1VDiujh+ra/nfYLRGy0TVt2KhLM+Yiu6BpXOC7W4YtjBdq'\n",
    "configuration.api_key_prefix['Authorization'] = 'Bearer'"
   ]
  },
  {
   "cell_type": "code",
   "execution_count": null,
   "id": "afe8e65c-6990-4b41-8448-b851a0a5fef9",
   "metadata": {
    "tags": []
   },
   "outputs": [],
   "source": [
    "api_instance = cfbd.GamesApi(cfbd.ApiClient(configuration))"
   ]
  },
  {
   "cell_type": "code",
   "execution_count": null,
   "id": "d6e94807-51ac-486c-a5e5-f309494f69fc",
   "metadata": {
    "tags": []
   },
   "outputs": [],
   "source": [
    "def fetch_games_data_for_years(start_year, end_year):\n",
    "    dataframes = {}\n",
    "    for year in range(start_year, end_year + 1):\n",
    "        games = api_instance.get_games(year=year)\n",
    "        big_12_games = [game for game in games if game.home_conference == 'Big 12' or game.away_conference == 'Big 12']\n",
    "        \n",
    "        game_data = pd.DataFrame.from_records(\n",
    "            [dict(game_id=game.id,\n",
    "                  year=game.season,\n",
    "                  home_team=game.home_team,\n",
    "                  away_team=game.away_team,\n",
    "                  home_points=game.home_points,\n",
    "                  away_points=game.away_points) for game in big_12_games]\n",
    "        )\n",
    "        dataframes[year] = game_data\n",
    "    return dataframes\n",
    "\n",
    "years_data = fetch_games_data_for_years(2016, 2020)\n"
   ]
  },
  {
   "cell_type": "code",
   "execution_count": null,
   "id": "47d0349c-0cd9-4887-a060-5f7fc47527a7",
   "metadata": {
    "tags": []
   },
   "outputs": [],
   "source": [
    "print(years_data)"
   ]
  },
  {
   "cell_type": "code",
   "execution_count": null,
   "id": "4d077831-21ee-4c81-a183-5960c0728ae5",
   "metadata": {
    "tags": []
   },
   "outputs": [],
   "source": [
    "combined_data = pd.concat(years_data.values(), ignore_index=True)\n"
   ]
  },
  {
   "cell_type": "code",
   "execution_count": null,
   "id": "23c8592d-4b0b-4d89-8fb6-522545d01cc2",
   "metadata": {
    "tags": []
   },
   "outputs": [],
   "source": [
    "def calculate_point_differential(df):\n",
    "    df['point_differential'] = df['home_points'] - df['away_points']\n",
    "\n",
    "calculate_point_differential(combined_data)\n"
   ]
  },
  {
   "cell_type": "code",
   "execution_count": null,
   "id": "3b7f70b4-1f87-4eb0-836a-5da5d7bf93c5",
   "metadata": {
    "tags": []
   },
   "outputs": [],
   "source": [
    "api_instance = cfbd.StatsApi(cfbd.ApiClient(configuration))\n",
    "advanced_stats_data = {}\n",
    "for year in range(2016, 2020):\n",
    "    advanced_stats = api_instance.get_advanced_team_game_stats(year=year)\n",
    "    advanced_stats_data[year] = pd.DataFrame.from_records(\n",
    "        [dict(game_id=stat.game_id,\n",
    "              team=stat.team,\n",
    "              opponent=stat.opponent,\n",
    "              line_yards_total=stat.offense.line_yards_total,\n",
    "              second_level_yards_total=stat.offense.second_level_yards_total,\n",
    "              open_field_yards_total=stat.offense.open_field_yards_total,\n",
    "              total_points=stat.offense.total_ppa,\n",
    "              total_plays=stat.offense.plays) for stat in advanced_stats]\n",
    "    )"
   ]
  },
  {
   "cell_type": "code",
   "execution_count": null,
   "id": "af635712-6035-4cc8-8e07-06a1fb2e958c",
   "metadata": {
    "tags": []
   },
   "outputs": [],
   "source": [
    "advanced_stats_combined = pd.concat(advanced_stats_data.values(), ignore_index=True)\n",
    "combined_data_with_advanced_stats = combined_data.merge(advanced_stats_combined, left_on=['game_id', 'home_team'], right_on=['game_id', 'team'], how='inner')\n",
    "combined_data_with_advanced_stats.drop('team', axis=1, inplace=True)\n",
    "df = combined_data_with_advanced_stats.dropna()"
   ]
  },
  {
   "cell_type": "code",
   "execution_count": null,
   "id": "7209c226-5889-4f26-ad25-14f58104f84d",
   "metadata": {
    "tags": []
   },
   "outputs": [],
   "source": [
    "X = df[['line_yards_total', 'second_level_yards_total', 'open_field_yards_total', 'total_points', 'total_plays']]\n",
    "y = df['point_differential']\n",
    "X_train, X_test, y_train, y_test = train_test_split(X, y, test_size=0.2, random_state=0)\n"
   ]
  },
  {
   "cell_type": "code",
   "execution_count": null,
   "id": "431abb66-6551-4561-9084-68583bfb3108",
   "metadata": {
    "tags": []
   },
   "outputs": [],
   "source": [
    "# convert training and testing sets to dataframes\n",
    "train_df = pd.concat([X_train, y_train], axis=1)\n",
    "test_df = pd.concat([X_test, y_test], axis=1)\n",
    "\n",
    "print(train_df, test_df)"
   ]
  },
  {
   "cell_type": "code",
   "execution_count": null,
   "id": "576af120-fbac-417e-95c7-f904f162cbd6",
   "metadata": {
    "tags": []
   },
   "outputs": [],
   "source": [
    "model = LinearRegression()\n",
    "model.fit(X_train, y_train)"
   ]
  },
  {
   "cell_type": "code",
   "execution_count": null,
   "id": "7a7b8da9-0153-44e9-bef0-94935051ea6b",
   "metadata": {},
   "outputs": [],
   "source": []
  }
 ],
 "metadata": {
  "kernelspec": {
   "display_name": "Python 3 (ipykernel)",
   "language": "python",
   "name": "python3"
  },
  "language_info": {
   "codemirror_mode": {
    "name": "ipython",
    "version": 3
   },
   "file_extension": ".py",
   "mimetype": "text/x-python",
   "name": "python",
   "nbconvert_exporter": "python",
   "pygments_lexer": "ipython3",
   "version": "3.10.9"
  }
 },
 "nbformat": 4,
 "nbformat_minor": 5
}
