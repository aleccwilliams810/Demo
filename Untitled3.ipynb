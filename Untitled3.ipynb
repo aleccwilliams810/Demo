{
 "cells": [
  {
   "cell_type": "code",
   "execution_count": 1,
   "id": "26e4df13-87de-4156-ab09-3125e850d044",
   "metadata": {
    "tags": []
   },
   "outputs": [
    {
     "name": "stdout",
     "output_type": "stream",
     "text": [
      "                      Tm         W         L         T      W-L%        PF  \\\n",
      "0               AFC East  AFC East  AFC East  AFC East  AFC East  AFC East   \n",
      "1         Buffalo Bills*        11         6         0      .647       483   \n",
      "2  New England Patriots+        10         7         0      .588       462   \n",
      "3         Miami Dolphins         9         8         0      .529       341   \n",
      "4          New York Jets         4        13         0      .235       310   \n",
      "\n",
      "         PA        PD       MoV       SoS       SRS      OSRS      DSRS  \n",
      "0  AFC East  AFC East  AFC East  AFC East  AFC East  AFC East  AFC East  \n",
      "1       289       194      11.4      -1.6       9.8       5.0       4.8  \n",
      "2       303       159       9.4      -0.9       8.5       3.6       4.8  \n",
      "3       373       -32      -1.9      -0.8      -2.7      -3.1       0.3  \n",
      "4       504      -194     -11.4       1.0     -10.4      -3.6      -6.7  \n",
      "                         Tm         W         L         T      W-L%        PF  \\\n",
      "0                  NFC East  NFC East  NFC East  NFC East  NFC East  NFC East   \n",
      "1           Dallas Cowboys*        12         5         0      .706       530   \n",
      "2      Philadelphia Eagles+         9         8         0      .529       444   \n",
      "3  Washington Football Team         7        10         0      .412       335   \n",
      "4           New York Giants         4        13         0      .235       258   \n",
      "\n",
      "         PA        PD       MoV       SoS       SRS      OSRS      DSRS  \n",
      "0  NFC East  NFC East  NFC East  NFC East  NFC East  NFC East  NFC East  \n",
      "1       358       172      10.1      -0.2       9.9       8.2       1.7  \n",
      "2       385        59       3.5      -1.0       2.5       2.6      -0.1  \n",
      "3       434       -99      -5.8       1.6      -4.2      -2.7      -1.5  \n",
      "4       416      -158      -9.3       1.0      -8.3      -7.7      -0.6  \n"
     ]
    }
   ],
   "source": [
    "import pandas as pd\n",
    "import requests\n",
    "from bs4 import BeautifulSoup\n",
    "\n",
    "# Send a GET request to the webpage URL\n",
    "url = 'https://www.pro-football-reference.com/years/2021/'\n",
    "response = requests.get(url)\n",
    "\n",
    "# Use BeautifulSoup to parse the HTML content\n",
    "soup = BeautifulSoup(response.content, 'html.parser')\n",
    "\n",
    "# Find all tables on the page\n",
    "tables = soup.find_all('table')\n",
    "\n",
    "# Extract the first two tables and convert them to dataframes\n",
    "df1 = pd.read_html(str(tables[0]))[0]\n",
    "df2 = pd.read_html(str(tables[1]))[0]\n",
    "\n",
    "# Print the first few rows of each dataframe\n",
    "print(df1.head())\n",
    "print(df2.head())"
   ]
  },
  {
   "cell_type": "code",
   "execution_count": null,
   "id": "6af1f8bf-d673-4514-98c1-9459d304e484",
   "metadata": {},
   "outputs": [],
   "source": []
  }
 ],
 "metadata": {
  "kernelspec": {
   "display_name": "Python 3 (ipykernel)",
   "language": "python",
   "name": "python3"
  },
  "language_info": {
   "codemirror_mode": {
    "name": "ipython",
    "version": 3
   },
   "file_extension": ".py",
   "mimetype": "text/x-python",
   "name": "python",
   "nbconvert_exporter": "python",
   "pygments_lexer": "ipython3",
   "version": "3.10.9"
  }
 },
 "nbformat": 4,
 "nbformat_minor": 5
}
