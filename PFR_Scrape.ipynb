{
 "cells": [
  {
   "cell_type": "code",
   "execution_count": null,
   "id": "76531f79-3a38-4cc7-8b2b-78de46ac6461",
   "metadata": {
    "tags": []
   },
   "outputs": [],
   "source": [
    "import requests\n",
    "from bs4 import BeautifulSoup\n",
    "import pandas as pd"
   ]
  },
  {
   "cell_type": "code",
   "execution_count": null,
   "id": "f6a39918-9d09-4f26-9edb-fc3f479988fd",
   "metadata": {
    "tags": []
   },
   "outputs": [],
   "source": [
    "class DataScraper:\n",
    "    def __init__(self, years):\n",
    "        self.years = years\n",
    "        self.player_urls = [f'https://www.pro-football-reference.com/years/{year}/fantasy.htm' for year in years]\n",
    "        self.team_url = 'https://www.pro-football-reference.com/years/{}/'\n",
    "\n",
    "    def scrape_data(self, urls):\n",
    "        data_frames = []\n",
    "        for url in urls:\n",
    "            year = url.split('/')[-2]  # Extract the year from the URL\n",
    "            response = requests.get(url)\n",
    "            soup = BeautifulSoup(response.text, 'html.parser')\n",
    "            tables = soup.find_all('table')\n",
    "\n",
    "            df_list = [pd.read_html(str(tables[i]))[0] for i in range(min(len(tables), 2))]\n",
    "            if df_list:\n",
    "                df = pd.concat(df_list)\n",
    "                df['Year'] = int(year)\n",
    "                \n",
    "                # Remove rows containing 'AFC' or 'NFC'\n",
    "                if 'Tm' in df.columns:\n",
    "                    df = df[~df['Tm'].str.startswith(('AFC', 'NFC'))]\n",
    "                \n",
    "                data_frames.append(df)\n",
    "\n",
    "        return pd.concat(data_frames, ignore_index=True)\n",
    "\n",
    "    def scrape_player_data(self):\n",
    "        return self.scrape_data(self.player_urls)\n",
    "\n",
    "    def scrape_team_data(self):\n",
    "        team_urls = [self.team_url.format(year) for year in self.years]\n",
    "        team_data = self.scrape_data(team_urls)\n",
    "        return team_data"
   ]
  },
  {
   "cell_type": "code",
   "execution_count": null,
   "id": "15adb6f8-2f27-472d-9a62-ccb839dcd9a9",
   "metadata": {
    "tags": []
   },
   "outputs": [],
   "source": [
    "class DataPreprocessor:\n",
    "    def __init__(self, data):\n",
    "        self.data = data\n",
    "\n",
    "    def flatten_multiindex_header(self):\n",
    "        level1 = self.data.columns.get_level_values(0)\n",
    "        level2 = self.data.columns.get_level_values(1)\n",
    "\n",
    "        # Count duplicates in level2\n",
    "        duplicates = level2.value_counts() > 1\n",
    "\n",
    "        # Create new column names\n",
    "        new_columns = []\n",
    "        for col_level1, col_level2 in zip(level1, level2):\n",
    "            if duplicates[col_level2]:\n",
    "                new_columns.append(f'{col_level1}_{col_level2}')\n",
    "            elif col_level2 == '':\n",
    "                new_columns.append(col_level1)\n",
    "            else:\n",
    "                new_columns.append(col_level2)\n",
    "\n",
    "        # Replace the MultiIndex header with the new flattened header\n",
    "        self.data.columns = new_columns\n",
    "        return self.data"
   ]
  },
  {
   "cell_type": "code",
   "execution_count": null,
   "id": "c24647df-4da1-4843-b9ae-3eb201c46176",
   "metadata": {
    "tags": []
   },
   "outputs": [],
   "source": [
    "    def handle_missing_values(self):\n",
    "        # Handle missing values by filling with an appropriate value (e.g., mean, median, mode) or dropping rows/columns\n",
    "\n",
    "    def feature_engineering(self):\n",
    "        # Create new features or modify existing ones based on domain knowledge\n",
    "\n",
    "    def feature_scaling(self):\n",
    "        # Scale numerical features to a standard range, e.g., using Min-Max scaling or StandardScaler from sklearn\n",
    "\n",
    "    def one_hot_encoding(self):\n",
    "        # One-hot encode categorical variables using pandas' get_dummies() method or OneHotEncoder from sklearn\n",
    "\n",
    "    def normalize_data(self):\n",
    "        # Normalize data to reduce the impact of outliers or skewed distributions, e.g., using log transformation or Box-Cox transformation\n",
    "\n",
    "    def preprocess_data(self):\n",
    "        # Call all preprocessing methods in the correct order"
   ]
  },
  {
   "cell_type": "code",
   "execution_count": null,
   "id": "14418c01-1a9f-4a1f-8b34-26be687ec41b",
   "metadata": {
    "tags": []
   },
   "outputs": [],
   "source": [
    "years = [2018, 2019, 2020, 2021]\n",
    "\n",
    "scraper = DataScraper(years)\n",
    "player_data = scraper.scrape_player_data()\n",
    "team_data = scraper.scrape_team_data()"
   ]
  },
  {
   "cell_type": "code",
   "execution_count": null,
   "id": "00d1ea17-493d-4baf-8fde-013a7d61b45a",
   "metadata": {
    "tags": []
   },
   "outputs": [],
   "source": [
    "player_preprocessor = DataPreprocessor(player_data)\n",
    "player_data = player_preprocessor.flatten_multiindex_header()"
   ]
  },
  {
   "cell_type": "code",
   "execution_count": null,
   "id": "14cae49a-28a6-42db-91f2-7745f5c998a9",
   "metadata": {
    "tags": []
   },
   "outputs": [],
   "source": [
    "print(player_data.head())\n",
    "print(team_data.head())"
   ]
  },
  {
   "cell_type": "code",
   "execution_count": null,
   "id": "61e9ab5b-a7d0-4930-b94d-dda3291b998f",
   "metadata": {
    "tags": []
   },
   "outputs": [],
   "source": [
    "team_data"
   ]
  },
  {
   "cell_type": "code",
   "execution_count": null,
   "id": "9db5e7a5-e940-41d8-b904-ffd71f0c6e4b",
   "metadata": {
    "tags": []
   },
   "outputs": [],
   "source": [
    "player_data"
   ]
  },
  {
   "cell_type": "code",
   "execution_count": null,
   "id": "81affbe5-857e-411a-8f2d-e90335009346",
   "metadata": {},
   "outputs": [],
   "source": []
  }
 ],
 "metadata": {
  "kernelspec": {
   "display_name": "Python 3 (ipykernel)",
   "language": "python",
   "name": "python3"
  },
  "language_info": {
   "codemirror_mode": {
    "name": "ipython",
    "version": 3
   },
   "file_extension": ".py",
   "mimetype": "text/x-python",
   "name": "python",
   "nbconvert_exporter": "python",
   "pygments_lexer": "ipython3",
   "version": "3.10.9"
  }
 },
 "nbformat": 4,
 "nbformat_minor": 5
}
