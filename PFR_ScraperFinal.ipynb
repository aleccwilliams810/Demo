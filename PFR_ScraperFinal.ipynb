{
 "cells": [
  {
   "cell_type": "code",
   "execution_count": 7,
   "id": "1170ea43-6d36-4d6e-82c6-d7b94e9cc445",
   "metadata": {
    "tags": []
   },
   "outputs": [],
   "source": [
    "import numpy as np\n",
    "import tensorflow as tf\n",
    "import pandas as pd\n",
    "from PFR_Scraper_fantasy_teams import DataScraper \n",
    "from PFR_Processor_fantasy_teams import DataPreprocessor, wrapper\n",
    "from PFR_Merger_fantasy_teams import MergeAndProcess"
   ]
  },
  {
   "cell_type": "code",
   "execution_count": 2,
   "id": "dfad3f74-ee43-4472-8489-5d53e381d911",
   "metadata": {
    "tags": []
   },
   "outputs": [],
   "source": [
    "years = list(range(2010, 2023))"
   ]
  },
  {
   "cell_type": "code",
   "execution_count": 3,
   "id": "a5788b32-9290-4750-a8f8-f9d585cda848",
   "metadata": {
    "tags": []
   },
   "outputs": [],
   "source": [
    "scraper = DataScraper(years)\n",
    "player_data = scraper.scrape_player_data()\n",
    "team_data = scraper.scrape_team_data()"
   ]
  },
  {
   "cell_type": "code",
   "execution_count": 4,
   "id": "0c37d779",
   "metadata": {
    "tags": []
   },
   "outputs": [
    {
     "name": "stderr",
     "output_type": "stream",
     "text": [
      "/Users/alecwilliams/Coding/GitHub/Practice/PFR_Processor_fantasy_teams.py:97: SettingWithCopyWarning: \n",
      "A value is trying to be set on a copy of a slice from a DataFrame.\n",
      "Try using .loc[row_indexer,col_indexer] = value instead\n",
      "\n",
      "See the caveats in the documentation: https://pandas.pydata.org/pandas-docs/stable/user_guide/indexing.html#returning-a-view-versus-a-copy\n",
      "  self.data[cols_to_fill] = self.data[cols_to_fill].fillna(0)\n",
      "/Users/alecwilliams/Coding/GitHub/Practice/PFR_Processor_fantasy_teams.py:100: SettingWithCopyWarning: \n",
      "A value is trying to be set on a copy of a slice from a DataFrame\n",
      "\n",
      "See the caveats in the documentation: https://pandas.pydata.org/pandas-docs/stable/user_guide/indexing.html#returning-a-view-versus-a-copy\n",
      "  self.data.dropna(axis=0, thresh=len(self.data.columns) * thresh, inplace=True)\n",
      "/Users/alecwilliams/Coding/GitHub/Practice/PFR_Processor_fantasy_teams.py:104: SettingWithCopyWarning: \n",
      "A value is trying to be set on a copy of a slice from a DataFrame\n",
      "\n",
      "See the caveats in the documentation: https://pandas.pydata.org/pandas-docs/stable/user_guide/indexing.html#returning-a-view-versus-a-copy\n",
      "  self.data.dropna(subset=['PPR'], inplace=True)\n",
      "/Users/alecwilliams/Coding/GitHub/Practice/PFR_Processor_fantasy_teams.py:97: SettingWithCopyWarning: \n",
      "A value is trying to be set on a copy of a slice from a DataFrame.\n",
      "Try using .loc[row_indexer,col_indexer] = value instead\n",
      "\n",
      "See the caveats in the documentation: https://pandas.pydata.org/pandas-docs/stable/user_guide/indexing.html#returning-a-view-versus-a-copy\n",
      "  self.data[cols_to_fill] = self.data[cols_to_fill].fillna(0)\n",
      "/Users/alecwilliams/Coding/GitHub/Practice/PFR_Processor_fantasy_teams.py:100: SettingWithCopyWarning: \n",
      "A value is trying to be set on a copy of a slice from a DataFrame\n",
      "\n",
      "See the caveats in the documentation: https://pandas.pydata.org/pandas-docs/stable/user_guide/indexing.html#returning-a-view-versus-a-copy\n",
      "  self.data.dropna(axis=0, thresh=len(self.data.columns) * thresh, inplace=True)\n"
     ]
    }
   ],
   "source": [
    "player_preprocessor = DataPreprocessor(player_data)\n",
    "player_data = player_preprocessor.preprocess_data()\n",
    "team_preprocessor = DataPreprocessor(team_data)\n",
    "team_data = team_preprocessor.preprocess_data()"
   ]
  },
  {
   "cell_type": "code",
   "execution_count": 10,
   "id": "940895fe-aaba-4080-b6fd-cf8393079d83",
   "metadata": {
    "tags": []
   },
   "outputs": [
    {
     "name": "stderr",
     "output_type": "stream",
     "text": [
      "/Users/alecwilliams/Coding/GitHub/Practice/PFR_Merger_fantasy_teams.py:38: FutureWarning: The default value of regex will change from True to False in a future version.\n",
      "  merged_data['Player'] = merged_data['Player'].str.replace(r'[^\\w\\s]+', '')\n"
     ]
    }
   ],
   "source": [
    "# create instance of MergeAndProcess class\n",
    "merger = MergeAndProcess(player_data, team_data)\n",
    "\n",
    "# call process to merge and process data\n",
    "merged_data = merger.process()"
   ]
  },
  {
   "cell_type": "code",
   "execution_count": 11,
   "id": "91ff5a49-4be7-4a42-95b2-2ab592861f66",
   "metadata": {
    "tags": []
   },
   "outputs": [],
   "source": [
    "# Save the 'merged_data' DataFrame to a .csv file\n",
    "merged_data.to_csv('merged_data.csv', index=False)"
   ]
  },
  {
   "cell_type": "code",
   "execution_count": null,
   "id": "15ce50b1-a103-477c-a1d4-0cbfd119c135",
   "metadata": {},
   "outputs": [],
   "source": []
  }
 ],
 "metadata": {
  "kernelspec": {
   "display_name": "Python 3 (ipykernel)",
   "language": "python",
   "name": "python3"
  },
  "language_info": {
   "codemirror_mode": {
    "name": "ipython",
    "version": 3
   },
   "file_extension": ".py",
   "mimetype": "text/x-python",
   "name": "python",
   "nbconvert_exporter": "python",
   "pygments_lexer": "ipython3",
   "version": "3.10.9"
  }
 },
 "nbformat": 4,
 "nbformat_minor": 5
}
