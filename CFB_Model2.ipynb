{
 "cells": [
  {
   "cell_type": "code",
   "execution_count": 1,
   "id": "28a426a0-d29c-4731-9b03-30d01f747a2b",
   "metadata": {
    "tags": []
   },
   "outputs": [],
   "source": [
    "import cfbd\n",
    "import pandas as pd\n",
    "from sklearn.linear_model import LinearRegression\n",
    "from sklearn.model_selection import train_test_split\n",
    "from sklearn.metrics import mean_squared_error, r2_score"
   ]
  },
  {
   "cell_type": "code",
   "execution_count": 2,
   "id": "70fedac7-7af9-4bcd-94cf-7c84e73cc7b5",
   "metadata": {
    "tags": []
   },
   "outputs": [],
   "source": [
    "# Configuration\n",
    "configuration = cfbd.Configuration()\n",
    "configuration.api_key['Authorization'] = 'JOo7NPQiRwoWx1kDmv1VDiujh+ra/nfYLRGy0TVt2KhLM+Yiu6BpXOC7W4YtjBdq'\n",
    "configuration.api_key_prefix['Authorization'] = 'Bearer'"
   ]
  },
  {
   "cell_type": "code",
   "execution_count": 3,
   "id": "e0db51fd-a1d3-4872-83e8-99d5e7d4ea97",
   "metadata": {
    "tags": []
   },
   "outputs": [],
   "source": [
    "# Initialize API instances\n",
    "games_api_instance = cfbd.GamesApi(cfbd.ApiClient(configuration))\n",
    "stats_api_instance = cfbd.StatsApi(cfbd.ApiClient(configuration))"
   ]
  },
  {
   "cell_type": "code",
   "execution_count": 4,
   "id": "6f4ff44d-be6b-46ea-8709-e11bc138f96c",
   "metadata": {
    "tags": []
   },
   "outputs": [],
   "source": [
    "def fetch_games_data_for_years(start_year, end_year):\n",
    "    dataframes = {}\n",
    "    for year in range(start_year, end_year + 1):\n",
    "        games = games_api_instance.get_games(year=year)\n",
    "        big_12_games = [game for game in games if game.home_conference == 'Big 12' or game.away_conference == 'Big 12']\n",
    "        \n",
    "        game_data = pd.DataFrame.from_records(\n",
    "            [dict(game_id=game.id,\n",
    "                  year=game.season,\n",
    "                  home_team=game.home_team,\n",
    "                  away_team=game.away_team,\n",
    "                  home_points=game.home_points,\n",
    "                  away_points=game.away_points) for game in big_12_games]\n",
    "        )\n",
    "        dataframes[year] = game_data\n",
    "    return dataframes"
   ]
  },
  {
   "cell_type": "code",
   "execution_count": 5,
   "id": "5a9af5e5-e7f9-4c95-9982-b9553b191699",
   "metadata": {
    "tags": []
   },
   "outputs": [],
   "source": [
    "def fetch_big_12_teams(game_data):\n",
    "    big_12_teams = set()\n",
    "    for year, data in game_data.items():\n",
    "        big_12_teams.update(data['home_team'].unique())\n",
    "        big_12_teams.update(data['away_team'].unique())\n",
    "    return big_12_teams"
   ]
  },
  {
   "cell_type": "code",
   "execution_count": 6,
   "id": "db7145e2-8649-43a9-9be7-58137551d2e3",
   "metadata": {
    "tags": []
   },
   "outputs": [],
   "source": [
    "def fetch_advanced_team_stats_for_years(start_year, end_year, big_12_teams):\n",
    "    advanced_stats_data = {}\n",
    "    for year in range(start_year, end_year + 1):\n",
    "        advanced_stats = stats_api_instance.get_advanced_team_game_stats(year=year)\n",
    "        big_12_advanced_stats = [stat for stat in advanced_stats if stat.team in big_12_teams or stat.opponent in big_12_teams]\n",
    "\n",
    "        advanced_stats_data[year] = pd.DataFrame.from_records(\n",
    "            [dict(game_id=stat.game_id,\n",
    "                  team=stat.team,\n",
    "                  opponent=stat.opponent,\n",
    "                  line_yards_total=stat.offense.line_yards_total,\n",
    "                  second_level_yards_total=stat.offense.second_level_yards_total,\n",
    "                  open_field_yards_total=stat.offense.open_field_yards_total,\n",
    "                  total_points=stat.offense.total_ppa,\n",
    "                  total_plays=stat.offense.plays) for stat in big_12_advanced_stats]\n",
    "        )\n",
    "    return advanced_stats_data"
   ]
  },
  {
   "cell_type": "code",
   "execution_count": 7,
   "id": "f43e8473-92f6-45a3-8ab0-dc66aba49bab",
   "metadata": {
    "tags": []
   },
   "outputs": [],
   "source": [
    "# Fetch data\n",
    "years_data = fetch_games_data_for_years(2017, 2020)"
   ]
  },
  {
   "cell_type": "code",
   "execution_count": 8,
   "id": "408d70bf-ab68-4397-b6da-91b5e3de7cad",
   "metadata": {
    "tags": []
   },
   "outputs": [],
   "source": [
    "big_12_teams = fetch_big_12_teams(years_data)"
   ]
  },
  {
   "cell_type": "code",
   "execution_count": 9,
   "id": "0b10b94e-2fd6-4d76-b6f0-8e41389c2f56",
   "metadata": {
    "jupyter": {
     "source_hidden": true
    },
    "tags": []
   },
   "outputs": [],
   "source": [
    "advanced_stats_data = fetch_advanced_team_stats_for_years(2017, 2020, big_12_teams)"
   ]
  },
  {
   "cell_type": "code",
   "execution_count": null,
   "id": "015328d5-76a2-4715-8eee-5a6d971af031",
   "metadata": {
    "tags": []
   },
   "outputs": [],
   "source": [
    "# Combine data\n",
    "combined_data = pd.concat(years_data.values(), ignore_index=True)\n",
    "advanced_stats_combined = pd.concat(advanced_stats_data.values(), ignore_index=True)"
   ]
  },
  {
   "cell_type": "code",
   "execution_count": null,
   "id": "ed84087e-bad8-4ec5-b788-46f0bd6d9f98",
   "metadata": {
    "tags": []
   },
   "outputs": [],
   "source": [
    "# Calculate point differential and merge datasets\n",
    "calculate_point_differential(combined_data)\n",
    "combined_data_with_advanced_stats = combined_data.merge(advanced_stats_combined, left_on=['game_id', 'home_team'], right_on=['game_id', 'team'], how='inner')\n",
    "combined_data_with_advanced_stats.drop('team', axis=1, inplace=True)"
   ]
  },
  {
   "cell_type": "code",
   "execution_count": null,
   "id": "55e02386-7f10-428e-bd13-46624dafd173",
   "metadata": {
    "tags": []
   },
   "outputs": [],
   "source": [
    "# Prepare dataset for model training\n",
    "df = combined_data_with_advanced_stats.dropna()\n",
    "X = df[['line_yards_total', 'second_level_yards_total', 'open_field_yards_total', 'total_points', 'total_plays']]\n",
    "y = df['point_differential']\n",
    "X_train, X_test, y_train, y_test = train_test_split(X, y, test_size=0.2, random_state=0)"
   ]
  },
  {
   "cell_type": "code",
   "execution_count": null,
   "id": "6c8dceb8-bb0e-4bbd-8092-51d1e4cc2d60",
   "metadata": {
    "tags": []
   },
   "outputs": [],
   "source": [
    "# Train model\n",
    "model = LinearRegression()\n",
    "model.fit(X_train, y_train)"
   ]
  },
  {
   "cell_type": "code",
   "execution_count": null,
   "id": "324686f2-394e-4e95-852b-a281b7d98728",
   "metadata": {},
   "outputs": [],
   "source": []
  }
 ],
 "metadata": {
  "kernelspec": {
   "display_name": "Python 3 (ipykernel)",
   "language": "python",
   "name": "python3"
  },
  "language_info": {
   "codemirror_mode": {
    "name": "ipython",
    "version": 3
   },
   "file_extension": ".py",
   "mimetype": "text/x-python",
   "name": "python",
   "nbconvert_exporter": "python",
   "pygments_lexer": "ipython3",
   "version": "3.10.9"
  }
 },
 "nbformat": 4,
 "nbformat_minor": 5
}
